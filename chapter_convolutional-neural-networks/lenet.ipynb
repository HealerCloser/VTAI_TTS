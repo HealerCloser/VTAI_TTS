{
  "cells": [
    {
      "cell_type": "markdown",
      "id": "35f8933c",
      "metadata": {
        "id": "35f8933c"
      },
      "source": [
        "The following additional libraries are needed to run this\n",
        "notebook. Note that running on Colab is experimental, please report a Github\n",
        "issue if you have any problem."
      ]
    },
    {
      "cell_type": "code",
      "execution_count": 1,
      "id": "06193026",
      "metadata": {
        "colab": {
          "base_uri": "https://localhost:8080/"
        },
        "id": "06193026",
        "outputId": "111521d8-4bce-4612-9f09-330bbeb10585"
      },
      "outputs": [
        {
          "output_type": "stream",
          "name": "stdout",
          "text": [
            "Requirement already satisfied: d2l==1.0.3 in /usr/local/lib/python3.11/dist-packages (1.0.3)\n",
            "Requirement already satisfied: jupyter==1.0.0 in /usr/local/lib/python3.11/dist-packages (from d2l==1.0.3) (1.0.0)\n",
            "Requirement already satisfied: numpy==1.23.5 in /usr/local/lib/python3.11/dist-packages (from d2l==1.0.3) (1.23.5)\n",
            "Requirement already satisfied: matplotlib==3.7.2 in /usr/local/lib/python3.11/dist-packages (from d2l==1.0.3) (3.7.2)\n",
            "Requirement already satisfied: matplotlib-inline==0.1.6 in /usr/local/lib/python3.11/dist-packages (from d2l==1.0.3) (0.1.6)\n",
            "Requirement already satisfied: requests==2.31.0 in /usr/local/lib/python3.11/dist-packages (from d2l==1.0.3) (2.31.0)\n",
            "Requirement already satisfied: pandas==2.0.3 in /usr/local/lib/python3.11/dist-packages (from d2l==1.0.3) (2.0.3)\n",
            "Requirement already satisfied: scipy==1.10.1 in /usr/local/lib/python3.11/dist-packages (from d2l==1.0.3) (1.10.1)\n",
            "Requirement already satisfied: notebook in /usr/local/lib/python3.11/dist-packages (from jupyter==1.0.0->d2l==1.0.3) (6.5.7)\n",
            "Requirement already satisfied: qtconsole in /usr/local/lib/python3.11/dist-packages (from jupyter==1.0.0->d2l==1.0.3) (5.6.1)\n",
            "Requirement already satisfied: jupyter-console in /usr/local/lib/python3.11/dist-packages (from jupyter==1.0.0->d2l==1.0.3) (6.1.0)\n",
            "Requirement already satisfied: nbconvert in /usr/local/lib/python3.11/dist-packages (from jupyter==1.0.0->d2l==1.0.3) (7.16.6)\n",
            "Requirement already satisfied: ipykernel in /usr/local/lib/python3.11/dist-packages (from jupyter==1.0.0->d2l==1.0.3) (6.17.1)\n",
            "Requirement already satisfied: ipywidgets in /usr/local/lib/python3.11/dist-packages (from jupyter==1.0.0->d2l==1.0.3) (7.7.1)\n",
            "Requirement already satisfied: contourpy>=1.0.1 in /usr/local/lib/python3.11/dist-packages (from matplotlib==3.7.2->d2l==1.0.3) (1.3.2)\n",
            "Requirement already satisfied: cycler>=0.10 in /usr/local/lib/python3.11/dist-packages (from matplotlib==3.7.2->d2l==1.0.3) (0.12.1)\n",
            "Requirement already satisfied: fonttools>=4.22.0 in /usr/local/lib/python3.11/dist-packages (from matplotlib==3.7.2->d2l==1.0.3) (4.59.0)\n",
            "Requirement already satisfied: kiwisolver>=1.0.1 in /usr/local/lib/python3.11/dist-packages (from matplotlib==3.7.2->d2l==1.0.3) (1.4.8)\n",
            "Requirement already satisfied: packaging>=20.0 in /usr/local/lib/python3.11/dist-packages (from matplotlib==3.7.2->d2l==1.0.3) (25.0)\n",
            "Requirement already satisfied: pillow>=6.2.0 in /usr/local/lib/python3.11/dist-packages (from matplotlib==3.7.2->d2l==1.0.3) (11.3.0)\n",
            "Requirement already satisfied: pyparsing<3.1,>=2.3.1 in /usr/local/lib/python3.11/dist-packages (from matplotlib==3.7.2->d2l==1.0.3) (3.0.9)\n",
            "Requirement already satisfied: python-dateutil>=2.7 in /usr/local/lib/python3.11/dist-packages (from matplotlib==3.7.2->d2l==1.0.3) (2.9.0.post0)\n",
            "Requirement already satisfied: traitlets in /usr/local/lib/python3.11/dist-packages (from matplotlib-inline==0.1.6->d2l==1.0.3) (5.7.1)\n",
            "Requirement already satisfied: pytz>=2020.1 in /usr/local/lib/python3.11/dist-packages (from pandas==2.0.3->d2l==1.0.3) (2025.2)\n",
            "Requirement already satisfied: tzdata>=2022.1 in /usr/local/lib/python3.11/dist-packages (from pandas==2.0.3->d2l==1.0.3) (2025.2)\n",
            "Requirement already satisfied: charset-normalizer<4,>=2 in /usr/local/lib/python3.11/dist-packages (from requests==2.31.0->d2l==1.0.3) (3.4.2)\n",
            "Requirement already satisfied: idna<4,>=2.5 in /usr/local/lib/python3.11/dist-packages (from requests==2.31.0->d2l==1.0.3) (3.10)\n",
            "Requirement already satisfied: urllib3<3,>=1.21.1 in /usr/local/lib/python3.11/dist-packages (from requests==2.31.0->d2l==1.0.3) (2.5.0)\n",
            "Requirement already satisfied: certifi>=2017.4.17 in /usr/local/lib/python3.11/dist-packages (from requests==2.31.0->d2l==1.0.3) (2025.7.14)\n",
            "Requirement already satisfied: six>=1.5 in /usr/local/lib/python3.11/dist-packages (from python-dateutil>=2.7->matplotlib==3.7.2->d2l==1.0.3) (1.17.0)\n",
            "Requirement already satisfied: debugpy>=1.0 in /usr/local/lib/python3.11/dist-packages (from ipykernel->jupyter==1.0.0->d2l==1.0.3) (1.8.15)\n",
            "Requirement already satisfied: ipython>=7.23.1 in /usr/local/lib/python3.11/dist-packages (from ipykernel->jupyter==1.0.0->d2l==1.0.3) (7.34.0)\n",
            "Requirement already satisfied: jupyter-client>=6.1.12 in /usr/local/lib/python3.11/dist-packages (from ipykernel->jupyter==1.0.0->d2l==1.0.3) (6.1.12)\n",
            "Requirement already satisfied: nest-asyncio in /usr/local/lib/python3.11/dist-packages (from ipykernel->jupyter==1.0.0->d2l==1.0.3) (1.6.0)\n",
            "Requirement already satisfied: psutil in /usr/local/lib/python3.11/dist-packages (from ipykernel->jupyter==1.0.0->d2l==1.0.3) (5.9.5)\n",
            "Requirement already satisfied: pyzmq>=17 in /usr/local/lib/python3.11/dist-packages (from ipykernel->jupyter==1.0.0->d2l==1.0.3) (26.2.1)\n",
            "Requirement already satisfied: tornado>=6.1 in /usr/local/lib/python3.11/dist-packages (from ipykernel->jupyter==1.0.0->d2l==1.0.3) (6.4.2)\n",
            "Requirement already satisfied: ipython-genutils~=0.2.0 in /usr/local/lib/python3.11/dist-packages (from ipywidgets->jupyter==1.0.0->d2l==1.0.3) (0.2.0)\n",
            "Requirement already satisfied: widgetsnbextension~=3.6.0 in /usr/local/lib/python3.11/dist-packages (from ipywidgets->jupyter==1.0.0->d2l==1.0.3) (3.6.10)\n",
            "Requirement already satisfied: jupyterlab-widgets>=1.0.0 in /usr/local/lib/python3.11/dist-packages (from ipywidgets->jupyter==1.0.0->d2l==1.0.3) (3.0.15)\n",
            "Requirement already satisfied: prompt-toolkit!=3.0.0,!=3.0.1,<3.1.0,>=2.0.0 in /usr/local/lib/python3.11/dist-packages (from jupyter-console->jupyter==1.0.0->d2l==1.0.3) (3.0.51)\n",
            "Requirement already satisfied: pygments in /usr/local/lib/python3.11/dist-packages (from jupyter-console->jupyter==1.0.0->d2l==1.0.3) (2.19.2)\n",
            "Requirement already satisfied: beautifulsoup4 in /usr/local/lib/python3.11/dist-packages (from nbconvert->jupyter==1.0.0->d2l==1.0.3) (4.13.4)\n",
            "Requirement already satisfied: bleach!=5.0.0 in /usr/local/lib/python3.11/dist-packages (from bleach[css]!=5.0.0->nbconvert->jupyter==1.0.0->d2l==1.0.3) (6.2.0)\n",
            "Requirement already satisfied: defusedxml in /usr/local/lib/python3.11/dist-packages (from nbconvert->jupyter==1.0.0->d2l==1.0.3) (0.7.1)\n",
            "Requirement already satisfied: jinja2>=3.0 in /usr/local/lib/python3.11/dist-packages (from nbconvert->jupyter==1.0.0->d2l==1.0.3) (3.1.6)\n",
            "Requirement already satisfied: jupyter-core>=4.7 in /usr/local/lib/python3.11/dist-packages (from nbconvert->jupyter==1.0.0->d2l==1.0.3) (5.8.1)\n",
            "Requirement already satisfied: jupyterlab-pygments in /usr/local/lib/python3.11/dist-packages (from nbconvert->jupyter==1.0.0->d2l==1.0.3) (0.3.0)\n",
            "Requirement already satisfied: markupsafe>=2.0 in /usr/local/lib/python3.11/dist-packages (from nbconvert->jupyter==1.0.0->d2l==1.0.3) (3.0.2)\n",
            "Requirement already satisfied: mistune<4,>=2.0.3 in /usr/local/lib/python3.11/dist-packages (from nbconvert->jupyter==1.0.0->d2l==1.0.3) (3.1.3)\n",
            "Requirement already satisfied: nbclient>=0.5.0 in /usr/local/lib/python3.11/dist-packages (from nbconvert->jupyter==1.0.0->d2l==1.0.3) (0.10.2)\n",
            "Requirement already satisfied: nbformat>=5.7 in /usr/local/lib/python3.11/dist-packages (from nbconvert->jupyter==1.0.0->d2l==1.0.3) (5.10.4)\n",
            "Requirement already satisfied: pandocfilters>=1.4.1 in /usr/local/lib/python3.11/dist-packages (from nbconvert->jupyter==1.0.0->d2l==1.0.3) (1.5.1)\n",
            "Requirement already satisfied: argon2-cffi in /usr/local/lib/python3.11/dist-packages (from notebook->jupyter==1.0.0->d2l==1.0.3) (25.1.0)\n",
            "Requirement already satisfied: Send2Trash>=1.8.0 in /usr/local/lib/python3.11/dist-packages (from notebook->jupyter==1.0.0->d2l==1.0.3) (1.8.3)\n",
            "Requirement already satisfied: terminado>=0.8.3 in /usr/local/lib/python3.11/dist-packages (from notebook->jupyter==1.0.0->d2l==1.0.3) (0.18.1)\n",
            "Requirement already satisfied: prometheus-client in /usr/local/lib/python3.11/dist-packages (from notebook->jupyter==1.0.0->d2l==1.0.3) (0.22.1)\n",
            "Requirement already satisfied: nbclassic>=0.4.7 in /usr/local/lib/python3.11/dist-packages (from notebook->jupyter==1.0.0->d2l==1.0.3) (1.3.1)\n",
            "Requirement already satisfied: qtpy>=2.4.0 in /usr/local/lib/python3.11/dist-packages (from qtconsole->jupyter==1.0.0->d2l==1.0.3) (2.4.3)\n",
            "Requirement already satisfied: webencodings in /usr/local/lib/python3.11/dist-packages (from bleach!=5.0.0->bleach[css]!=5.0.0->nbconvert->jupyter==1.0.0->d2l==1.0.3) (0.5.1)\n",
            "Requirement already satisfied: tinycss2<1.5,>=1.1.0 in /usr/local/lib/python3.11/dist-packages (from bleach[css]!=5.0.0->nbconvert->jupyter==1.0.0->d2l==1.0.3) (1.4.0)\n",
            "Requirement already satisfied: setuptools>=18.5 in /usr/local/lib/python3.11/dist-packages (from ipython>=7.23.1->ipykernel->jupyter==1.0.0->d2l==1.0.3) (75.2.0)\n",
            "Requirement already satisfied: jedi>=0.16 in /usr/local/lib/python3.11/dist-packages (from ipython>=7.23.1->ipykernel->jupyter==1.0.0->d2l==1.0.3) (0.19.2)\n",
            "Requirement already satisfied: decorator in /usr/local/lib/python3.11/dist-packages (from ipython>=7.23.1->ipykernel->jupyter==1.0.0->d2l==1.0.3) (4.4.2)\n",
            "Requirement already satisfied: pickleshare in /usr/local/lib/python3.11/dist-packages (from ipython>=7.23.1->ipykernel->jupyter==1.0.0->d2l==1.0.3) (0.7.5)\n",
            "Requirement already satisfied: backcall in /usr/local/lib/python3.11/dist-packages (from ipython>=7.23.1->ipykernel->jupyter==1.0.0->d2l==1.0.3) (0.2.0)\n",
            "Requirement already satisfied: pexpect>4.3 in /usr/local/lib/python3.11/dist-packages (from ipython>=7.23.1->ipykernel->jupyter==1.0.0->d2l==1.0.3) (4.9.0)\n",
            "Requirement already satisfied: platformdirs>=2.5 in /usr/local/lib/python3.11/dist-packages (from jupyter-core>=4.7->nbconvert->jupyter==1.0.0->d2l==1.0.3) (4.3.8)\n",
            "Requirement already satisfied: notebook-shim>=0.2.3 in /usr/local/lib/python3.11/dist-packages (from nbclassic>=0.4.7->notebook->jupyter==1.0.0->d2l==1.0.3) (0.2.4)\n",
            "Requirement already satisfied: fastjsonschema>=2.15 in /usr/local/lib/python3.11/dist-packages (from nbformat>=5.7->nbconvert->jupyter==1.0.0->d2l==1.0.3) (2.21.1)\n",
            "Requirement already satisfied: jsonschema>=2.6 in /usr/local/lib/python3.11/dist-packages (from nbformat>=5.7->nbconvert->jupyter==1.0.0->d2l==1.0.3) (4.25.0)\n",
            "Requirement already satisfied: wcwidth in /usr/local/lib/python3.11/dist-packages (from prompt-toolkit!=3.0.0,!=3.0.1,<3.1.0,>=2.0.0->jupyter-console->jupyter==1.0.0->d2l==1.0.3) (0.2.13)\n",
            "Requirement already satisfied: ptyprocess in /usr/local/lib/python3.11/dist-packages (from terminado>=0.8.3->notebook->jupyter==1.0.0->d2l==1.0.3) (0.7.0)\n",
            "Requirement already satisfied: argon2-cffi-bindings in /usr/local/lib/python3.11/dist-packages (from argon2-cffi->notebook->jupyter==1.0.0->d2l==1.0.3) (21.2.0)\n",
            "Requirement already satisfied: soupsieve>1.2 in /usr/local/lib/python3.11/dist-packages (from beautifulsoup4->nbconvert->jupyter==1.0.0->d2l==1.0.3) (2.7)\n",
            "Requirement already satisfied: typing-extensions>=4.0.0 in /usr/local/lib/python3.11/dist-packages (from beautifulsoup4->nbconvert->jupyter==1.0.0->d2l==1.0.3) (4.14.1)\n",
            "Requirement already satisfied: parso<0.9.0,>=0.8.4 in /usr/local/lib/python3.11/dist-packages (from jedi>=0.16->ipython>=7.23.1->ipykernel->jupyter==1.0.0->d2l==1.0.3) (0.8.4)\n",
            "Requirement already satisfied: attrs>=22.2.0 in /usr/local/lib/python3.11/dist-packages (from jsonschema>=2.6->nbformat>=5.7->nbconvert->jupyter==1.0.0->d2l==1.0.3) (25.3.0)\n",
            "Requirement already satisfied: jsonschema-specifications>=2023.03.6 in /usr/local/lib/python3.11/dist-packages (from jsonschema>=2.6->nbformat>=5.7->nbconvert->jupyter==1.0.0->d2l==1.0.3) (2025.4.1)\n",
            "Requirement already satisfied: referencing>=0.28.4 in /usr/local/lib/python3.11/dist-packages (from jsonschema>=2.6->nbformat>=5.7->nbconvert->jupyter==1.0.0->d2l==1.0.3) (0.36.2)\n",
            "Requirement already satisfied: rpds-py>=0.7.1 in /usr/local/lib/python3.11/dist-packages (from jsonschema>=2.6->nbformat>=5.7->nbconvert->jupyter==1.0.0->d2l==1.0.3) (0.26.0)\n",
            "Requirement already satisfied: jupyter-server<3,>=1.8 in /usr/local/lib/python3.11/dist-packages (from notebook-shim>=0.2.3->nbclassic>=0.4.7->notebook->jupyter==1.0.0->d2l==1.0.3) (1.16.0)\n",
            "Requirement already satisfied: cffi>=1.0.1 in /usr/local/lib/python3.11/dist-packages (from argon2-cffi-bindings->argon2-cffi->notebook->jupyter==1.0.0->d2l==1.0.3) (1.17.1)\n",
            "Requirement already satisfied: pycparser in /usr/local/lib/python3.11/dist-packages (from cffi>=1.0.1->argon2-cffi-bindings->argon2-cffi->notebook->jupyter==1.0.0->d2l==1.0.3) (2.22)\n",
            "Requirement already satisfied: anyio>=3.1.0 in /usr/local/lib/python3.11/dist-packages (from jupyter-server<3,>=1.8->notebook-shim>=0.2.3->nbclassic>=0.4.7->notebook->jupyter==1.0.0->d2l==1.0.3) (4.9.0)\n",
            "Requirement already satisfied: websocket-client in /usr/local/lib/python3.11/dist-packages (from jupyter-server<3,>=1.8->notebook-shim>=0.2.3->nbclassic>=0.4.7->notebook->jupyter==1.0.0->d2l==1.0.3) (1.8.0)\n",
            "Requirement already satisfied: sniffio>=1.1 in /usr/local/lib/python3.11/dist-packages (from anyio>=3.1.0->jupyter-server<3,>=1.8->notebook-shim>=0.2.3->nbclassic>=0.4.7->notebook->jupyter==1.0.0->d2l==1.0.3) (1.3.1)\n"
          ]
        }
      ],
      "source": [
        "!pip install d2l==1.0.3\n"
      ]
    },
    {
      "cell_type": "markdown",
      "id": "919d4913",
      "metadata": {
        "origin_pos": 1,
        "id": "919d4913"
      },
      "source": [
        "# Convolutional Neural Networks (LeNet)\n",
        ":label:`sec_lenet`\n",
        "\n",
        "We now have all the ingredients required to assemble\n",
        "a fully-functional CNN.\n",
        "In our earlier encounter with image data, we applied\n",
        "a linear model with softmax regression (:numref:`sec_softmax_scratch`)\n",
        "and an MLP (:numref:`sec_mlp-implementation`)\n",
        "to pictures of clothing in the Fashion-MNIST dataset.\n",
        "To make such data amenable we first flattened each image from a $28\\times28$ matrix\n",
        "into a fixed-length $784$-dimensional vector,\n",
        "and thereafter processed them in fully connected layers.\n",
        "Now that we have a handle on convolutional layers,\n",
        "we can retain the spatial structure in our images.\n",
        "As an additional benefit of replacing fully connected layers with convolutional layers,\n",
        "we will enjoy more parsimonious models that require far fewer parameters.\n",
        "\n",
        "In this section, we will introduce *LeNet*,\n",
        "among the first published CNNs\n",
        "to capture wide attention for its performance on computer vision tasks.\n",
        "The model was introduced by (and named for) Yann LeCun,\n",
        "then a researcher at AT&T Bell Labs,\n",
        "for the purpose of recognizing handwritten digits in images :cite:`LeCun.Bottou.Bengio.ea.1998`.\n",
        "This work represented the culmination\n",
        "of a decade of research developing the technology;\n",
        "LeCun's team published the first study to successfully\n",
        "train CNNs via backpropagation :cite:`LeCun.Boser.Denker.ea.1989`.\n",
        "\n",
        "At the time LeNet achieved outstanding results\n",
        "matching the performance of support vector machines,\n",
        "then a dominant approach in supervised learning, achieving an error rate of less than 1% per digit.\n",
        "LeNet was eventually adapted to recognize digits\n",
        "for processing deposits in ATM machines.\n",
        "To this day, some ATMs still run the code\n",
        "that Yann LeCun and his colleague Leon Bottou wrote in the 1990s!\n"
      ]
    },
    {
      "cell_type": "code",
      "execution_count": 17,
      "id": "08e44e08",
      "metadata": {
        "execution": {
          "iopub.execute_input": "2023-08-18T19:57:49.669910Z",
          "iopub.status.busy": "2023-08-18T19:57:49.669347Z",
          "iopub.status.idle": "2023-08-18T19:57:53.053954Z",
          "shell.execute_reply": "2023-08-18T19:57:53.052649Z"
        },
        "origin_pos": 3,
        "tab": [
          "pytorch"
        ],
        "id": "08e44e08"
      },
      "outputs": [],
      "source": [
        "import torch\n",
        "from torch import nn\n",
        "from d2l import torch as d2l\n",
        "from torchvision import transforms\n",
        "from torchvision import datasets, transforms\n",
        "from torch.utils.data import DataLoader\n",
        "\n",
        "class CustomMNIST(d2l.DataModule):\n",
        "    def __init__(self, batch_size=64, root=\"../data\"):\n",
        "        super().__init__()\n",
        "        self.save_hyperparameters()\n",
        "        transform = transforms.ToTensor()\n",
        "        self.train = datasets.MNIST(root=root, train=True, download=True, transform=transform)\n",
        "        self.val = datasets.MNIST(root=root, train=False, download=True, transform=transform)\n",
        "\n",
        "    def get_dataloader(self, train):\n",
        "        data = self.train if train else self.val\n",
        "        return DataLoader(data, self.batch_size, shuffle=train)"
      ]
    },
    {
      "cell_type": "markdown",
      "id": "2e5bc270",
      "metadata": {
        "origin_pos": 6,
        "id": "2e5bc270"
      },
      "source": [
        "## LeNet\n",
        "\n",
        "At a high level, (**LeNet (LeNet-5) consists of two parts:\n",
        "(i) a convolutional encoder consisting of two convolutional layers; and\n",
        "(ii) a dense block consisting of three fully connected layers**).\n",
        "The architecture is summarized in :numref:`img_lenet`.\n",
        "\n",
        "![Data flow in LeNet. The input is a handwritten digit, the output is a probability over 10 possible outcomes.](http://d2l.ai/_images/lenet.svg)\n",
        ":label:`img_lenet`\n",
        "\n",
        "The basic units in each convolutional block\n",
        "are a convolutional layer, a sigmoid activation function,\n",
        "and a subsequent average pooling operation.\n",
        "Note that while ReLUs and max-pooling work better,\n",
        "they had not yet been discovered.\n",
        "Each convolutional layer uses a $5\\times 5$ kernel\n",
        "and a sigmoid activation function.\n",
        "These layers map spatially arranged inputs\n",
        "to a number of two-dimensional feature maps, typically\n",
        "increasing the number of channels.\n",
        "The first convolutional layer has 6 output channels,\n",
        "while the second has 16.\n",
        "Each $2\\times2$ pooling operation (stride 2)\n",
        "reduces dimensionality by a factor of $4$ via spatial downsampling.\n",
        "The convolutional block emits an output with shape given by\n",
        "(batch size, number of channel, height, width).\n",
        "\n",
        "In order to pass output from the convolutional block\n",
        "to the dense block,\n",
        "we must flatten each example in the minibatch.\n",
        "In other words, we take this four-dimensional input and transform it\n",
        "into the two-dimensional input expected by fully connected layers:\n",
        "as a reminder, the two-dimensional representation that we desire uses the first dimension to index examples in the minibatch\n",
        "and the second to give the flat vector representation of each example.\n",
        "LeNet's dense block has three fully connected layers,\n",
        "with 120, 84, and 10 outputs, respectively.\n",
        "Because we are still performing classification,\n",
        "the 10-dimensional output layer corresponds\n",
        "to the number of possible output classes.\n",
        "\n",
        "While getting to the point where you truly understand\n",
        "what is going on inside LeNet may have taken a bit of work,\n",
        "we hope that the following code snippet will convince you\n",
        "that implementing such models with modern deep learning frameworks\n",
        "is remarkably simple.\n",
        "We need only to instantiate a `Sequential` block\n",
        "and chain together the appropriate layers,\n",
        "using Xavier initialization as\n",
        "introduced in :numref:`subsec_xavier`.\n"
      ]
    },
    {
      "cell_type": "code",
      "execution_count": 3,
      "id": "5cd242a5",
      "metadata": {
        "execution": {
          "iopub.execute_input": "2023-08-18T19:57:53.059640Z",
          "iopub.status.busy": "2023-08-18T19:57:53.058558Z",
          "iopub.status.idle": "2023-08-18T19:57:53.066072Z",
          "shell.execute_reply": "2023-08-18T19:57:53.064963Z"
        },
        "origin_pos": 7,
        "tab": [
          "pytorch"
        ],
        "id": "5cd242a5"
      },
      "outputs": [],
      "source": [
        "def init_cnn(module):\n",
        "    \"\"\"Initialize weights for CNNs.\"\"\"\n",
        "    if type(module) == nn.Linear or type(module) == nn.Conv2d:\n",
        "        nn.init.xavier_uniform_(module.weight)"
      ]
    },
    {
      "cell_type": "code",
      "execution_count": 9,
      "id": "20dc7869",
      "metadata": {
        "execution": {
          "iopub.execute_input": "2023-08-18T19:57:53.070462Z",
          "iopub.status.busy": "2023-08-18T19:57:53.069656Z",
          "iopub.status.idle": "2023-08-18T19:57:53.078800Z",
          "shell.execute_reply": "2023-08-18T19:57:53.077655Z"
        },
        "origin_pos": 8,
        "tab": [
          "pytorch"
        ],
        "id": "20dc7869"
      },
      "outputs": [],
      "source": [
        "class DeeperLeNet(d2l.Classifier):\n",
        "    def __init__(self, lr=0.05, num_classes=10):\n",
        "        super().__init__()\n",
        "        self.save_hyperparameters()\n",
        "        self.net = nn.Sequential(\n",
        "            nn.LazyConv2d(32, kernel_size=3, padding=1), nn.ReLU(),\n",
        "            nn.LazyConv2d(64, kernel_size=3, padding=1), nn.ReLU(),\n",
        "            nn.MaxPool2d(kernel_size=2, stride=2),\n",
        "            nn.LazyConv2d(128, kernel_size=3), nn.ReLU(),\n",
        "            nn.MaxPool2d(kernel_size=2, stride=2),\n",
        "            nn.Flatten(),\n",
        "            nn.LazyLinear(256), nn.ReLU(),\n",
        "            nn.LazyLinear(128), nn.ReLU(),\n",
        "            nn.LazyLinear(num_classes)\n",
        "        )\n"
      ]
    },
    {
      "cell_type": "markdown",
      "id": "084d8710",
      "metadata": {
        "origin_pos": 10,
        "id": "084d8710"
      },
      "source": [
        "We have taken some liberty in the reproduction of LeNet insofar as we have replaced the Gaussian activation layer by\n",
        "a softmax layer. This greatly simplifies the implementation, not least due to the\n",
        "fact that the Gaussian decoder is rarely used nowadays. Other than that, this network matches\n",
        "the original LeNet-5 architecture.\n"
      ]
    },
    {
      "cell_type": "markdown",
      "id": "54aac677",
      "metadata": {
        "origin_pos": 11,
        "tab": [
          "pytorch"
        ],
        "id": "54aac677"
      },
      "source": [
        "Let's see what happens inside the network. By passing a\n",
        "single-channel (black and white)\n",
        "$28 \\times 28$ image through the network\n",
        "and printing the output shape at each layer,\n",
        "we can [**inspect the model**] to ensure\n",
        "that its operations line up with\n",
        "what we expect from :numref:`img_lenet_vert`.\n"
      ]
    },
    {
      "cell_type": "markdown",
      "id": "9e7befc6",
      "metadata": {
        "origin_pos": 13,
        "id": "9e7befc6"
      },
      "source": [
        "![Compressed notation for LeNet-5.](https://github.com/d2l-ai/d2l-pytorch-colab/blob/master/img/lenet-vert.svg?raw=1)\n",
        ":label:`img_lenet_vert`\n"
      ]
    },
    {
      "cell_type": "code",
      "execution_count": 14,
      "id": "8f2c67b9",
      "metadata": {
        "execution": {
          "iopub.execute_input": "2023-08-18T19:57:53.083550Z",
          "iopub.status.busy": "2023-08-18T19:57:53.082696Z",
          "iopub.status.idle": "2023-08-18T19:57:53.135302Z",
          "shell.execute_reply": "2023-08-18T19:57:53.134064Z"
        },
        "origin_pos": 14,
        "tab": [
          "pytorch"
        ],
        "colab": {
          "base_uri": "https://localhost:8080/"
        },
        "id": "8f2c67b9",
        "outputId": "62a589b5-e008-4a0d-cb93-b61e3d7257fc"
      },
      "outputs": [
        {
          "output_type": "stream",
          "name": "stdout",
          "text": [
            "Conv2d output shape:\t torch.Size([1, 6, 28, 28])\n",
            "Sigmoid output shape:\t torch.Size([1, 6, 28, 28])\n",
            "AvgPool2d output shape:\t torch.Size([1, 6, 14, 14])\n",
            "Conv2d output shape:\t torch.Size([1, 16, 10, 10])\n",
            "Sigmoid output shape:\t torch.Size([1, 16, 10, 10])\n",
            "AvgPool2d output shape:\t torch.Size([1, 16, 5, 5])\n",
            "Flatten output shape:\t torch.Size([1, 400])\n",
            "Linear output shape:\t torch.Size([1, 120])\n",
            "Sigmoid output shape:\t torch.Size([1, 120])\n",
            "Linear output shape:\t torch.Size([1, 84])\n",
            "Sigmoid output shape:\t torch.Size([1, 84])\n",
            "Linear output shape:\t torch.Size([1, 10])\n"
          ]
        }
      ],
      "source": [
        "@d2l.add_to_class(d2l.Classifier)\n",
        "def layer_summary(self, X_shape):\n",
        "    X = torch.randn(*X_shape)\n",
        "    for layer in self.net:\n",
        "        X = layer(X)\n",
        "        print(layer.__class__.__name__, 'output shape:\\t', X.shape)\n",
        "\n",
        "model = LeNet()\n",
        "model.layer_summary((1, 1, 28, 28))"
      ]
    },
    {
      "cell_type": "markdown",
      "id": "a30a6b0f",
      "metadata": {
        "origin_pos": 17,
        "id": "a30a6b0f"
      },
      "source": [
        "Note that the height and width of the representation\n",
        "at each layer throughout the convolutional block\n",
        "is reduced (compared with the previous layer).\n",
        "The first convolutional layer uses two pixels of padding\n",
        "to compensate for the reduction in height and width\n",
        "that would otherwise result from using a $5 \\times 5$ kernel.\n",
        "As an aside, the image size of $28 \\times 28$ pixels in the original\n",
        "MNIST OCR dataset is a result of *trimming* two pixel rows (and columns) from the\n",
        "original scans that measured $32 \\times 32$ pixels. This was done primarily to\n",
        "save space (a 30% reduction) at a time when megabytes mattered.\n",
        "\n",
        "In contrast, the second convolutional layer forgoes padding,\n",
        "and thus the height and width are both reduced by four pixels.\n",
        "As we go up the stack of layers,\n",
        "the number of channels increases layer-over-layer\n",
        "from 1 in the input to 6 after the first convolutional layer\n",
        "and 16 after the second convolutional layer.\n",
        "However, each pooling layer halves the height and width.\n",
        "Finally, each fully connected layer reduces dimensionality,\n",
        "finally emitting an output whose dimension\n",
        "matches the number of classes.\n",
        "\n",
        "\n",
        "## Training\n",
        "\n",
        "Now that we have implemented the model,\n",
        "let's [**run an experiment to see how the LeNet-5 model fares on Fashion-MNIST**].\n",
        "\n",
        "While CNNs have fewer parameters,\n",
        "they can still be more expensive to compute\n",
        "than similarly deep MLPs\n",
        "because each parameter participates in many more\n",
        "multiplications.\n",
        "If you have access to a GPU, this might be a good time\n",
        "to put it into action to speed up training.\n",
        "Note that\n",
        "the `d2l.Trainer` class takes care of all details.\n",
        "By default, it initializes the model parameters on the\n",
        "available devices.\n",
        "Just as with MLPs, our loss function is cross-entropy,\n",
        "and we minimize it via minibatch stochastic gradient descent.\n"
      ]
    },
    {
      "cell_type": "code",
      "execution_count": 18,
      "id": "8f82d79c",
      "metadata": {
        "execution": {
          "iopub.execute_input": "2023-08-18T19:57:53.139574Z",
          "iopub.status.busy": "2023-08-18T19:57:53.139010Z",
          "iopub.status.idle": "2023-08-18T19:58:55.458380Z",
          "shell.execute_reply": "2023-08-18T19:58:55.457425Z"
        },
        "origin_pos": 18,
        "tab": [
          "pytorch"
        ],
        "colab": {
          "base_uri": "https://localhost:8080/",
          "height": 265
        },
        "id": "8f82d79c",
        "outputId": "f8afcfe2-d4ac-412f-be65-71f8d807e6ab"
      },
      "outputs": [
        {
          "output_type": "display_data",
          "data": {
            "text/plain": [
              "<Figure size 350x250 with 1 Axes>"
            ],
            "image/svg+xml": "<?xml version=\"1.0\" encoding=\"utf-8\" standalone=\"no\"?>\n<!DOCTYPE svg PUBLIC \"-//W3C//DTD SVG 1.1//EN\"\n  \"http://www.w3.org/Graphics/SVG/1.1/DTD/svg11.dtd\">\n<svg xmlns:xlink=\"http://www.w3.org/1999/xlink\" width=\"238.965625pt\" height=\"183.35625pt\" viewBox=\"0 0 238.965625 183.35625\" xmlns=\"http://www.w3.org/2000/svg\" version=\"1.1\">\n <metadata>\n  <rdf:RDF xmlns:dc=\"http://purl.org/dc/elements/1.1/\" xmlns:cc=\"http://creativecommons.org/ns#\" xmlns:rdf=\"http://www.w3.org/1999/02/22-rdf-syntax-ns#\">\n   <cc:Work>\n    <dc:type rdf:resource=\"http://purl.org/dc/dcmitype/StillImage\"/>\n    <dc:date>2025-08-01T08:09:31.511137</dc:date>\n    <dc:format>image/svg+xml</dc:format>\n    <dc:creator>\n     <cc:Agent>\n      <dc:title>Matplotlib v3.7.2, https://matplotlib.org/</dc:title>\n     </cc:Agent>\n    </dc:creator>\n   </cc:Work>\n  </rdf:RDF>\n </metadata>\n <defs>\n  <style type=\"text/css\">*{stroke-linejoin: round; stroke-linecap: butt}</style>\n </defs>\n <g id=\"figure_1\">\n  <g id=\"patch_1\">\n   <path d=\"M 0 183.35625 \nL 238.965625 183.35625 \nL 238.965625 0 \nL 0 0 \nz\n\" style=\"fill: #ffffff\"/>\n  </g>\n  <g id=\"axes_1\">\n   <g id=\"patch_2\">\n    <path d=\"M 30.103125 145.8 \nL 225.403125 145.8 \nL 225.403125 7.2 \nL 30.103125 7.2 \nz\n\" style=\"fill: #ffffff\"/>\n   </g>\n   <g id=\"matplotlib.axis_1\">\n    <g id=\"xtick_1\">\n     <g id=\"line2d_1\">\n      <defs>\n       <path id=\"m55da822f5c\" d=\"M 0 0 \nL 0 3.5 \n\" style=\"stroke: #000000; stroke-width: 0.8\"/>\n      </defs>\n      <g>\n       <use xlink:href=\"#m55da822f5c\" x=\"30.103125\" y=\"145.8\" style=\"stroke: #000000; stroke-width: 0.8\"/>\n      </g>\n     </g>\n     <g id=\"text_1\">\n      <!-- 0 -->\n      <g transform=\"translate(26.921875 160.398438) scale(0.1 -0.1)\">\n       <defs>\n        <path id=\"DejaVuSans-30\" d=\"M 2034 4250 \nQ 1547 4250 1301 3770 \nQ 1056 3291 1056 2328 \nQ 1056 1369 1301 889 \nQ 1547 409 2034 409 \nQ 2525 409 2770 889 \nQ 3016 1369 3016 2328 \nQ 3016 3291 2770 3770 \nQ 2525 4250 2034 4250 \nz\nM 2034 4750 \nQ 2819 4750 3233 4129 \nQ 3647 3509 3647 2328 \nQ 3647 1150 3233 529 \nQ 2819 -91 2034 -91 \nQ 1250 -91 836 529 \nQ 422 1150 422 2328 \nQ 422 3509 836 4129 \nQ 1250 4750 2034 4750 \nz\n\" transform=\"scale(0.015625)\"/>\n       </defs>\n       <use xlink:href=\"#DejaVuSans-30\"/>\n      </g>\n     </g>\n    </g>\n    <g id=\"xtick_2\">\n     <g id=\"line2d_2\">\n      <g>\n       <use xlink:href=\"#m55da822f5c\" x=\"69.163125\" y=\"145.8\" style=\"stroke: #000000; stroke-width: 0.8\"/>\n      </g>\n     </g>\n     <g id=\"text_2\">\n      <!-- 2 -->\n      <g transform=\"translate(65.981875 160.398438) scale(0.1 -0.1)\">\n       <defs>\n        <path id=\"DejaVuSans-32\" d=\"M 1228 531 \nL 3431 531 \nL 3431 0 \nL 469 0 \nL 469 531 \nQ 828 903 1448 1529 \nQ 2069 2156 2228 2338 \nQ 2531 2678 2651 2914 \nQ 2772 3150 2772 3378 \nQ 2772 3750 2511 3984 \nQ 2250 4219 1831 4219 \nQ 1534 4219 1204 4116 \nQ 875 4013 500 3803 \nL 500 4441 \nQ 881 4594 1212 4672 \nQ 1544 4750 1819 4750 \nQ 2544 4750 2975 4387 \nQ 3406 4025 3406 3419 \nQ 3406 3131 3298 2873 \nQ 3191 2616 2906 2266 \nQ 2828 2175 2409 1742 \nQ 1991 1309 1228 531 \nz\n\" transform=\"scale(0.015625)\"/>\n       </defs>\n       <use xlink:href=\"#DejaVuSans-32\"/>\n      </g>\n     </g>\n    </g>\n    <g id=\"xtick_3\">\n     <g id=\"line2d_3\">\n      <g>\n       <use xlink:href=\"#m55da822f5c\" x=\"108.223125\" y=\"145.8\" style=\"stroke: #000000; stroke-width: 0.8\"/>\n      </g>\n     </g>\n     <g id=\"text_3\">\n      <!-- 4 -->\n      <g transform=\"translate(105.041875 160.398438) scale(0.1 -0.1)\">\n       <defs>\n        <path id=\"DejaVuSans-34\" d=\"M 2419 4116 \nL 825 1625 \nL 2419 1625 \nL 2419 4116 \nz\nM 2253 4666 \nL 3047 4666 \nL 3047 1625 \nL 3713 1625 \nL 3713 1100 \nL 3047 1100 \nL 3047 0 \nL 2419 0 \nL 2419 1100 \nL 313 1100 \nL 313 1709 \nL 2253 4666 \nz\n\" transform=\"scale(0.015625)\"/>\n       </defs>\n       <use xlink:href=\"#DejaVuSans-34\"/>\n      </g>\n     </g>\n    </g>\n    <g id=\"xtick_4\">\n     <g id=\"line2d_4\">\n      <g>\n       <use xlink:href=\"#m55da822f5c\" x=\"147.283125\" y=\"145.8\" style=\"stroke: #000000; stroke-width: 0.8\"/>\n      </g>\n     </g>\n     <g id=\"text_4\">\n      <!-- 6 -->\n      <g transform=\"translate(144.101875 160.398438) scale(0.1 -0.1)\">\n       <defs>\n        <path id=\"DejaVuSans-36\" d=\"M 2113 2584 \nQ 1688 2584 1439 2293 \nQ 1191 2003 1191 1497 \nQ 1191 994 1439 701 \nQ 1688 409 2113 409 \nQ 2538 409 2786 701 \nQ 3034 994 3034 1497 \nQ 3034 2003 2786 2293 \nQ 2538 2584 2113 2584 \nz\nM 3366 4563 \nL 3366 3988 \nQ 3128 4100 2886 4159 \nQ 2644 4219 2406 4219 \nQ 1781 4219 1451 3797 \nQ 1122 3375 1075 2522 \nQ 1259 2794 1537 2939 \nQ 1816 3084 2150 3084 \nQ 2853 3084 3261 2657 \nQ 3669 2231 3669 1497 \nQ 3669 778 3244 343 \nQ 2819 -91 2113 -91 \nQ 1303 -91 875 529 \nQ 447 1150 447 2328 \nQ 447 3434 972 4092 \nQ 1497 4750 2381 4750 \nQ 2619 4750 2861 4703 \nQ 3103 4656 3366 4563 \nz\n\" transform=\"scale(0.015625)\"/>\n       </defs>\n       <use xlink:href=\"#DejaVuSans-36\"/>\n      </g>\n     </g>\n    </g>\n    <g id=\"xtick_5\">\n     <g id=\"line2d_5\">\n      <g>\n       <use xlink:href=\"#m55da822f5c\" x=\"186.343125\" y=\"145.8\" style=\"stroke: #000000; stroke-width: 0.8\"/>\n      </g>\n     </g>\n     <g id=\"text_5\">\n      <!-- 8 -->\n      <g transform=\"translate(183.161875 160.398438) scale(0.1 -0.1)\">\n       <defs>\n        <path id=\"DejaVuSans-38\" d=\"M 2034 2216 \nQ 1584 2216 1326 1975 \nQ 1069 1734 1069 1313 \nQ 1069 891 1326 650 \nQ 1584 409 2034 409 \nQ 2484 409 2743 651 \nQ 3003 894 3003 1313 \nQ 3003 1734 2745 1975 \nQ 2488 2216 2034 2216 \nz\nM 1403 2484 \nQ 997 2584 770 2862 \nQ 544 3141 544 3541 \nQ 544 4100 942 4425 \nQ 1341 4750 2034 4750 \nQ 2731 4750 3128 4425 \nQ 3525 4100 3525 3541 \nQ 3525 3141 3298 2862 \nQ 3072 2584 2669 2484 \nQ 3125 2378 3379 2068 \nQ 3634 1759 3634 1313 \nQ 3634 634 3220 271 \nQ 2806 -91 2034 -91 \nQ 1263 -91 848 271 \nQ 434 634 434 1313 \nQ 434 1759 690 2068 \nQ 947 2378 1403 2484 \nz\nM 1172 3481 \nQ 1172 3119 1398 2916 \nQ 1625 2713 2034 2713 \nQ 2441 2713 2670 2916 \nQ 2900 3119 2900 3481 \nQ 2900 3844 2670 4047 \nQ 2441 4250 2034 4250 \nQ 1625 4250 1398 4047 \nQ 1172 3844 1172 3481 \nz\n\" transform=\"scale(0.015625)\"/>\n       </defs>\n       <use xlink:href=\"#DejaVuSans-38\"/>\n      </g>\n     </g>\n    </g>\n    <g id=\"xtick_6\">\n     <g id=\"line2d_6\">\n      <g>\n       <use xlink:href=\"#m55da822f5c\" x=\"225.403125\" y=\"145.8\" style=\"stroke: #000000; stroke-width: 0.8\"/>\n      </g>\n     </g>\n     <g id=\"text_6\">\n      <!-- 10 -->\n      <g transform=\"translate(219.040625 160.398438) scale(0.1 -0.1)\">\n       <defs>\n        <path id=\"DejaVuSans-31\" d=\"M 794 531 \nL 1825 531 \nL 1825 4091 \nL 703 3866 \nL 703 4441 \nL 1819 4666 \nL 2450 4666 \nL 2450 531 \nL 3481 531 \nL 3481 0 \nL 794 0 \nL 794 531 \nz\n\" transform=\"scale(0.015625)\"/>\n       </defs>\n       <use xlink:href=\"#DejaVuSans-31\"/>\n       <use xlink:href=\"#DejaVuSans-30\" x=\"63.623047\"/>\n      </g>\n     </g>\n    </g>\n    <g id=\"text_7\">\n     <!-- epoch -->\n     <g transform=\"translate(112.525 174.076563) scale(0.1 -0.1)\">\n      <defs>\n       <path id=\"DejaVuSans-65\" d=\"M 3597 1894 \nL 3597 1613 \nL 953 1613 \nQ 991 1019 1311 708 \nQ 1631 397 2203 397 \nQ 2534 397 2845 478 \nQ 3156 559 3463 722 \nL 3463 178 \nQ 3153 47 2828 -22 \nQ 2503 -91 2169 -91 \nQ 1331 -91 842 396 \nQ 353 884 353 1716 \nQ 353 2575 817 3079 \nQ 1281 3584 2069 3584 \nQ 2775 3584 3186 3129 \nQ 3597 2675 3597 1894 \nz\nM 3022 2063 \nQ 3016 2534 2758 2815 \nQ 2500 3097 2075 3097 \nQ 1594 3097 1305 2825 \nQ 1016 2553 972 2059 \nL 3022 2063 \nz\n\" transform=\"scale(0.015625)\"/>\n       <path id=\"DejaVuSans-70\" d=\"M 1159 525 \nL 1159 -1331 \nL 581 -1331 \nL 581 3500 \nL 1159 3500 \nL 1159 2969 \nQ 1341 3281 1617 3432 \nQ 1894 3584 2278 3584 \nQ 2916 3584 3314 3078 \nQ 3713 2572 3713 1747 \nQ 3713 922 3314 415 \nQ 2916 -91 2278 -91 \nQ 1894 -91 1617 61 \nQ 1341 213 1159 525 \nz\nM 3116 1747 \nQ 3116 2381 2855 2742 \nQ 2594 3103 2138 3103 \nQ 1681 3103 1420 2742 \nQ 1159 2381 1159 1747 \nQ 1159 1113 1420 752 \nQ 1681 391 2138 391 \nQ 2594 391 2855 752 \nQ 3116 1113 3116 1747 \nz\n\" transform=\"scale(0.015625)\"/>\n       <path id=\"DejaVuSans-6f\" d=\"M 1959 3097 \nQ 1497 3097 1228 2736 \nQ 959 2375 959 1747 \nQ 959 1119 1226 758 \nQ 1494 397 1959 397 \nQ 2419 397 2687 759 \nQ 2956 1122 2956 1747 \nQ 2956 2369 2687 2733 \nQ 2419 3097 1959 3097 \nz\nM 1959 3584 \nQ 2709 3584 3137 3096 \nQ 3566 2609 3566 1747 \nQ 3566 888 3137 398 \nQ 2709 -91 1959 -91 \nQ 1206 -91 779 398 \nQ 353 888 353 1747 \nQ 353 2609 779 3096 \nQ 1206 3584 1959 3584 \nz\n\" transform=\"scale(0.015625)\"/>\n       <path id=\"DejaVuSans-63\" d=\"M 3122 3366 \nL 3122 2828 \nQ 2878 2963 2633 3030 \nQ 2388 3097 2138 3097 \nQ 1578 3097 1268 2742 \nQ 959 2388 959 1747 \nQ 959 1106 1268 751 \nQ 1578 397 2138 397 \nQ 2388 397 2633 464 \nQ 2878 531 3122 666 \nL 3122 134 \nQ 2881 22 2623 -34 \nQ 2366 -91 2075 -91 \nQ 1284 -91 818 406 \nQ 353 903 353 1747 \nQ 353 2603 823 3093 \nQ 1294 3584 2113 3584 \nQ 2378 3584 2631 3529 \nQ 2884 3475 3122 3366 \nz\n\" transform=\"scale(0.015625)\"/>\n       <path id=\"DejaVuSans-68\" d=\"M 3513 2113 \nL 3513 0 \nL 2938 0 \nL 2938 2094 \nQ 2938 2591 2744 2837 \nQ 2550 3084 2163 3084 \nQ 1697 3084 1428 2787 \nQ 1159 2491 1159 1978 \nL 1159 0 \nL 581 0 \nL 581 4863 \nL 1159 4863 \nL 1159 2956 \nQ 1366 3272 1645 3428 \nQ 1925 3584 2291 3584 \nQ 2894 3584 3203 3211 \nQ 3513 2838 3513 2113 \nz\n\" transform=\"scale(0.015625)\"/>\n      </defs>\n      <use xlink:href=\"#DejaVuSans-65\"/>\n      <use xlink:href=\"#DejaVuSans-70\" x=\"61.523438\"/>\n      <use xlink:href=\"#DejaVuSans-6f\" x=\"125\"/>\n      <use xlink:href=\"#DejaVuSans-63\" x=\"186.181641\"/>\n      <use xlink:href=\"#DejaVuSans-68\" x=\"241.162109\"/>\n     </g>\n    </g>\n   </g>\n   <g id=\"matplotlib.axis_2\">\n    <g id=\"ytick_1\">\n     <g id=\"line2d_7\">\n      <defs>\n       <path id=\"m5ff226b262\" d=\"M 0 0 \nL -3.5 0 \n\" style=\"stroke: #000000; stroke-width: 0.8\"/>\n      </defs>\n      <g>\n       <use xlink:href=\"#m5ff226b262\" x=\"30.103125\" y=\"142.20509\" style=\"stroke: #000000; stroke-width: 0.8\"/>\n      </g>\n     </g>\n     <g id=\"text_8\">\n      <!-- 0.0 -->\n      <g transform=\"translate(7.2 146.004308) scale(0.1 -0.1)\">\n       <defs>\n        <path id=\"DejaVuSans-2e\" d=\"M 684 794 \nL 1344 794 \nL 1344 0 \nL 684 0 \nL 684 794 \nz\n\" transform=\"scale(0.015625)\"/>\n       </defs>\n       <use xlink:href=\"#DejaVuSans-30\"/>\n       <use xlink:href=\"#DejaVuSans-2e\" x=\"63.623047\"/>\n       <use xlink:href=\"#DejaVuSans-30\" x=\"95.410156\"/>\n      </g>\n     </g>\n    </g>\n    <g id=\"ytick_2\">\n     <g id=\"line2d_8\">\n      <g>\n       <use xlink:href=\"#m5ff226b262\" x=\"30.103125\" y=\"116.160145\" style=\"stroke: #000000; stroke-width: 0.8\"/>\n      </g>\n     </g>\n     <g id=\"text_9\">\n      <!-- 0.2 -->\n      <g transform=\"translate(7.2 119.959364) scale(0.1 -0.1)\">\n       <use xlink:href=\"#DejaVuSans-30\"/>\n       <use xlink:href=\"#DejaVuSans-2e\" x=\"63.623047\"/>\n       <use xlink:href=\"#DejaVuSans-32\" x=\"95.410156\"/>\n      </g>\n     </g>\n    </g>\n    <g id=\"ytick_3\">\n     <g id=\"line2d_9\">\n      <g>\n       <use xlink:href=\"#m5ff226b262\" x=\"30.103125\" y=\"90.115201\" style=\"stroke: #000000; stroke-width: 0.8\"/>\n      </g>\n     </g>\n     <g id=\"text_10\">\n      <!-- 0.4 -->\n      <g transform=\"translate(7.2 93.91442) scale(0.1 -0.1)\">\n       <use xlink:href=\"#DejaVuSans-30\"/>\n       <use xlink:href=\"#DejaVuSans-2e\" x=\"63.623047\"/>\n       <use xlink:href=\"#DejaVuSans-34\" x=\"95.410156\"/>\n      </g>\n     </g>\n    </g>\n    <g id=\"ytick_4\">\n     <g id=\"line2d_10\">\n      <g>\n       <use xlink:href=\"#m5ff226b262\" x=\"30.103125\" y=\"64.070257\" style=\"stroke: #000000; stroke-width: 0.8\"/>\n      </g>\n     </g>\n     <g id=\"text_11\">\n      <!-- 0.6 -->\n      <g transform=\"translate(7.2 67.869476) scale(0.1 -0.1)\">\n       <use xlink:href=\"#DejaVuSans-30\"/>\n       <use xlink:href=\"#DejaVuSans-2e\" x=\"63.623047\"/>\n       <use xlink:href=\"#DejaVuSans-36\" x=\"95.410156\"/>\n      </g>\n     </g>\n    </g>\n    <g id=\"ytick_5\">\n     <g id=\"line2d_11\">\n      <g>\n       <use xlink:href=\"#m5ff226b262\" x=\"30.103125\" y=\"38.025312\" style=\"stroke: #000000; stroke-width: 0.8\"/>\n      </g>\n     </g>\n     <g id=\"text_12\">\n      <!-- 0.8 -->\n      <g transform=\"translate(7.2 41.824531) scale(0.1 -0.1)\">\n       <use xlink:href=\"#DejaVuSans-30\"/>\n       <use xlink:href=\"#DejaVuSans-2e\" x=\"63.623047\"/>\n       <use xlink:href=\"#DejaVuSans-38\" x=\"95.410156\"/>\n      </g>\n     </g>\n    </g>\n    <g id=\"ytick_6\">\n     <g id=\"line2d_12\">\n      <g>\n       <use xlink:href=\"#m5ff226b262\" x=\"30.103125\" y=\"11.980368\" style=\"stroke: #000000; stroke-width: 0.8\"/>\n      </g>\n     </g>\n     <g id=\"text_13\">\n      <!-- 1.0 -->\n      <g transform=\"translate(7.2 15.779587) scale(0.1 -0.1)\">\n       <use xlink:href=\"#DejaVuSans-31\"/>\n       <use xlink:href=\"#DejaVuSans-2e\" x=\"63.623047\"/>\n       <use xlink:href=\"#DejaVuSans-30\" x=\"95.410156\"/>\n      </g>\n     </g>\n    </g>\n   </g>\n   <g id=\"line2d_13\">\n    <path d=\"M 34.954394 62.186757 \n\" clip-path=\"url(#p1845b2c599)\" style=\"fill: none; stroke: #1f77b4; stroke-width: 1.5; stroke-linecap: square\"/>\n   </g>\n   <g id=\"line2d_14\">\n    <path d=\"M 34.954394 62.186757 \nL 44.698573 123.594895 \n\" clip-path=\"url(#p1845b2c599)\" style=\"fill: none; stroke: #1f77b4; stroke-width: 1.5; stroke-linecap: square\"/>\n   </g>\n   <g id=\"line2d_15\">\n    <path d=\"M 34.954394 62.186757 \nL 44.698573 123.594895 \n\" clip-path=\"url(#p1845b2c599)\" style=\"fill: none; stroke: #1f77b4; stroke-width: 1.5; stroke-linecap: square\"/>\n   </g>\n   <g id=\"line2d_16\">\n    <path d=\"M 49.633125 129.593995 \n\" clip-path=\"url(#p1845b2c599)\" style=\"fill: none; stroke-dasharray: 5.55,2.4; stroke-dashoffset: 0; stroke: #ff7f0e; stroke-width: 1.5\"/>\n   </g>\n   <g id=\"line2d_17\"/>\n   <g id=\"line2d_18\">\n    <path d=\"M 34.954394 62.186757 \nL 44.698573 123.594895 \n\" clip-path=\"url(#p1845b2c599)\" style=\"fill: none; stroke: #1f77b4; stroke-width: 1.5; stroke-linecap: square\"/>\n   </g>\n   <g id=\"line2d_19\">\n    <path d=\"M 49.633125 129.593995 \n\" clip-path=\"url(#p1845b2c599)\" style=\"fill: none; stroke-dasharray: 5.55,2.4; stroke-dashoffset: 0; stroke: #ff7f0e; stroke-width: 1.5\"/>\n   </g>\n   <g id=\"line2d_20\">\n    <path d=\"M 49.633125 16.178673 \n\" clip-path=\"url(#p1845b2c599)\" style=\"fill: none; stroke-dasharray: 9.6,2.4,1.5,2.4; stroke-dashoffset: 0; stroke: #2ca02c; stroke-width: 1.5\"/>\n   </g>\n   <g id=\"line2d_21\">\n    <path d=\"M 34.954394 62.186757 \nL 44.698573 123.594895 \nL 54.442752 129.277123 \n\" clip-path=\"url(#p1845b2c599)\" style=\"fill: none; stroke: #1f77b4; stroke-width: 1.5; stroke-linecap: square\"/>\n   </g>\n   <g id=\"line2d_22\">\n    <path d=\"M 49.633125 129.593995 \n\" clip-path=\"url(#p1845b2c599)\" style=\"fill: none; stroke-dasharray: 5.55,2.4; stroke-dashoffset: 0; stroke: #ff7f0e; stroke-width: 1.5\"/>\n   </g>\n   <g id=\"line2d_23\">\n    <path d=\"M 49.633125 16.178673 \n\" clip-path=\"url(#p1845b2c599)\" style=\"fill: none; stroke-dasharray: 9.6,2.4,1.5,2.4; stroke-dashoffset: 0; stroke: #2ca02c; stroke-width: 1.5\"/>\n   </g>\n   <g id=\"line2d_24\">\n    <path d=\"M 34.954394 62.186757 \nL 44.698573 123.594895 \nL 54.442752 129.277123 \nL 64.186931 131.50917 \n\" clip-path=\"url(#p1845b2c599)\" style=\"fill: none; stroke: #1f77b4; stroke-width: 1.5; stroke-linecap: square\"/>\n   </g>\n   <g id=\"line2d_25\">\n    <path d=\"M 49.633125 129.593995 \n\" clip-path=\"url(#p1845b2c599)\" style=\"fill: none; stroke-dasharray: 5.55,2.4; stroke-dashoffset: 0; stroke: #ff7f0e; stroke-width: 1.5\"/>\n   </g>\n   <g id=\"line2d_26\">\n    <path d=\"M 49.633125 16.178673 \n\" clip-path=\"url(#p1845b2c599)\" style=\"fill: none; stroke-dasharray: 9.6,2.4,1.5,2.4; stroke-dashoffset: 0; stroke: #2ca02c; stroke-width: 1.5\"/>\n   </g>\n   <g id=\"line2d_27\">\n    <path d=\"M 34.954394 62.186757 \nL 44.698573 123.594895 \nL 54.442752 129.277123 \nL 64.186931 131.50917 \n\" clip-path=\"url(#p1845b2c599)\" style=\"fill: none; stroke: #1f77b4; stroke-width: 1.5; stroke-linecap: square\"/>\n   </g>\n   <g id=\"line2d_28\">\n    <path d=\"M 49.633125 129.593995 \nL 69.163125 133.754043 \n\" clip-path=\"url(#p1845b2c599)\" style=\"fill: none; stroke-dasharray: 5.55,2.4; stroke-dashoffset: 0; stroke: #ff7f0e; stroke-width: 1.5\"/>\n   </g>\n   <g id=\"line2d_29\">\n    <path d=\"M 49.633125 16.178673 \n\" clip-path=\"url(#p1845b2c599)\" style=\"fill: none; stroke-dasharray: 9.6,2.4,1.5,2.4; stroke-dashoffset: 0; stroke: #2ca02c; stroke-width: 1.5\"/>\n   </g>\n   <g id=\"line2d_30\">\n    <path d=\"M 34.954394 62.186757 \nL 44.698573 123.594895 \nL 54.442752 129.277123 \nL 64.186931 131.50917 \n\" clip-path=\"url(#p1845b2c599)\" style=\"fill: none; stroke: #1f77b4; stroke-width: 1.5; stroke-linecap: square\"/>\n   </g>\n   <g id=\"line2d_31\">\n    <path d=\"M 49.633125 129.593995 \nL 69.163125 133.754043 \n\" clip-path=\"url(#p1845b2c599)\" style=\"fill: none; stroke-dasharray: 5.55,2.4; stroke-dashoffset: 0; stroke: #ff7f0e; stroke-width: 1.5\"/>\n   </g>\n   <g id=\"line2d_32\">\n    <path d=\"M 49.633125 16.178673 \nL 69.163125 14.787824 \n\" clip-path=\"url(#p1845b2c599)\" style=\"fill: none; stroke-dasharray: 9.6,2.4,1.5,2.4; stroke-dashoffset: 0; stroke: #2ca02c; stroke-width: 1.5\"/>\n   </g>\n   <g id=\"line2d_33\">\n    <path d=\"M 34.954394 62.186757 \nL 44.698573 123.594895 \nL 54.442752 129.277123 \nL 64.186931 131.50917 \nL 73.93111 133.339369 \n\" clip-path=\"url(#p1845b2c599)\" style=\"fill: none; stroke: #1f77b4; stroke-width: 1.5; stroke-linecap: square\"/>\n   </g>\n   <g id=\"line2d_34\">\n    <path d=\"M 49.633125 129.593995 \nL 69.163125 133.754043 \n\" clip-path=\"url(#p1845b2c599)\" style=\"fill: none; stroke-dasharray: 5.55,2.4; stroke-dashoffset: 0; stroke: #ff7f0e; stroke-width: 1.5\"/>\n   </g>\n   <g id=\"line2d_35\">\n    <path d=\"M 49.633125 16.178673 \nL 69.163125 14.787824 \n\" clip-path=\"url(#p1845b2c599)\" style=\"fill: none; stroke-dasharray: 9.6,2.4,1.5,2.4; stroke-dashoffset: 0; stroke: #2ca02c; stroke-width: 1.5\"/>\n   </g>\n   <g id=\"line2d_36\">\n    <path d=\"M 34.954394 62.186757 \nL 44.698573 123.594895 \nL 54.442752 129.277123 \nL 64.186931 131.50917 \nL 73.93111 133.339369 \nL 83.675289 133.929023 \n\" clip-path=\"url(#p1845b2c599)\" style=\"fill: none; stroke: #1f77b4; stroke-width: 1.5; stroke-linecap: square\"/>\n   </g>\n   <g id=\"line2d_37\">\n    <path d=\"M 49.633125 129.593995 \nL 69.163125 133.754043 \n\" clip-path=\"url(#p1845b2c599)\" style=\"fill: none; stroke-dasharray: 5.55,2.4; stroke-dashoffset: 0; stroke: #ff7f0e; stroke-width: 1.5\"/>\n   </g>\n   <g id=\"line2d_38\">\n    <path d=\"M 49.633125 16.178673 \nL 69.163125 14.787824 \n\" clip-path=\"url(#p1845b2c599)\" style=\"fill: none; stroke-dasharray: 9.6,2.4,1.5,2.4; stroke-dashoffset: 0; stroke: #2ca02c; stroke-width: 1.5\"/>\n   </g>\n   <g id=\"line2d_39\">\n    <path d=\"M 34.954394 62.186757 \nL 44.698573 123.594895 \nL 54.442752 129.277123 \nL 64.186931 131.50917 \nL 73.93111 133.339369 \nL 83.675289 133.929023 \n\" clip-path=\"url(#p1845b2c599)\" style=\"fill: none; stroke: #1f77b4; stroke-width: 1.5; stroke-linecap: square\"/>\n   </g>\n   <g id=\"line2d_40\">\n    <path d=\"M 49.633125 129.593995 \nL 69.163125 133.754043 \nL 88.693125 135.597452 \n\" clip-path=\"url(#p1845b2c599)\" style=\"fill: none; stroke-dasharray: 5.55,2.4; stroke-dashoffset: 0; stroke: #ff7f0e; stroke-width: 1.5\"/>\n   </g>\n   <g id=\"line2d_41\">\n    <path d=\"M 49.633125 16.178673 \nL 69.163125 14.787824 \n\" clip-path=\"url(#p1845b2c599)\" style=\"fill: none; stroke-dasharray: 9.6,2.4,1.5,2.4; stroke-dashoffset: 0; stroke: #2ca02c; stroke-width: 1.5\"/>\n   </g>\n   <g id=\"line2d_42\">\n    <path d=\"M 34.954394 62.186757 \nL 44.698573 123.594895 \nL 54.442752 129.277123 \nL 64.186931 131.50917 \nL 73.93111 133.339369 \nL 83.675289 133.929023 \n\" clip-path=\"url(#p1845b2c599)\" style=\"fill: none; stroke: #1f77b4; stroke-width: 1.5; stroke-linecap: square\"/>\n   </g>\n   <g id=\"line2d_43\">\n    <path d=\"M 49.633125 129.593995 \nL 69.163125 133.754043 \nL 88.693125 135.597452 \n\" clip-path=\"url(#p1845b2c599)\" style=\"fill: none; stroke-dasharray: 5.55,2.4; stroke-dashoffset: 0; stroke: #ff7f0e; stroke-width: 1.5\"/>\n   </g>\n   <g id=\"line2d_44\">\n    <path d=\"M 49.633125 16.178673 \nL 69.163125 14.787824 \nL 88.693125 14.182547 \n\" clip-path=\"url(#p1845b2c599)\" style=\"fill: none; stroke-dasharray: 9.6,2.4,1.5,2.4; stroke-dashoffset: 0; stroke: #2ca02c; stroke-width: 1.5\"/>\n   </g>\n   <g id=\"line2d_45\">\n    <path d=\"M 34.954394 62.186757 \nL 44.698573 123.594895 \nL 54.442752 129.277123 \nL 64.186931 131.50917 \nL 73.93111 133.339369 \nL 83.675289 133.929023 \nL 93.419468 135.297411 \n\" clip-path=\"url(#p1845b2c599)\" style=\"fill: none; stroke: #1f77b4; stroke-width: 1.5; stroke-linecap: square\"/>\n   </g>\n   <g id=\"line2d_46\">\n    <path d=\"M 49.633125 129.593995 \nL 69.163125 133.754043 \nL 88.693125 135.597452 \n\" clip-path=\"url(#p1845b2c599)\" style=\"fill: none; stroke-dasharray: 5.55,2.4; stroke-dashoffset: 0; stroke: #ff7f0e; stroke-width: 1.5\"/>\n   </g>\n   <g id=\"line2d_47\">\n    <path d=\"M 49.633125 16.178673 \nL 69.163125 14.787824 \nL 88.693125 14.182547 \n\" clip-path=\"url(#p1845b2c599)\" style=\"fill: none; stroke-dasharray: 9.6,2.4,1.5,2.4; stroke-dashoffset: 0; stroke: #2ca02c; stroke-width: 1.5\"/>\n   </g>\n   <g id=\"line2d_48\">\n    <path d=\"M 34.954394 62.186757 \nL 44.698573 123.594895 \nL 54.442752 129.277123 \nL 64.186931 131.50917 \nL 73.93111 133.339369 \nL 83.675289 133.929023 \nL 93.419468 135.297411 \nL 103.163647 135.622701 \n\" clip-path=\"url(#p1845b2c599)\" style=\"fill: none; stroke: #1f77b4; stroke-width: 1.5; stroke-linecap: square\"/>\n   </g>\n   <g id=\"line2d_49\">\n    <path d=\"M 49.633125 129.593995 \nL 69.163125 133.754043 \nL 88.693125 135.597452 \n\" clip-path=\"url(#p1845b2c599)\" style=\"fill: none; stroke-dasharray: 5.55,2.4; stroke-dashoffset: 0; stroke: #ff7f0e; stroke-width: 1.5\"/>\n   </g>\n   <g id=\"line2d_50\">\n    <path d=\"M 49.633125 16.178673 \nL 69.163125 14.787824 \nL 88.693125 14.182547 \n\" clip-path=\"url(#p1845b2c599)\" style=\"fill: none; stroke-dasharray: 9.6,2.4,1.5,2.4; stroke-dashoffset: 0; stroke: #2ca02c; stroke-width: 1.5\"/>\n   </g>\n   <g id=\"line2d_51\">\n    <path d=\"M 34.954394 62.186757 \nL 44.698573 123.594895 \nL 54.442752 129.277123 \nL 64.186931 131.50917 \nL 73.93111 133.339369 \nL 83.675289 133.929023 \nL 93.419468 135.297411 \nL 103.163647 135.622701 \n\" clip-path=\"url(#p1845b2c599)\" style=\"fill: none; stroke: #1f77b4; stroke-width: 1.5; stroke-linecap: square\"/>\n   </g>\n   <g id=\"line2d_52\">\n    <path d=\"M 49.633125 129.593995 \nL 69.163125 133.754043 \nL 88.693125 135.597452 \nL 108.223125 136.492313 \n\" clip-path=\"url(#p1845b2c599)\" style=\"fill: none; stroke-dasharray: 5.55,2.4; stroke-dashoffset: 0; stroke: #ff7f0e; stroke-width: 1.5\"/>\n   </g>\n   <g id=\"line2d_53\">\n    <path d=\"M 49.633125 16.178673 \nL 69.163125 14.787824 \nL 88.693125 14.182547 \n\" clip-path=\"url(#p1845b2c599)\" style=\"fill: none; stroke-dasharray: 9.6,2.4,1.5,2.4; stroke-dashoffset: 0; stroke: #2ca02c; stroke-width: 1.5\"/>\n   </g>\n   <g id=\"line2d_54\">\n    <path d=\"M 34.954394 62.186757 \nL 44.698573 123.594895 \nL 54.442752 129.277123 \nL 64.186931 131.50917 \nL 73.93111 133.339369 \nL 83.675289 133.929023 \nL 93.419468 135.297411 \nL 103.163647 135.622701 \n\" clip-path=\"url(#p1845b2c599)\" style=\"fill: none; stroke: #1f77b4; stroke-width: 1.5; stroke-linecap: square\"/>\n   </g>\n   <g id=\"line2d_55\">\n    <path d=\"M 49.633125 129.593995 \nL 69.163125 133.754043 \nL 88.693125 135.597452 \nL 108.223125 136.492313 \n\" clip-path=\"url(#p1845b2c599)\" style=\"fill: none; stroke-dasharray: 5.55,2.4; stroke-dashoffset: 0; stroke: #ff7f0e; stroke-width: 1.5\"/>\n   </g>\n   <g id=\"line2d_56\">\n    <path d=\"M 49.633125 16.178673 \nL 69.163125 14.787824 \nL 88.693125 14.182547 \nL 108.223125 13.821956 \n\" clip-path=\"url(#p1845b2c599)\" style=\"fill: none; stroke-dasharray: 9.6,2.4,1.5,2.4; stroke-dashoffset: 0; stroke: #2ca02c; stroke-width: 1.5\"/>\n   </g>\n   <g id=\"line2d_57\">\n    <path d=\"M 34.954394 62.186757 \nL 44.698573 123.594895 \nL 54.442752 129.277123 \nL 64.186931 131.50917 \nL 73.93111 133.339369 \nL 83.675289 133.929023 \nL 93.419468 135.297411 \nL 103.163647 135.622701 \nL 112.907826 136.124599 \n\" clip-path=\"url(#p1845b2c599)\" style=\"fill: none; stroke: #1f77b4; stroke-width: 1.5; stroke-linecap: square\"/>\n   </g>\n   <g id=\"line2d_58\">\n    <path d=\"M 49.633125 129.593995 \nL 69.163125 133.754043 \nL 88.693125 135.597452 \nL 108.223125 136.492313 \n\" clip-path=\"url(#p1845b2c599)\" style=\"fill: none; stroke-dasharray: 5.55,2.4; stroke-dashoffset: 0; stroke: #ff7f0e; stroke-width: 1.5\"/>\n   </g>\n   <g id=\"line2d_59\">\n    <path d=\"M 49.633125 16.178673 \nL 69.163125 14.787824 \nL 88.693125 14.182547 \nL 108.223125 13.821956 \n\" clip-path=\"url(#p1845b2c599)\" style=\"fill: none; stroke-dasharray: 9.6,2.4,1.5,2.4; stroke-dashoffset: 0; stroke: #2ca02c; stroke-width: 1.5\"/>\n   </g>\n   <g id=\"line2d_60\">\n    <path d=\"M 34.954394 62.186757 \nL 44.698573 123.594895 \nL 54.442752 129.277123 \nL 64.186931 131.50917 \nL 73.93111 133.339369 \nL 83.675289 133.929023 \nL 93.419468 135.297411 \nL 103.163647 135.622701 \nL 112.907826 136.124599 \nL 122.652006 136.892077 \n\" clip-path=\"url(#p1845b2c599)\" style=\"fill: none; stroke: #1f77b4; stroke-width: 1.5; stroke-linecap: square\"/>\n   </g>\n   <g id=\"line2d_61\">\n    <path d=\"M 49.633125 129.593995 \nL 69.163125 133.754043 \nL 88.693125 135.597452 \nL 108.223125 136.492313 \n\" clip-path=\"url(#p1845b2c599)\" style=\"fill: none; stroke-dasharray: 5.55,2.4; stroke-dashoffset: 0; stroke: #ff7f0e; stroke-width: 1.5\"/>\n   </g>\n   <g id=\"line2d_62\">\n    <path d=\"M 49.633125 16.178673 \nL 69.163125 14.787824 \nL 88.693125 14.182547 \nL 108.223125 13.821956 \n\" clip-path=\"url(#p1845b2c599)\" style=\"fill: none; stroke-dasharray: 9.6,2.4,1.5,2.4; stroke-dashoffset: 0; stroke: #2ca02c; stroke-width: 1.5\"/>\n   </g>\n   <g id=\"line2d_63\">\n    <path d=\"M 34.954394 62.186757 \nL 44.698573 123.594895 \nL 54.442752 129.277123 \nL 64.186931 131.50917 \nL 73.93111 133.339369 \nL 83.675289 133.929023 \nL 93.419468 135.297411 \nL 103.163647 135.622701 \nL 112.907826 136.124599 \nL 122.652006 136.892077 \n\" clip-path=\"url(#p1845b2c599)\" style=\"fill: none; stroke: #1f77b4; stroke-width: 1.5; stroke-linecap: square\"/>\n   </g>\n   <g id=\"line2d_64\">\n    <path d=\"M 49.633125 129.593995 \nL 69.163125 133.754043 \nL 88.693125 135.597452 \nL 108.223125 136.492313 \nL 127.753125 136.382944 \n\" clip-path=\"url(#p1845b2c599)\" style=\"fill: none; stroke-dasharray: 5.55,2.4; stroke-dashoffset: 0; stroke: #ff7f0e; stroke-width: 1.5\"/>\n   </g>\n   <g id=\"line2d_65\">\n    <path d=\"M 49.633125 16.178673 \nL 69.163125 14.787824 \nL 88.693125 14.182547 \nL 108.223125 13.821956 \n\" clip-path=\"url(#p1845b2c599)\" style=\"fill: none; stroke-dasharray: 9.6,2.4,1.5,2.4; stroke-dashoffset: 0; stroke: #2ca02c; stroke-width: 1.5\"/>\n   </g>\n   <g id=\"line2d_66\">\n    <path d=\"M 34.954394 62.186757 \nL 44.698573 123.594895 \nL 54.442752 129.277123 \nL 64.186931 131.50917 \nL 73.93111 133.339369 \nL 83.675289 133.929023 \nL 93.419468 135.297411 \nL 103.163647 135.622701 \nL 112.907826 136.124599 \nL 122.652006 136.892077 \n\" clip-path=\"url(#p1845b2c599)\" style=\"fill: none; stroke: #1f77b4; stroke-width: 1.5; stroke-linecap: square\"/>\n   </g>\n   <g id=\"line2d_67\">\n    <path d=\"M 49.633125 129.593995 \nL 69.163125 133.754043 \nL 88.693125 135.597452 \nL 108.223125 136.492313 \nL 127.753125 136.382944 \n\" clip-path=\"url(#p1845b2c599)\" style=\"fill: none; stroke-dasharray: 5.55,2.4; stroke-dashoffset: 0; stroke: #ff7f0e; stroke-width: 1.5\"/>\n   </g>\n   <g id=\"line2d_68\">\n    <path d=\"M 49.633125 16.178673 \nL 69.163125 14.787824 \nL 88.693125 14.182547 \nL 108.223125 13.821956 \nL 127.753125 14.040886 \n\" clip-path=\"url(#p1845b2c599)\" style=\"fill: none; stroke-dasharray: 9.6,2.4,1.5,2.4; stroke-dashoffset: 0; stroke: #2ca02c; stroke-width: 1.5\"/>\n   </g>\n   <g id=\"line2d_69\">\n    <path d=\"M 34.954394 62.186757 \nL 44.698573 123.594895 \nL 54.442752 129.277123 \nL 64.186931 131.50917 \nL 73.93111 133.339369 \nL 83.675289 133.929023 \nL 93.419468 135.297411 \nL 103.163647 135.622701 \nL 112.907826 136.124599 \nL 122.652006 136.892077 \nL 132.396185 137.094807 \n\" clip-path=\"url(#p1845b2c599)\" style=\"fill: none; stroke: #1f77b4; stroke-width: 1.5; stroke-linecap: square\"/>\n   </g>\n   <g id=\"line2d_70\">\n    <path d=\"M 49.633125 129.593995 \nL 69.163125 133.754043 \nL 88.693125 135.597452 \nL 108.223125 136.492313 \nL 127.753125 136.382944 \n\" clip-path=\"url(#p1845b2c599)\" style=\"fill: none; stroke-dasharray: 5.55,2.4; stroke-dashoffset: 0; stroke: #ff7f0e; stroke-width: 1.5\"/>\n   </g>\n   <g id=\"line2d_71\">\n    <path d=\"M 49.633125 16.178673 \nL 69.163125 14.787824 \nL 88.693125 14.182547 \nL 108.223125 13.821956 \nL 127.753125 14.040886 \n\" clip-path=\"url(#p1845b2c599)\" style=\"fill: none; stroke-dasharray: 9.6,2.4,1.5,2.4; stroke-dashoffset: 0; stroke: #2ca02c; stroke-width: 1.5\"/>\n   </g>\n   <g id=\"line2d_72\">\n    <path d=\"M 34.954394 62.186757 \nL 44.698573 123.594895 \nL 54.442752 129.277123 \nL 64.186931 131.50917 \nL 73.93111 133.339369 \nL 83.675289 133.929023 \nL 93.419468 135.297411 \nL 103.163647 135.622701 \nL 112.907826 136.124599 \nL 122.652006 136.892077 \nL 132.396185 137.094807 \nL 142.140364 137.254137 \n\" clip-path=\"url(#p1845b2c599)\" style=\"fill: none; stroke: #1f77b4; stroke-width: 1.5; stroke-linecap: square\"/>\n   </g>\n   <g id=\"line2d_73\">\n    <path d=\"M 49.633125 129.593995 \nL 69.163125 133.754043 \nL 88.693125 135.597452 \nL 108.223125 136.492313 \nL 127.753125 136.382944 \n\" clip-path=\"url(#p1845b2c599)\" style=\"fill: none; stroke-dasharray: 5.55,2.4; stroke-dashoffset: 0; stroke: #ff7f0e; stroke-width: 1.5\"/>\n   </g>\n   <g id=\"line2d_74\">\n    <path d=\"M 49.633125 16.178673 \nL 69.163125 14.787824 \nL 88.693125 14.182547 \nL 108.223125 13.821956 \nL 127.753125 14.040886 \n\" clip-path=\"url(#p1845b2c599)\" style=\"fill: none; stroke-dasharray: 9.6,2.4,1.5,2.4; stroke-dashoffset: 0; stroke: #2ca02c; stroke-width: 1.5\"/>\n   </g>\n   <g id=\"line2d_75\">\n    <path d=\"M 34.954394 62.186757 \nL 44.698573 123.594895 \nL 54.442752 129.277123 \nL 64.186931 131.50917 \nL 73.93111 133.339369 \nL 83.675289 133.929023 \nL 93.419468 135.297411 \nL 103.163647 135.622701 \nL 112.907826 136.124599 \nL 122.652006 136.892077 \nL 132.396185 137.094807 \nL 142.140364 137.254137 \n\" clip-path=\"url(#p1845b2c599)\" style=\"fill: none; stroke: #1f77b4; stroke-width: 1.5; stroke-linecap: square\"/>\n   </g>\n   <g id=\"line2d_76\">\n    <path d=\"M 49.633125 129.593995 \nL 69.163125 133.754043 \nL 88.693125 135.597452 \nL 108.223125 136.492313 \nL 127.753125 136.382944 \nL 147.283125 136.993226 \n\" clip-path=\"url(#p1845b2c599)\" style=\"fill: none; stroke-dasharray: 5.55,2.4; stroke-dashoffset: 0; stroke: #ff7f0e; stroke-width: 1.5\"/>\n   </g>\n   <g id=\"line2d_77\">\n    <path d=\"M 49.633125 16.178673 \nL 69.163125 14.787824 \nL 88.693125 14.182547 \nL 108.223125 13.821956 \nL 127.753125 14.040886 \n\" clip-path=\"url(#p1845b2c599)\" style=\"fill: none; stroke-dasharray: 9.6,2.4,1.5,2.4; stroke-dashoffset: 0; stroke: #2ca02c; stroke-width: 1.5\"/>\n   </g>\n   <g id=\"line2d_78\">\n    <path d=\"M 34.954394 62.186757 \nL 44.698573 123.594895 \nL 54.442752 129.277123 \nL 64.186931 131.50917 \nL 73.93111 133.339369 \nL 83.675289 133.929023 \nL 93.419468 135.297411 \nL 103.163647 135.622701 \nL 112.907826 136.124599 \nL 122.652006 136.892077 \nL 132.396185 137.094807 \nL 142.140364 137.254137 \n\" clip-path=\"url(#p1845b2c599)\" style=\"fill: none; stroke: #1f77b4; stroke-width: 1.5; stroke-linecap: square\"/>\n   </g>\n   <g id=\"line2d_79\">\n    <path d=\"M 49.633125 129.593995 \nL 69.163125 133.754043 \nL 88.693125 135.597452 \nL 108.223125 136.492313 \nL 127.753125 136.382944 \nL 147.283125 136.993226 \n\" clip-path=\"url(#p1845b2c599)\" style=\"fill: none; stroke-dasharray: 5.55,2.4; stroke-dashoffset: 0; stroke: #ff7f0e; stroke-width: 1.5\"/>\n   </g>\n   <g id=\"line2d_80\">\n    <path d=\"M 49.633125 16.178673 \nL 69.163125 14.787824 \nL 88.693125 14.182547 \nL 108.223125 13.821956 \nL 127.753125 14.040886 \nL 147.283125 13.71893 \n\" clip-path=\"url(#p1845b2c599)\" style=\"fill: none; stroke-dasharray: 9.6,2.4,1.5,2.4; stroke-dashoffset: 0; stroke: #2ca02c; stroke-width: 1.5\"/>\n   </g>\n   <g id=\"line2d_81\">\n    <path d=\"M 34.954394 62.186757 \nL 44.698573 123.594895 \nL 54.442752 129.277123 \nL 64.186931 131.50917 \nL 73.93111 133.339369 \nL 83.675289 133.929023 \nL 93.419468 135.297411 \nL 103.163647 135.622701 \nL 112.907826 136.124599 \nL 122.652006 136.892077 \nL 132.396185 137.094807 \nL 142.140364 137.254137 \nL 151.884543 138.164796 \n\" clip-path=\"url(#p1845b2c599)\" style=\"fill: none; stroke: #1f77b4; stroke-width: 1.5; stroke-linecap: square\"/>\n   </g>\n   <g id=\"line2d_82\">\n    <path d=\"M 49.633125 129.593995 \nL 69.163125 133.754043 \nL 88.693125 135.597452 \nL 108.223125 136.492313 \nL 127.753125 136.382944 \nL 147.283125 136.993226 \n\" clip-path=\"url(#p1845b2c599)\" style=\"fill: none; stroke-dasharray: 5.55,2.4; stroke-dashoffset: 0; stroke: #ff7f0e; stroke-width: 1.5\"/>\n   </g>\n   <g id=\"line2d_83\">\n    <path d=\"M 49.633125 16.178673 \nL 69.163125 14.787824 \nL 88.693125 14.182547 \nL 108.223125 13.821956 \nL 127.753125 14.040886 \nL 147.283125 13.71893 \n\" clip-path=\"url(#p1845b2c599)\" style=\"fill: none; stroke-dasharray: 9.6,2.4,1.5,2.4; stroke-dashoffset: 0; stroke: #2ca02c; stroke-width: 1.5\"/>\n   </g>\n   <g id=\"line2d_84\">\n    <path d=\"M 34.954394 62.186757 \nL 44.698573 123.594895 \nL 54.442752 129.277123 \nL 64.186931 131.50917 \nL 73.93111 133.339369 \nL 83.675289 133.929023 \nL 93.419468 135.297411 \nL 103.163647 135.622701 \nL 112.907826 136.124599 \nL 122.652006 136.892077 \nL 132.396185 137.094807 \nL 142.140364 137.254137 \nL 151.884543 138.164796 \nL 161.628722 137.799757 \n\" clip-path=\"url(#p1845b2c599)\" style=\"fill: none; stroke: #1f77b4; stroke-width: 1.5; stroke-linecap: square\"/>\n   </g>\n   <g id=\"line2d_85\">\n    <path d=\"M 49.633125 129.593995 \nL 69.163125 133.754043 \nL 88.693125 135.597452 \nL 108.223125 136.492313 \nL 127.753125 136.382944 \nL 147.283125 136.993226 \n\" clip-path=\"url(#p1845b2c599)\" style=\"fill: none; stroke-dasharray: 5.55,2.4; stroke-dashoffset: 0; stroke: #ff7f0e; stroke-width: 1.5\"/>\n   </g>\n   <g id=\"line2d_86\">\n    <path d=\"M 49.633125 16.178673 \nL 69.163125 14.787824 \nL 88.693125 14.182547 \nL 108.223125 13.821956 \nL 127.753125 14.040886 \nL 147.283125 13.71893 \n\" clip-path=\"url(#p1845b2c599)\" style=\"fill: none; stroke-dasharray: 9.6,2.4,1.5,2.4; stroke-dashoffset: 0; stroke: #2ca02c; stroke-width: 1.5\"/>\n   </g>\n   <g id=\"line2d_87\">\n    <path d=\"M 34.954394 62.186757 \nL 44.698573 123.594895 \nL 54.442752 129.277123 \nL 64.186931 131.50917 \nL 73.93111 133.339369 \nL 83.675289 133.929023 \nL 93.419468 135.297411 \nL 103.163647 135.622701 \nL 112.907826 136.124599 \nL 122.652006 136.892077 \nL 132.396185 137.094807 \nL 142.140364 137.254137 \nL 151.884543 138.164796 \nL 161.628722 137.799757 \n\" clip-path=\"url(#p1845b2c599)\" style=\"fill: none; stroke: #1f77b4; stroke-width: 1.5; stroke-linecap: square\"/>\n   </g>\n   <g id=\"line2d_88\">\n    <path d=\"M 49.633125 129.593995 \nL 69.163125 133.754043 \nL 88.693125 135.597452 \nL 108.223125 136.492313 \nL 127.753125 136.382944 \nL 147.283125 136.993226 \nL 166.813125 136.769067 \n\" clip-path=\"url(#p1845b2c599)\" style=\"fill: none; stroke-dasharray: 5.55,2.4; stroke-dashoffset: 0; stroke: #ff7f0e; stroke-width: 1.5\"/>\n   </g>\n   <g id=\"line2d_89\">\n    <path d=\"M 49.633125 16.178673 \nL 69.163125 14.787824 \nL 88.693125 14.182547 \nL 108.223125 13.821956 \nL 127.753125 14.040886 \nL 147.283125 13.71893 \n\" clip-path=\"url(#p1845b2c599)\" style=\"fill: none; stroke-dasharray: 9.6,2.4,1.5,2.4; stroke-dashoffset: 0; stroke: #2ca02c; stroke-width: 1.5\"/>\n   </g>\n   <g id=\"line2d_90\">\n    <path d=\"M 34.954394 62.186757 \nL 44.698573 123.594895 \nL 54.442752 129.277123 \nL 64.186931 131.50917 \nL 73.93111 133.339369 \nL 83.675289 133.929023 \nL 93.419468 135.297411 \nL 103.163647 135.622701 \nL 112.907826 136.124599 \nL 122.652006 136.892077 \nL 132.396185 137.094807 \nL 142.140364 137.254137 \nL 151.884543 138.164796 \nL 161.628722 137.799757 \n\" clip-path=\"url(#p1845b2c599)\" style=\"fill: none; stroke: #1f77b4; stroke-width: 1.5; stroke-linecap: square\"/>\n   </g>\n   <g id=\"line2d_91\">\n    <path d=\"M 49.633125 129.593995 \nL 69.163125 133.754043 \nL 88.693125 135.597452 \nL 108.223125 136.492313 \nL 127.753125 136.382944 \nL 147.283125 136.993226 \nL 166.813125 136.769067 \n\" clip-path=\"url(#p1845b2c599)\" style=\"fill: none; stroke-dasharray: 5.55,2.4; stroke-dashoffset: 0; stroke: #ff7f0e; stroke-width: 1.5\"/>\n   </g>\n   <g id=\"line2d_92\">\n    <path d=\"M 49.633125 16.178673 \nL 69.163125 14.787824 \nL 88.693125 14.182547 \nL 108.223125 13.821956 \nL 127.753125 14.040886 \nL 147.283125 13.71893 \nL 166.813125 13.615904 \n\" clip-path=\"url(#p1845b2c599)\" style=\"fill: none; stroke-dasharray: 9.6,2.4,1.5,2.4; stroke-dashoffset: 0; stroke: #2ca02c; stroke-width: 1.5\"/>\n   </g>\n   <g id=\"line2d_93\">\n    <path d=\"M 34.954394 62.186757 \nL 44.698573 123.594895 \nL 54.442752 129.277123 \nL 64.186931 131.50917 \nL 73.93111 133.339369 \nL 83.675289 133.929023 \nL 93.419468 135.297411 \nL 103.163647 135.622701 \nL 112.907826 136.124599 \nL 122.652006 136.892077 \nL 132.396185 137.094807 \nL 142.140364 137.254137 \nL 151.884543 138.164796 \nL 161.628722 137.799757 \nL 171.372901 138.781401 \n\" clip-path=\"url(#p1845b2c599)\" style=\"fill: none; stroke: #1f77b4; stroke-width: 1.5; stroke-linecap: square\"/>\n   </g>\n   <g id=\"line2d_94\">\n    <path d=\"M 49.633125 129.593995 \nL 69.163125 133.754043 \nL 88.693125 135.597452 \nL 108.223125 136.492313 \nL 127.753125 136.382944 \nL 147.283125 136.993226 \nL 166.813125 136.769067 \n\" clip-path=\"url(#p1845b2c599)\" style=\"fill: none; stroke-dasharray: 5.55,2.4; stroke-dashoffset: 0; stroke: #ff7f0e; stroke-width: 1.5\"/>\n   </g>\n   <g id=\"line2d_95\">\n    <path d=\"M 49.633125 16.178673 \nL 69.163125 14.787824 \nL 88.693125 14.182547 \nL 108.223125 13.821956 \nL 127.753125 14.040886 \nL 147.283125 13.71893 \nL 166.813125 13.615904 \n\" clip-path=\"url(#p1845b2c599)\" style=\"fill: none; stroke-dasharray: 9.6,2.4,1.5,2.4; stroke-dashoffset: 0; stroke: #2ca02c; stroke-width: 1.5\"/>\n   </g>\n   <g id=\"line2d_96\">\n    <path d=\"M 34.954394 62.186757 \nL 44.698573 123.594895 \nL 54.442752 129.277123 \nL 64.186931 131.50917 \nL 73.93111 133.339369 \nL 83.675289 133.929023 \nL 93.419468 135.297411 \nL 103.163647 135.622701 \nL 112.907826 136.124599 \nL 122.652006 136.892077 \nL 132.396185 137.094807 \nL 142.140364 137.254137 \nL 151.884543 138.164796 \nL 161.628722 137.799757 \nL 171.372901 138.781401 \nL 181.11708 138.117271 \n\" clip-path=\"url(#p1845b2c599)\" style=\"fill: none; stroke: #1f77b4; stroke-width: 1.5; stroke-linecap: square\"/>\n   </g>\n   <g id=\"line2d_97\">\n    <path d=\"M 49.633125 129.593995 \nL 69.163125 133.754043 \nL 88.693125 135.597452 \nL 108.223125 136.492313 \nL 127.753125 136.382944 \nL 147.283125 136.993226 \nL 166.813125 136.769067 \n\" clip-path=\"url(#p1845b2c599)\" style=\"fill: none; stroke-dasharray: 5.55,2.4; stroke-dashoffset: 0; stroke: #ff7f0e; stroke-width: 1.5\"/>\n   </g>\n   <g id=\"line2d_98\">\n    <path d=\"M 49.633125 16.178673 \nL 69.163125 14.787824 \nL 88.693125 14.182547 \nL 108.223125 13.821956 \nL 127.753125 14.040886 \nL 147.283125 13.71893 \nL 166.813125 13.615904 \n\" clip-path=\"url(#p1845b2c599)\" style=\"fill: none; stroke-dasharray: 9.6,2.4,1.5,2.4; stroke-dashoffset: 0; stroke: #2ca02c; stroke-width: 1.5\"/>\n   </g>\n   <g id=\"line2d_99\">\n    <path d=\"M 34.954394 62.186757 \nL 44.698573 123.594895 \nL 54.442752 129.277123 \nL 64.186931 131.50917 \nL 73.93111 133.339369 \nL 83.675289 133.929023 \nL 93.419468 135.297411 \nL 103.163647 135.622701 \nL 112.907826 136.124599 \nL 122.652006 136.892077 \nL 132.396185 137.094807 \nL 142.140364 137.254137 \nL 151.884543 138.164796 \nL 161.628722 137.799757 \nL 171.372901 138.781401 \nL 181.11708 138.117271 \n\" clip-path=\"url(#p1845b2c599)\" style=\"fill: none; stroke: #1f77b4; stroke-width: 1.5; stroke-linecap: square\"/>\n   </g>\n   <g id=\"line2d_100\">\n    <path d=\"M 49.633125 129.593995 \nL 69.163125 133.754043 \nL 88.693125 135.597452 \nL 108.223125 136.492313 \nL 127.753125 136.382944 \nL 147.283125 136.993226 \nL 166.813125 136.769067 \nL 186.343125 135.484069 \n\" clip-path=\"url(#p1845b2c599)\" style=\"fill: none; stroke-dasharray: 5.55,2.4; stroke-dashoffset: 0; stroke: #ff7f0e; stroke-width: 1.5\"/>\n   </g>\n   <g id=\"line2d_101\">\n    <path d=\"M 49.633125 16.178673 \nL 69.163125 14.787824 \nL 88.693125 14.182547 \nL 108.223125 13.821956 \nL 127.753125 14.040886 \nL 147.283125 13.71893 \nL 166.813125 13.615904 \n\" clip-path=\"url(#p1845b2c599)\" style=\"fill: none; stroke-dasharray: 9.6,2.4,1.5,2.4; stroke-dashoffset: 0; stroke: #2ca02c; stroke-width: 1.5\"/>\n   </g>\n   <g id=\"line2d_102\">\n    <path d=\"M 34.954394 62.186757 \nL 44.698573 123.594895 \nL 54.442752 129.277123 \nL 64.186931 131.50917 \nL 73.93111 133.339369 \nL 83.675289 133.929023 \nL 93.419468 135.297411 \nL 103.163647 135.622701 \nL 112.907826 136.124599 \nL 122.652006 136.892077 \nL 132.396185 137.094807 \nL 142.140364 137.254137 \nL 151.884543 138.164796 \nL 161.628722 137.799757 \nL 171.372901 138.781401 \nL 181.11708 138.117271 \n\" clip-path=\"url(#p1845b2c599)\" style=\"fill: none; stroke: #1f77b4; stroke-width: 1.5; stroke-linecap: square\"/>\n   </g>\n   <g id=\"line2d_103\">\n    <path d=\"M 49.633125 129.593995 \nL 69.163125 133.754043 \nL 88.693125 135.597452 \nL 108.223125 136.492313 \nL 127.753125 136.382944 \nL 147.283125 136.993226 \nL 166.813125 136.769067 \nL 186.343125 135.484069 \n\" clip-path=\"url(#p1845b2c599)\" style=\"fill: none; stroke-dasharray: 5.55,2.4; stroke-dashoffset: 0; stroke: #ff7f0e; stroke-width: 1.5\"/>\n   </g>\n   <g id=\"line2d_104\">\n    <path d=\"M 49.633125 16.178673 \nL 69.163125 14.787824 \nL 88.693125 14.182547 \nL 108.223125 13.821956 \nL 127.753125 14.040886 \nL 147.283125 13.71893 \nL 166.813125 13.615904 \nL 186.343125 14.15679 \n\" clip-path=\"url(#p1845b2c599)\" style=\"fill: none; stroke-dasharray: 9.6,2.4,1.5,2.4; stroke-dashoffset: 0; stroke: #2ca02c; stroke-width: 1.5\"/>\n   </g>\n   <g id=\"line2d_105\">\n    <path d=\"M 34.954394 62.186757 \nL 44.698573 123.594895 \nL 54.442752 129.277123 \nL 64.186931 131.50917 \nL 73.93111 133.339369 \nL 83.675289 133.929023 \nL 93.419468 135.297411 \nL 103.163647 135.622701 \nL 112.907826 136.124599 \nL 122.652006 136.892077 \nL 132.396185 137.094807 \nL 142.140364 137.254137 \nL 151.884543 138.164796 \nL 161.628722 137.799757 \nL 171.372901 138.781401 \nL 181.11708 138.117271 \nL 190.861259 139.159776 \n\" clip-path=\"url(#p1845b2c599)\" style=\"fill: none; stroke: #1f77b4; stroke-width: 1.5; stroke-linecap: square\"/>\n   </g>\n   <g id=\"line2d_106\">\n    <path d=\"M 49.633125 129.593995 \nL 69.163125 133.754043 \nL 88.693125 135.597452 \nL 108.223125 136.492313 \nL 127.753125 136.382944 \nL 147.283125 136.993226 \nL 166.813125 136.769067 \nL 186.343125 135.484069 \n\" clip-path=\"url(#p1845b2c599)\" style=\"fill: none; stroke-dasharray: 5.55,2.4; stroke-dashoffset: 0; stroke: #ff7f0e; stroke-width: 1.5\"/>\n   </g>\n   <g id=\"line2d_107\">\n    <path d=\"M 49.633125 16.178673 \nL 69.163125 14.787824 \nL 88.693125 14.182547 \nL 108.223125 13.821956 \nL 127.753125 14.040886 \nL 147.283125 13.71893 \nL 166.813125 13.615904 \nL 186.343125 14.15679 \n\" clip-path=\"url(#p1845b2c599)\" style=\"fill: none; stroke-dasharray: 9.6,2.4,1.5,2.4; stroke-dashoffset: 0; stroke: #2ca02c; stroke-width: 1.5\"/>\n   </g>\n   <g id=\"line2d_108\">\n    <path d=\"M 34.954394 62.186757 \nL 44.698573 123.594895 \nL 54.442752 129.277123 \nL 64.186931 131.50917 \nL 73.93111 133.339369 \nL 83.675289 133.929023 \nL 93.419468 135.297411 \nL 103.163647 135.622701 \nL 112.907826 136.124599 \nL 122.652006 136.892077 \nL 132.396185 137.094807 \nL 142.140364 137.254137 \nL 151.884543 138.164796 \nL 161.628722 137.799757 \nL 171.372901 138.781401 \nL 181.11708 138.117271 \nL 190.861259 139.159776 \nL 200.605438 138.644436 \n\" clip-path=\"url(#p1845b2c599)\" style=\"fill: none; stroke: #1f77b4; stroke-width: 1.5; stroke-linecap: square\"/>\n   </g>\n   <g id=\"line2d_109\">\n    <path d=\"M 49.633125 129.593995 \nL 69.163125 133.754043 \nL 88.693125 135.597452 \nL 108.223125 136.492313 \nL 127.753125 136.382944 \nL 147.283125 136.993226 \nL 166.813125 136.769067 \nL 186.343125 135.484069 \n\" clip-path=\"url(#p1845b2c599)\" style=\"fill: none; stroke-dasharray: 5.55,2.4; stroke-dashoffset: 0; stroke: #ff7f0e; stroke-width: 1.5\"/>\n   </g>\n   <g id=\"line2d_110\">\n    <path d=\"M 49.633125 16.178673 \nL 69.163125 14.787824 \nL 88.693125 14.182547 \nL 108.223125 13.821956 \nL 127.753125 14.040886 \nL 147.283125 13.71893 \nL 166.813125 13.615904 \nL 186.343125 14.15679 \n\" clip-path=\"url(#p1845b2c599)\" style=\"fill: none; stroke-dasharray: 9.6,2.4,1.5,2.4; stroke-dashoffset: 0; stroke: #2ca02c; stroke-width: 1.5\"/>\n   </g>\n   <g id=\"line2d_111\">\n    <path d=\"M 34.954394 62.186757 \nL 44.698573 123.594895 \nL 54.442752 129.277123 \nL 64.186931 131.50917 \nL 73.93111 133.339369 \nL 83.675289 133.929023 \nL 93.419468 135.297411 \nL 103.163647 135.622701 \nL 112.907826 136.124599 \nL 122.652006 136.892077 \nL 132.396185 137.094807 \nL 142.140364 137.254137 \nL 151.884543 138.164796 \nL 161.628722 137.799757 \nL 171.372901 138.781401 \nL 181.11708 138.117271 \nL 190.861259 139.159776 \nL 200.605438 138.644436 \n\" clip-path=\"url(#p1845b2c599)\" style=\"fill: none; stroke: #1f77b4; stroke-width: 1.5; stroke-linecap: square\"/>\n   </g>\n   <g id=\"line2d_112\">\n    <path d=\"M 49.633125 129.593995 \nL 69.163125 133.754043 \nL 88.693125 135.597452 \nL 108.223125 136.492313 \nL 127.753125 136.382944 \nL 147.283125 136.993226 \nL 166.813125 136.769067 \nL 186.343125 135.484069 \nL 205.873125 137.751157 \n\" clip-path=\"url(#p1845b2c599)\" style=\"fill: none; stroke-dasharray: 5.55,2.4; stroke-dashoffset: 0; stroke: #ff7f0e; stroke-width: 1.5\"/>\n   </g>\n   <g id=\"line2d_113\">\n    <path d=\"M 49.633125 16.178673 \nL 69.163125 14.787824 \nL 88.693125 14.182547 \nL 108.223125 13.821956 \nL 127.753125 14.040886 \nL 147.283125 13.71893 \nL 166.813125 13.615904 \nL 186.343125 14.15679 \n\" clip-path=\"url(#p1845b2c599)\" style=\"fill: none; stroke-dasharray: 9.6,2.4,1.5,2.4; stroke-dashoffset: 0; stroke: #2ca02c; stroke-width: 1.5\"/>\n   </g>\n   <g id=\"line2d_114\">\n    <path d=\"M 34.954394 62.186757 \nL 44.698573 123.594895 \nL 54.442752 129.277123 \nL 64.186931 131.50917 \nL 73.93111 133.339369 \nL 83.675289 133.929023 \nL 93.419468 135.297411 \nL 103.163647 135.622701 \nL 112.907826 136.124599 \nL 122.652006 136.892077 \nL 132.396185 137.094807 \nL 142.140364 137.254137 \nL 151.884543 138.164796 \nL 161.628722 137.799757 \nL 171.372901 138.781401 \nL 181.11708 138.117271 \nL 190.861259 139.159776 \nL 200.605438 138.644436 \n\" clip-path=\"url(#p1845b2c599)\" style=\"fill: none; stroke: #1f77b4; stroke-width: 1.5; stroke-linecap: square\"/>\n   </g>\n   <g id=\"line2d_115\">\n    <path d=\"M 49.633125 129.593995 \nL 69.163125 133.754043 \nL 88.693125 135.597452 \nL 108.223125 136.492313 \nL 127.753125 136.382944 \nL 147.283125 136.993226 \nL 166.813125 136.769067 \nL 186.343125 135.484069 \nL 205.873125 137.751157 \n\" clip-path=\"url(#p1845b2c599)\" style=\"fill: none; stroke-dasharray: 5.55,2.4; stroke-dashoffset: 0; stroke: #ff7f0e; stroke-width: 1.5\"/>\n   </g>\n   <g id=\"line2d_116\">\n    <path d=\"M 49.633125 16.178673 \nL 69.163125 14.787824 \nL 88.693125 14.182547 \nL 108.223125 13.821956 \nL 127.753125 14.040886 \nL 147.283125 13.71893 \nL 166.813125 13.615904 \nL 186.343125 14.15679 \nL 205.873125 13.5 \n\" clip-path=\"url(#p1845b2c599)\" style=\"fill: none; stroke-dasharray: 9.6,2.4,1.5,2.4; stroke-dashoffset: 0; stroke: #2ca02c; stroke-width: 1.5\"/>\n   </g>\n   <g id=\"line2d_117\">\n    <path d=\"M 34.954394 62.186757 \nL 44.698573 123.594895 \nL 54.442752 129.277123 \nL 64.186931 131.50917 \nL 73.93111 133.339369 \nL 83.675289 133.929023 \nL 93.419468 135.297411 \nL 103.163647 135.622701 \nL 112.907826 136.124599 \nL 122.652006 136.892077 \nL 132.396185 137.094807 \nL 142.140364 137.254137 \nL 151.884543 138.164796 \nL 161.628722 137.799757 \nL 171.372901 138.781401 \nL 181.11708 138.117271 \nL 190.861259 139.159776 \nL 200.605438 138.644436 \nL 210.349618 139.5 \n\" clip-path=\"url(#p1845b2c599)\" style=\"fill: none; stroke: #1f77b4; stroke-width: 1.5; stroke-linecap: square\"/>\n   </g>\n   <g id=\"line2d_118\">\n    <path d=\"M 49.633125 129.593995 \nL 69.163125 133.754043 \nL 88.693125 135.597452 \nL 108.223125 136.492313 \nL 127.753125 136.382944 \nL 147.283125 136.993226 \nL 166.813125 136.769067 \nL 186.343125 135.484069 \nL 205.873125 137.751157 \n\" clip-path=\"url(#p1845b2c599)\" style=\"fill: none; stroke-dasharray: 5.55,2.4; stroke-dashoffset: 0; stroke: #ff7f0e; stroke-width: 1.5\"/>\n   </g>\n   <g id=\"line2d_119\">\n    <path d=\"M 49.633125 16.178673 \nL 69.163125 14.787824 \nL 88.693125 14.182547 \nL 108.223125 13.821956 \nL 127.753125 14.040886 \nL 147.283125 13.71893 \nL 166.813125 13.615904 \nL 186.343125 14.15679 \nL 205.873125 13.5 \n\" clip-path=\"url(#p1845b2c599)\" style=\"fill: none; stroke-dasharray: 9.6,2.4,1.5,2.4; stroke-dashoffset: 0; stroke: #2ca02c; stroke-width: 1.5\"/>\n   </g>\n   <g id=\"line2d_120\">\n    <path d=\"M 34.954394 62.186757 \nL 44.698573 123.594895 \nL 54.442752 129.277123 \nL 64.186931 131.50917 \nL 73.93111 133.339369 \nL 83.675289 133.929023 \nL 93.419468 135.297411 \nL 103.163647 135.622701 \nL 112.907826 136.124599 \nL 122.652006 136.892077 \nL 132.396185 137.094807 \nL 142.140364 137.254137 \nL 151.884543 138.164796 \nL 161.628722 137.799757 \nL 171.372901 138.781401 \nL 181.11708 138.117271 \nL 190.861259 139.159776 \nL 200.605438 138.644436 \nL 210.349618 139.5 \nL 220.093797 139.235694 \n\" clip-path=\"url(#p1845b2c599)\" style=\"fill: none; stroke: #1f77b4; stroke-width: 1.5; stroke-linecap: square\"/>\n   </g>\n   <g id=\"line2d_121\">\n    <path d=\"M 49.633125 129.593995 \nL 69.163125 133.754043 \nL 88.693125 135.597452 \nL 108.223125 136.492313 \nL 127.753125 136.382944 \nL 147.283125 136.993226 \nL 166.813125 136.769067 \nL 186.343125 135.484069 \nL 205.873125 137.751157 \n\" clip-path=\"url(#p1845b2c599)\" style=\"fill: none; stroke-dasharray: 5.55,2.4; stroke-dashoffset: 0; stroke: #ff7f0e; stroke-width: 1.5\"/>\n   </g>\n   <g id=\"line2d_122\">\n    <path d=\"M 49.633125 16.178673 \nL 69.163125 14.787824 \nL 88.693125 14.182547 \nL 108.223125 13.821956 \nL 127.753125 14.040886 \nL 147.283125 13.71893 \nL 166.813125 13.615904 \nL 186.343125 14.15679 \nL 205.873125 13.5 \n\" clip-path=\"url(#p1845b2c599)\" style=\"fill: none; stroke-dasharray: 9.6,2.4,1.5,2.4; stroke-dashoffset: 0; stroke: #2ca02c; stroke-width: 1.5\"/>\n   </g>\n   <g id=\"line2d_123\">\n    <path d=\"M 34.954394 62.186757 \nL 44.698573 123.594895 \nL 54.442752 129.277123 \nL 64.186931 131.50917 \nL 73.93111 133.339369 \nL 83.675289 133.929023 \nL 93.419468 135.297411 \nL 103.163647 135.622701 \nL 112.907826 136.124599 \nL 122.652006 136.892077 \nL 132.396185 137.094807 \nL 142.140364 137.254137 \nL 151.884543 138.164796 \nL 161.628722 137.799757 \nL 171.372901 138.781401 \nL 181.11708 138.117271 \nL 190.861259 139.159776 \nL 200.605438 138.644436 \nL 210.349618 139.5 \nL 220.093797 139.235694 \n\" clip-path=\"url(#p1845b2c599)\" style=\"fill: none; stroke: #1f77b4; stroke-width: 1.5; stroke-linecap: square\"/>\n   </g>\n   <g id=\"line2d_124\">\n    <path d=\"M 49.633125 129.593995 \nL 69.163125 133.754043 \nL 88.693125 135.597452 \nL 108.223125 136.492313 \nL 127.753125 136.382944 \nL 147.283125 136.993226 \nL 166.813125 136.769067 \nL 186.343125 135.484069 \nL 205.873125 137.751157 \nL 225.403125 136.475338 \n\" clip-path=\"url(#p1845b2c599)\" style=\"fill: none; stroke-dasharray: 5.55,2.4; stroke-dashoffset: 0; stroke: #ff7f0e; stroke-width: 1.5\"/>\n   </g>\n   <g id=\"line2d_125\">\n    <path d=\"M 49.633125 16.178673 \nL 69.163125 14.787824 \nL 88.693125 14.182547 \nL 108.223125 13.821956 \nL 127.753125 14.040886 \nL 147.283125 13.71893 \nL 166.813125 13.615904 \nL 186.343125 14.15679 \nL 205.873125 13.5 \n\" clip-path=\"url(#p1845b2c599)\" style=\"fill: none; stroke-dasharray: 9.6,2.4,1.5,2.4; stroke-dashoffset: 0; stroke: #2ca02c; stroke-width: 1.5\"/>\n   </g>\n   <g id=\"line2d_126\">\n    <path d=\"M 34.954394 62.186757 \nL 44.698573 123.594895 \nL 54.442752 129.277123 \nL 64.186931 131.50917 \nL 73.93111 133.339369 \nL 83.675289 133.929023 \nL 93.419468 135.297411 \nL 103.163647 135.622701 \nL 112.907826 136.124599 \nL 122.652006 136.892077 \nL 132.396185 137.094807 \nL 142.140364 137.254137 \nL 151.884543 138.164796 \nL 161.628722 137.799757 \nL 171.372901 138.781401 \nL 181.11708 138.117271 \nL 190.861259 139.159776 \nL 200.605438 138.644436 \nL 210.349618 139.5 \nL 220.093797 139.235694 \n\" clip-path=\"url(#p1845b2c599)\" style=\"fill: none; stroke: #1f77b4; stroke-width: 1.5; stroke-linecap: square\"/>\n   </g>\n   <g id=\"line2d_127\">\n    <path d=\"M 49.633125 129.593995 \nL 69.163125 133.754043 \nL 88.693125 135.597452 \nL 108.223125 136.492313 \nL 127.753125 136.382944 \nL 147.283125 136.993226 \nL 166.813125 136.769067 \nL 186.343125 135.484069 \nL 205.873125 137.751157 \nL 225.403125 136.475338 \n\" clip-path=\"url(#p1845b2c599)\" style=\"fill: none; stroke-dasharray: 5.55,2.4; stroke-dashoffset: 0; stroke: #ff7f0e; stroke-width: 1.5\"/>\n   </g>\n   <g id=\"line2d_128\">\n    <path d=\"M 49.633125 16.178673 \nL 69.163125 14.787824 \nL 88.693125 14.182547 \nL 108.223125 13.821956 \nL 127.753125 14.040886 \nL 147.283125 13.71893 \nL 166.813125 13.615904 \nL 186.343125 14.15679 \nL 205.873125 13.5 \nL 225.403125 13.731808 \n\" clip-path=\"url(#p1845b2c599)\" style=\"fill: none; stroke-dasharray: 9.6,2.4,1.5,2.4; stroke-dashoffset: 0; stroke: #2ca02c; stroke-width: 1.5\"/>\n   </g>\n   <g id=\"patch_3\">\n    <path d=\"M 30.103125 145.8 \nL 30.103125 7.2 \n\" style=\"fill: none; stroke: #000000; stroke-width: 0.8; stroke-linejoin: miter; stroke-linecap: square\"/>\n   </g>\n   <g id=\"patch_4\">\n    <path d=\"M 225.403125 145.8 \nL 225.403125 7.2 \n\" style=\"fill: none; stroke: #000000; stroke-width: 0.8; stroke-linejoin: miter; stroke-linecap: square\"/>\n   </g>\n   <g id=\"patch_5\">\n    <path d=\"M 30.103125 145.8 \nL 225.403125 145.8 \n\" style=\"fill: none; stroke: #000000; stroke-width: 0.8; stroke-linejoin: miter; stroke-linecap: square\"/>\n   </g>\n   <g id=\"patch_6\">\n    <path d=\"M 30.103125 7.2 \nL 225.403125 7.2 \n\" style=\"fill: none; stroke: #000000; stroke-width: 0.8; stroke-linejoin: miter; stroke-linecap: square\"/>\n   </g>\n   <g id=\"legend_1\">\n    <g id=\"patch_7\">\n     <path d=\"M 138.8125 100.434375 \nL 218.403125 100.434375 \nQ 220.403125 100.434375 220.403125 98.434375 \nL 220.403125 54.565625 \nQ 220.403125 52.565625 218.403125 52.565625 \nL 138.8125 52.565625 \nQ 136.8125 52.565625 136.8125 54.565625 \nL 136.8125 98.434375 \nQ 136.8125 100.434375 138.8125 100.434375 \nz\n\" style=\"fill: #ffffff; opacity: 0.8; stroke: #cccccc; stroke-linejoin: miter\"/>\n    </g>\n    <g id=\"line2d_129\">\n     <path d=\"M 140.8125 60.664063 \nL 150.8125 60.664063 \nL 160.8125 60.664063 \n\" style=\"fill: none; stroke: #1f77b4; stroke-width: 1.5; stroke-linecap: square\"/>\n    </g>\n    <g id=\"text_14\">\n     <!-- train_loss -->\n     <g transform=\"translate(168.8125 64.164063) scale(0.1 -0.1)\">\n      <defs>\n       <path id=\"DejaVuSans-74\" d=\"M 1172 4494 \nL 1172 3500 \nL 2356 3500 \nL 2356 3053 \nL 1172 3053 \nL 1172 1153 \nQ 1172 725 1289 603 \nQ 1406 481 1766 481 \nL 2356 481 \nL 2356 0 \nL 1766 0 \nQ 1100 0 847 248 \nQ 594 497 594 1153 \nL 594 3053 \nL 172 3053 \nL 172 3500 \nL 594 3500 \nL 594 4494 \nL 1172 4494 \nz\n\" transform=\"scale(0.015625)\"/>\n       <path id=\"DejaVuSans-72\" d=\"M 2631 2963 \nQ 2534 3019 2420 3045 \nQ 2306 3072 2169 3072 \nQ 1681 3072 1420 2755 \nQ 1159 2438 1159 1844 \nL 1159 0 \nL 581 0 \nL 581 3500 \nL 1159 3500 \nL 1159 2956 \nQ 1341 3275 1631 3429 \nQ 1922 3584 2338 3584 \nQ 2397 3584 2469 3576 \nQ 2541 3569 2628 3553 \nL 2631 2963 \nz\n\" transform=\"scale(0.015625)\"/>\n       <path id=\"DejaVuSans-61\" d=\"M 2194 1759 \nQ 1497 1759 1228 1600 \nQ 959 1441 959 1056 \nQ 959 750 1161 570 \nQ 1363 391 1709 391 \nQ 2188 391 2477 730 \nQ 2766 1069 2766 1631 \nL 2766 1759 \nL 2194 1759 \nz\nM 3341 1997 \nL 3341 0 \nL 2766 0 \nL 2766 531 \nQ 2569 213 2275 61 \nQ 1981 -91 1556 -91 \nQ 1019 -91 701 211 \nQ 384 513 384 1019 \nQ 384 1609 779 1909 \nQ 1175 2209 1959 2209 \nL 2766 2209 \nL 2766 2266 \nQ 2766 2663 2505 2880 \nQ 2244 3097 1772 3097 \nQ 1472 3097 1187 3025 \nQ 903 2953 641 2809 \nL 641 3341 \nQ 956 3463 1253 3523 \nQ 1550 3584 1831 3584 \nQ 2591 3584 2966 3190 \nQ 3341 2797 3341 1997 \nz\n\" transform=\"scale(0.015625)\"/>\n       <path id=\"DejaVuSans-69\" d=\"M 603 3500 \nL 1178 3500 \nL 1178 0 \nL 603 0 \nL 603 3500 \nz\nM 603 4863 \nL 1178 4863 \nL 1178 4134 \nL 603 4134 \nL 603 4863 \nz\n\" transform=\"scale(0.015625)\"/>\n       <path id=\"DejaVuSans-6e\" d=\"M 3513 2113 \nL 3513 0 \nL 2938 0 \nL 2938 2094 \nQ 2938 2591 2744 2837 \nQ 2550 3084 2163 3084 \nQ 1697 3084 1428 2787 \nQ 1159 2491 1159 1978 \nL 1159 0 \nL 581 0 \nL 581 3500 \nL 1159 3500 \nL 1159 2956 \nQ 1366 3272 1645 3428 \nQ 1925 3584 2291 3584 \nQ 2894 3584 3203 3211 \nQ 3513 2838 3513 2113 \nz\n\" transform=\"scale(0.015625)\"/>\n       <path id=\"DejaVuSans-5f\" d=\"M 3263 -1063 \nL 3263 -1509 \nL -63 -1509 \nL -63 -1063 \nL 3263 -1063 \nz\n\" transform=\"scale(0.015625)\"/>\n       <path id=\"DejaVuSans-6c\" d=\"M 603 4863 \nL 1178 4863 \nL 1178 0 \nL 603 0 \nL 603 4863 \nz\n\" transform=\"scale(0.015625)\"/>\n       <path id=\"DejaVuSans-73\" d=\"M 2834 3397 \nL 2834 2853 \nQ 2591 2978 2328 3040 \nQ 2066 3103 1784 3103 \nQ 1356 3103 1142 2972 \nQ 928 2841 928 2578 \nQ 928 2378 1081 2264 \nQ 1234 2150 1697 2047 \nL 1894 2003 \nQ 2506 1872 2764 1633 \nQ 3022 1394 3022 966 \nQ 3022 478 2636 193 \nQ 2250 -91 1575 -91 \nQ 1294 -91 989 -36 \nQ 684 19 347 128 \nL 347 722 \nQ 666 556 975 473 \nQ 1284 391 1588 391 \nQ 1994 391 2212 530 \nQ 2431 669 2431 922 \nQ 2431 1156 2273 1281 \nQ 2116 1406 1581 1522 \nL 1381 1569 \nQ 847 1681 609 1914 \nQ 372 2147 372 2553 \nQ 372 3047 722 3315 \nQ 1072 3584 1716 3584 \nQ 2034 3584 2315 3537 \nQ 2597 3491 2834 3397 \nz\n\" transform=\"scale(0.015625)\"/>\n      </defs>\n      <use xlink:href=\"#DejaVuSans-74\"/>\n      <use xlink:href=\"#DejaVuSans-72\" x=\"39.208984\"/>\n      <use xlink:href=\"#DejaVuSans-61\" x=\"80.322266\"/>\n      <use xlink:href=\"#DejaVuSans-69\" x=\"141.601562\"/>\n      <use xlink:href=\"#DejaVuSans-6e\" x=\"169.384766\"/>\n      <use xlink:href=\"#DejaVuSans-5f\" x=\"232.763672\"/>\n      <use xlink:href=\"#DejaVuSans-6c\" x=\"282.763672\"/>\n      <use xlink:href=\"#DejaVuSans-6f\" x=\"310.546875\"/>\n      <use xlink:href=\"#DejaVuSans-73\" x=\"371.728516\"/>\n      <use xlink:href=\"#DejaVuSans-73\" x=\"423.828125\"/>\n     </g>\n    </g>\n    <g id=\"line2d_130\">\n     <path d=\"M 140.8125 75.620313 \nL 150.8125 75.620313 \nL 160.8125 75.620313 \n\" style=\"fill: none; stroke-dasharray: 5.55,2.4; stroke-dashoffset: 0; stroke: #ff7f0e; stroke-width: 1.5\"/>\n    </g>\n    <g id=\"text_15\">\n     <!-- val_loss -->\n     <g transform=\"translate(168.8125 79.120313) scale(0.1 -0.1)\">\n      <defs>\n       <path id=\"DejaVuSans-76\" d=\"M 191 3500 \nL 800 3500 \nL 1894 563 \nL 2988 3500 \nL 3597 3500 \nL 2284 0 \nL 1503 0 \nL 191 3500 \nz\n\" transform=\"scale(0.015625)\"/>\n      </defs>\n      <use xlink:href=\"#DejaVuSans-76\"/>\n      <use xlink:href=\"#DejaVuSans-61\" x=\"59.179688\"/>\n      <use xlink:href=\"#DejaVuSans-6c\" x=\"120.458984\"/>\n      <use xlink:href=\"#DejaVuSans-5f\" x=\"148.242188\"/>\n      <use xlink:href=\"#DejaVuSans-6c\" x=\"198.242188\"/>\n      <use xlink:href=\"#DejaVuSans-6f\" x=\"226.025391\"/>\n      <use xlink:href=\"#DejaVuSans-73\" x=\"287.207031\"/>\n      <use xlink:href=\"#DejaVuSans-73\" x=\"339.306641\"/>\n     </g>\n    </g>\n    <g id=\"line2d_131\">\n     <path d=\"M 140.8125 90.576563 \nL 150.8125 90.576563 \nL 160.8125 90.576563 \n\" style=\"fill: none; stroke-dasharray: 9.6,2.4,1.5,2.4; stroke-dashoffset: 0; stroke: #2ca02c; stroke-width: 1.5\"/>\n    </g>\n    <g id=\"text_16\">\n     <!-- val_acc -->\n     <g transform=\"translate(168.8125 94.076563) scale(0.1 -0.1)\">\n      <use xlink:href=\"#DejaVuSans-76\"/>\n      <use xlink:href=\"#DejaVuSans-61\" x=\"59.179688\"/>\n      <use xlink:href=\"#DejaVuSans-6c\" x=\"120.458984\"/>\n      <use xlink:href=\"#DejaVuSans-5f\" x=\"148.242188\"/>\n      <use xlink:href=\"#DejaVuSans-61\" x=\"198.242188\"/>\n      <use xlink:href=\"#DejaVuSans-63\" x=\"259.521484\"/>\n      <use xlink:href=\"#DejaVuSans-63\" x=\"314.501953\"/>\n     </g>\n    </g>\n   </g>\n  </g>\n </g>\n <defs>\n  <clipPath id=\"p1845b2c599\">\n   <rect x=\"30.103125\" y=\"7.2\" width=\"195.3\" height=\"138.6\"/>\n  </clipPath>\n </defs>\n</svg>\n"
          },
          "metadata": {}
        }
      ],
      "source": [
        "data = CustomMNIST(batch_size=128)\n",
        "trainer = d2l.Trainer(max_epochs=10, num_gpus=1)\n",
        "\n",
        "model = ModernLeNet(lr=0.1)\n",
        "model.apply_init([next(iter(data.get_dataloader(True)))[0]], init_cnn)\n",
        "trainer.fit(model, data)"
      ]
    },
    {
      "cell_type": "markdown",
      "source": [
        "Lấy ảnh từ tập dữ liệu"
      ],
      "metadata": {
        "id": "3rKpYD9Lrr-T"
      },
      "id": "3rKpYD9Lrr-T"
    },
    {
      "cell_type": "code",
      "source": [
        "X, y = next(iter(data.get_dataloader(train=False)))  # batch đầu tiên của tập test\n",
        "img = X[0:1]  # Chọn ảnh đầu tiên, giữ shape (1, 1, 28, 28)\n"
      ],
      "metadata": {
        "id": "rLPvDLPVrnQx"
      },
      "id": "rLPvDLPVrnQx",
      "execution_count": 19,
      "outputs": []
    },
    {
      "cell_type": "markdown",
      "source": [
        "tạo hàm hiển thị activation của 1 layer"
      ],
      "metadata": {
        "id": "TpwWuUP1rz0O"
      },
      "id": "TpwWuUP1rz0O"
    },
    {
      "cell_type": "code",
      "source": [
        "import matplotlib.pyplot as plt\n",
        "\n",
        "def plot_activations(tensor, title=\"\"):\n",
        "    num_channels = tensor.shape[1]\n",
        "    fig, axes = plt.subplots(1, min(num_channels, 6), figsize=(12, 2))\n",
        "    for i in range(min(num_channels, 6)):\n",
        "        axes[i].imshow(tensor[0, i].detach().cpu(), cmap='gray')\n",
        "        axes[i].axis('off')\n",
        "    fig.suptitle(title)\n",
        "    plt.show()\n"
      ],
      "metadata": {
        "id": "H8B2wX-Wr5fI"
      },
      "id": "H8B2wX-Wr5fI",
      "execution_count": 20,
      "outputs": []
    },
    {
      "cell_type": "markdown",
      "source": [
        "trích xuất conv1 và conv2"
      ],
      "metadata": {
        "id": "T8_Sa6gpr8g7"
      },
      "id": "T8_Sa6gpr8g7"
    },
    {
      "cell_type": "code",
      "source": [
        "# Lấy thiết bị của model\n",
        "device = next(model.parameters()).device\n",
        "\n",
        "# Đưa ảnh lên cùng thiết bị\n",
        "img = img.to(device)\n",
        "\n",
        "# Trích xuất các layer\n",
        "layers = model.net\n",
        "\n",
        "# Forward từng lớp\n",
        "conv1_out = layers[0](img)     # Conv1\n",
        "act1 = layers[1](conv1_out)    # ReLU\n",
        "pool1 = layers[2](act1)        # MaxPool\n",
        "\n",
        "conv2_out = layers[3](pool1)   # Conv2\n",
        "act2 = layers[4](conv2_out)    # ReLU\n",
        "pool2 = layers[5](act2)        # MaxPool\n",
        "\n",
        "# Hiển thị kết quả\n",
        "plot_activations(act1, \"Activations after Conv1\")\n",
        "plot_activations(act2, \"Activations after Conv2\")\n"
      ],
      "metadata": {
        "id": "b8BHyOwPr_cm",
        "outputId": "e4f1617e-16ee-4a45-c9e9-016f84acf5b4",
        "colab": {
          "base_uri": "https://localhost:8080/",
          "height": 397
        }
      },
      "id": "b8BHyOwPr_cm",
      "execution_count": 25,
      "outputs": [
        {
          "output_type": "display_data",
          "data": {
            "text/plain": [
              "<Figure size 1200x200 with 6 Axes>"
            ],
            "image/svg+xml": "<?xml version=\"1.0\" encoding=\"utf-8\" standalone=\"no\"?>\n<!DOCTYPE svg PUBLIC \"-//W3C//DTD SVG 1.1//EN\"\n  \"http://www.w3.org/Graphics/SVG/1.1/DTD/svg11.dtd\">\n<svg xmlns:xlink=\"http://www.w3.org/1999/xlink\" width=\"684pt\" height=\"132.068571pt\" viewBox=\"0 0 684 132.068571\" xmlns=\"http://www.w3.org/2000/svg\" version=\"1.1\">\n <metadata>\n  <rdf:RDF xmlns:dc=\"http://purl.org/dc/elements/1.1/\" xmlns:cc=\"http://creativecommons.org/ns#\" xmlns:rdf=\"http://www.w3.org/1999/02/22-rdf-syntax-ns#\">\n   <cc:Work>\n    <dc:type rdf:resource=\"http://purl.org/dc/dcmitype/StillImage\"/>\n    <dc:date>2025-08-01T08:13:39.028723</dc:date>\n    <dc:format>image/svg+xml</dc:format>\n    <dc:creator>\n     <cc:Agent>\n      <dc:title>Matplotlib v3.7.2, https://matplotlib.org/</dc:title>\n     </cc:Agent>\n    </dc:creator>\n   </cc:Work>\n  </rdf:RDF>\n </metadata>\n <defs>\n  <style type=\"text/css\">*{stroke-linejoin: round; stroke-linecap: butt}</style>\n </defs>\n <g id=\"figure_1\">\n  <g id=\"patch_1\">\n   <path d=\"M 0 132.068571 \nL 684 132.068571 \nL 684 0 \nL 0 0 \nz\n\" style=\"fill: #ffffff\"/>\n  </g>\n  <g id=\"axes_1\">\n   <g clip-path=\"url(#p7e9b8c2dc3)\">\n    <image xlink:href=\"data:image/png;base64,\niVBORw0KGgoAAAANSUhEUgAAAIUAAACFCAYAAAB12js8AAAE/UlEQVR4nO3dyyt0fwDH8TM/T7nlVu6lxEKSa+QSIsrSQilZKTsbxT/A1tpGShaWdkqKQiSRJJeU+y2k3HMp/DbP5pzPt2aax3jOzPN+7b6fvmfmLD59+3bOzDkey7K+rCAVFxcnWWtrq2QzMzOSHRwcBOScQsF/f/sE4D6UAoJSQFAKiF9/+wT+RHFxsWT19fWSDQ0NSVZXV2cbz83Nfdt5BTtWCghKAUEpICgFRFBvNDc3NyU7OjqS7OnpSbKlpaVAnFJIYKWAoBQQlALCYwXxXdKsrCzJTHc/7+/vJRsZGbGNu7u7v+28gh0rBQSlgKAUEJQCwrUbzdjYWMkeHh68HldVVSVZR0eHZM4LX8/PzzJneHjY6/eFIlYKCEoBQSkgKAWEa++SmjaVRUVFtvH6+rrM2d3dlcx0lfPj48M2rqyslDlsNIHfKAUEpYCgFBCuvaJpkpmZaRubbonf3t5KlpCQIJlz01pTUyNzPB6PZH19fV7OMvixUkBQCghKAeHai1cmzp/vt7S0yJzx8XHJTPuMx8dH27iwsFDmrK2tSVZdXS3ZwsKCZMGMlQKCUkBQCghKARFUF698kZ2dLdn+/r7X40pKSiRra2uTzLT5nJ+ft43Pz8+9fp+bsVJAUAoISgFBKSCC6oqmLwoKCiQz/Rzv68u+vzZtIJuamiRLSkqSrLS01DZmo4mQQykgKAUEpYAIuSuaJo2NjZJNT097Pa62tlayhoYGyXZ2dmzj2dlZmXN5een1+9yClQKCUkBQCoh/Yk8RGRkpmfOu6OLiok+fNTAwIJnzib6m/Yqvn+8GrBQQlAKCUkBQCoiQu0tq8vLyItnV1ZVfn2X6X0lvb69t/Pb2JnNOT08lOzk58escAo2VAoJSQFAKCEoB8U9c0fRFenq6ZBcXFz4d29/fbxsnJibKnOXlZclGR0d9PLufxUoBQSkgKAUEpYBgo/lbcnKyZNfX1z4dm5GRYRv39PTIHNOLdU1XOaempnz6zkBipYCgFBCUAuKfuEvqC9P+ob29XbKxsTHJnHuDw8NDmWN66q/pvWVuwEoBQSkgKAUEpYBwxUYzIiJCstfXV7+OS0lJkez4+Niv8zI9VS86Oloy54ZxcnLS7893A1YKCEoBQSkgKAVEwO+ShoeH28amu5Gmh4OYrhy6QVdXl2SDg4Nej2tubpZsb29Psq2tLf9O7BuxUkBQCghKAUEpIFzxc7yKigrJTFcrTU+dc0pLS5MsLy9PMufjlFNTU2VOTEyMZOXl5ZI5/8Bs+oOx6Uro3d2dZM4/K9/c3MicQGOlgKAUEJQC4sfvkoaFhUlm2j/k5+dL5rwDanpxrOmhIs4X01qWZa2srNjG9/f3Msfj8UjmfCWEZVlWZ2en1+MmJiYkM+0pTA9Y+WmsFBCUAoJSQFAKiB+/eGV6JPL7+7tkubm5kj08PNjG8fHxMmdjY8P/k4NlWawUMKAUEJQCglJAfOtG0/SurrOzM9v48/NT5pjubJpe+Gr6+ZqT8+d/lmVZOTk5kkVFRdnGpjui/rq9vZVsdXX12z4/0FgpICgFBKWAoBQQ37rRjI2NlaysrMw23t7eljmmzae/7+PAn2OlgKAUEJQCwhU/8Ye7sFJAUAoISgFBKSAoBQSlgKAUEJQCglJAUAoISgFBKSAoBQSlgKAUEJQCglJAUAoISgFBKSAoBQSlgKAUEP8Dm8U1deAeAAIAAAAASUVORK5CYII=\" id=\"image2b12873574\" transform=\"scale(1 -1) translate(0 -95.76)\" x=\"7.2\" y=\"-29.108571\" width=\"95.76\" height=\"95.76\"/>\n   </g>\n  </g>\n  <g id=\"axes_2\">\n   <g clip-path=\"url(#p624d1e0543)\">\n    <image xlink:href=\"data:image/png;base64,\niVBORw0KGgoAAAANSUhEUgAAAIUAAACFCAYAAAB12js8AAAE+klEQVR4nO3dSUskSxTF8XCeLbWcRSycEFwoiCu/uh/ChaBQ4ACKE87z/DZvk/ec95Ami86y/r9dXKKbWpyOvkRmRDallL5TA2pra8uMW1tbZc7X15fUXl9fa/abiqL5b/8AFA+hgCAUEIQCQrurBvH+/p7LnN+IlQKCUEAQCghCAdEQjWZvb6/UKpVKZnx2diZzLi4uavWTCo2VAoJQQBAKiML2FENDQ1KbmJjIjF2v8P2tD303Njak1t3dnRlvbW3JnM3NTanxlBQNiVBAEAoIQgFR2EbTKZVKmfHs7KzM6ezs/FEtvo43ODgoc5aWlqRWrVal9vz8nBm7ZreesFJAEAoIQgFBKCAK22g+PDxI7ebmJjN2r8t1dHRIbWdnR2qx0Xx7e5M5LS0tUmtqapJac3P239bn56fMqSesFBCEAoJQQBAKiMI2mq7xOzk5yYzHxsZkTnt7u9QeHx+ldnt7mxm7w8R3d3dSc41m3MGMjed//f1FxUoBQSggCAVEYXsKJ/YBe3t7Msf9fx5f40sppfv7+8zY9Q/udb9yuSy1+Iqe21T7SS9SFKwUEIQCglBAEAqIumo04wbQ8fGxzHGv1U1OTkptcXExMz48PJQ5rjmM50VS0kbz9PRU5tQTVgoIQgFBKCAIBURdNZrRx8eH1FyTNzw8LLXl5eXMOJ7dSMnvcrqnsPH8iXsqG3dQUyruLicrBQShgCAUEIQCoq4bTcfdcucOGPf09GTGbqfy8vJSagMDA1KLjezU1JTM2d3dlVpRsVJAEAoIQgHx63oKt/kTjwaklFJ/f39mPDIyInPcMYOjoyOpzc3NZcbT09My5/z8XGpXV1dSKwJWCghCAUEoIAgFxK9rNB13dfLBwUFm7J64ug2teHFKSvoqn9vgcrXr62upxY/m/o3vmLFSQBAKCEIBQSggGqLRdOKrdu42vrjrmZL/DklsGOMT2JT8Lqd7Ra8I3y1jpYAgFBCEAoJQQDRsoxm5sxpxdzGllGZmZqQWDz678xx9fX1Sc4/raTRRSIQCglBA0FP8y73Ov7+/LzV3Y974+Hhm/PT0JHPcrX3uG2jxBkB3MUutz6CyUkAQCghCAUEoIGg0/4dr8lytUqlkxu4paZyTkr+1Lz45dZew1PobZawUEIQCglBAEAoIGs0cxDMk8/PzMid+HDcl/2rf6OhoZuxu43M3+eWJlQKCUEAQCghCAUGjmYP40dz19XWZE78vkpJvPru6ujLj2Him5L9NkidWCghCAUEoIArRU7jvfrlznPGV+IWFBZnjNoTcq/Tx73eXiriP1rtX4eKfdR/HLZVKUtve3pZavMnPnUF1n5xwF6D8KVYKCEIBQSggCAVEro1muVyW2urqama8trYmc1ZWVqTmnjTGZs3dXuc+4+DOccZzou7cqDtL8ZMzF+51Ofcan5sXr352t/a5MyR5YqWAIBQQhAKCUEDk2mi6w7dxh9Fd+uGeBLqmNZ6JqFarMsd928NdBBIPAb+8vMicP+UaSHd9szvTEb8n4n6729HMEysFBKGAIBQQhAKiKaWU2xUobjcxPrZ2TWX82GtKftcu7u65ptI1dO6WmrhzWOtDu/WElQKCUEAQCohcewr8DqwUEIQCglBAEAoIQgFBKCAIBQShgCAUEIQCglBAEAoIQgFBKCAIBQShgCAUEIQCglBAEAoIQgFBKCAIBcQ/VVRd45WP7JYAAAAASUVORK5CYII=\" id=\"image752baa1356\" transform=\"scale(1 -1) translate(0 -95.76)\" x=\"121.988571\" y=\"-29.108571\" width=\"95.76\" height=\"95.76\"/>\n   </g>\n  </g>\n  <g id=\"axes_3\">\n   <g clip-path=\"url(#pb5ba80812e)\">\n    <image xlink:href=\"data:image/png;base64,\niVBORw0KGgoAAAANSUhEUgAAAIUAAACFCAYAAAB12js8AAAF2ElEQVR4nO3d2U9USxTF4Y0TYJwRBAPiBBExIUENDxj+dB984M1oSAgEZyWAI+0ALTLd59pr3dAhrZ5uf99b7dTVjlk5d6dO1amOiNiPCjp58qTU+vr6ivG1a9dkzvb2ttS+ffsmtfX19WL86dMnmVOv1w/8ne3oyN/+AageQgFBKCAIBcSxv/0D/k9HR4fUdnZ2inFnZ6fMmZqaklpuUCMiarVaMX748KHMWVlZkdry8rLUfv36JbVWxpMCglBAEAoIQgFR2UYzN5URusLoGsGJiQmp9fb2Sm16eroYf/z4Ueb09PRI7fPnz1Kj0UTbIxQQhAKisj3FkSOa1/7+/mI8Pj4uc+7fvy81t3i1t7dXjEdHR2XOjx8/pOYW1doNTwoIQgFBKCAIBURlG839fd0lmLfauUWjV69eSe3mzZtSu3z5cjH+8uWLzHn8+PGBv7Md8aSAIBQQhAKCUEBUttF05ze+f/9ejF1z+ObNG6nNzc1J7fTp08X42DH9pxgaGpLa4OCg1L5+/VqMXZPcSnhSQBAKCEIBQSggKtto7u7uSi0fCn737p3Mya/XIyJmZ2ellhvNc+fOyZyZmRmpvXjxQmr5APPbt29lTivhSQFBKCAIBURlewpna2urGOceI8L//9x93OTRo0fF2G3jGx4eltqDBw+k9v79+2Ls3t6ura1Jrap4UkAQCghCAUEoIFqq0cxvH12j+fz5c6mdOHHiwD87N4sREd3d3VK7ffu21PKCVn5rGuHPqroFuirgSQFBKCAIBQShgGipRjPLh4QjIjY3N6Xmtu1duXKlGM/Pz8ucU6dOSc01rXfu3CnGrtl1TbHbOlgFPCkgCAUEoYAgFBAt3Wg67usz7nX68ePHi3FuFiN889nV1XVg7fr16zLHrWi67YSuef7TeFJAEAoIQgHRdj2FO8eZz6BGRKyurhbj/BGTCO073H8XETEwMFCMR0ZGZI77mIo7q1qFBS2eFBCEAoJQQBAKiLZrNB13TUS+omFpaUnmuAtz3dUOudF050wmJyel5s6C0GiikggFBKGAIBQQ/0Sj6fz8+bMYu6bv9evXUnPb8fIX89ydZe5uksXFRanl7YTPnj2TOe7Lgc3EkwKCUEAQCghCAfHPNppZbjwj/FkN9xr+5cuXxfjixYsy5/z581K7e/eu1PKKqdtKSKOJP45QQBAKiJbuKdzFse6SW7dFL2+ldx8QqdVqUnN9Rt7i7xalbt26JTXXe+Q3ru4Lwu6sajPxpIAgFBCEAoJQQDS10XSN39GjR8u/0NzVlT+vHOGbw/znd3Z2yhy39a4R+aqHiIiNjQ2pueYzfwDFnQ1xd4+5D6zcuHGjGH/48EHmuGbXbRM8LJ4UEIQCglBAEAqIpjaarvHLbwd7enpkjmveXKOZt7nlJjYi4syZM1Jz93bkeW7lsF6vSy03lRG6WtloM53vHovQQ8euqXSfjKbRxG9FKCAIBQShgGhqo+kO5Obm033lxV0U614151fU7gI3d+bCNbf573SNoFuhdZ9mzl/BcauXbhuf+zx0fi1+9uxZmeN+azPxpIAgFBCEAqKpPYXbJp/fNLr+wZ2zdItQeSHMLdi4BaenT59KLW+Td7+9UbnXuXTpksxxfYZbtFtYWCjGT548kTnu673NxJMCglBAEAoIQgHRERH6OvKQ3FvS/JEPdzXCvXv3pOYWufKClltcchfMustjcwPc6MWxjZwhcdw2QbfVLl98mxvPCN9gN3NBiycFBKGAIBQQhALit2/Hu3r1ajEeGxuTOY2sXkZog+WaPrd9zW17y29YD3texHGNpztD4s6H5M8wu7er7u1wM/GkgCAUEIQCglBANHVF013EduHChWLsXiHnORGNnZNw5x/cZbWuyctNqmta/1U8KSAIBQShgGhqT4H2wJMCglBAEAoIQgFBKCAIBQShgCAUEIQCglBAEAoIQgFBKCAIBQShgCAUEIQCglBAEAoIQgFBKCAIBQShgPgP1pDytNXFzdUAAAAASUVORK5CYII=\" id=\"imageec09a62dd3\" transform=\"scale(1 -1) translate(0 -95.76)\" x=\"236.777143\" y=\"-29.108571\" width=\"95.76\" height=\"95.76\"/>\n   </g>\n  </g>\n  <g id=\"axes_4\">\n   <g clip-path=\"url(#pfcf909cd99)\">\n    <image xlink:href=\"data:image/png;base64,\niVBORw0KGgoAAAANSUhEUgAAAIUAAACFCAYAAAB12js8AAAFCUlEQVR4nO3d2y/cTxjH8XGqtbrOia1GQlrnCGki0lTEhUj8s+5diaioIOJMnCWk0WqURRH0pjczn+cX9ke3X+v9upsnszoXn84++R5mc5xzdy6C8vPzpdbZ2emN379/L3NOT0+ltru7e2/N+txLlfuvF4DoIRQQhAKCUEBoNxcR8Xhcau/evfPGg4ODMsdqUCcmJqQ2NDTkjc/OzmTO7e3tvevMRuwUEIQCglBAEAqIyDaaVsOYTCa9cXiF0znnEomE1HZ2dqT26tUrb/xSm0oLOwUEoYAgFBCR7Sms7/iwz4jFYjLnzZs3937OOee+f//+iNVlN3YKCEIBQSggCAVEZBtN6/G45eVlbzw7OytzSkpKpNbe3i616upqb5xKpdJdYtZip4AgFBCEAoJQQES20by5uZFa2GhOTk7KnKqqqgfVWlpavPHm5ma6S8xa7BQQhAKCUEAQCojINpqWvb09b2y9z1FfXy+1hoYGqfX19Xlj61b6ly9f0lxhdmCngCAUEIQC4ln1FHd3/vkq4cUs5+w+w7pz2tTU5I0/fvwoc75+/So163WBbMNOAUEoIAgFBKGAeFaNZujk5ERqU1NTUgubSuecKy4u9sYfPnyQOSsrK1KzTtoLG+Dnjp0CglBAEAoIQgHxrBtNS3gn1TnnxsbGpFZYWOiNw5P3nHOuu7tbauvr61LLtkf52CkgCAUEoYAgFBBZ12heXV1JbXp6WmqVlZXeuKKiQua0tbVJzTqRj0YTWY9QQBAKiKzrKSw/f/6UWvgeal1dncz59OmT1Pr7+6W2sbHhjefm5tJcYbSwU0AQCghCAUEoIF5Eo2kJH6uzHuPr6OiQWmtrq9R6e3u98fb2tsyxHh2MKnYKCEIBQSggCAXEi200Q6urq1JbW1uT2tu3b6XW09Pjjefn52XO6OjoI1aXWewUEIQCglBAEAoIGs0/vn37JrWZmRmpWSft1dTUeGPrkb2FhQWp/fjxI40VZg47BQShgCAUEPQUf1g/jhs+ZuecfZGrrKzMG1sn7Vn9yefPn9NYYeawU0AQCghCAUEoIDLeaObl5UnN+r2w/HxdWjwe98alpaUP+vvW6XXh6Xi5ufr/4/Xr11I7Pz+XWvheqnUASldXl9TGx8cftNZMY6eAIBQQhAKCUEA8aaNpNWuNjY3e2GrerM8lEgmphVcOwwbPOedisZjUwqbSOT0dz/qctS7rh2/D3y1LJpMyZ2BgQGrDw8NSs37DJNPYKSAIBQShgCAUEE/aaJaXl0utubnZG4eN5399LmwEnXOuqKjIG1tXNHNycqR2fX0ttYdcObT+lnX6XniLPbzy6pxzl5eXUrMa2SiI5qrwTxEKCEIB8aQ9hdUHhD8UW1tbK3MKCgqkZn13h9/L1mP5h4eHUtvf35da2C9Y/571nW8dPjIyMuKNrZP2lpaWpLa4uCi1KGCngCAUEIQCglBAPGmjab07ETo4OJDar1+/pLa1tSW18Djl4+NjmWM1n6lUSmpho2k9xvd/L4RZDaq11qhip4AgFBCEAoJQQDxpo2m9ExE2llYjeHR0JDXrkI+Li4tHrA4PxU4BQSggCAUEoYDIcc791Tdaw/c3rNvr1u1o61Y2MoOdAoJQQBAKiL/eU+D5YaeAIBQQhAKCUEAQCghCAUEoIAgFBKGAIBQQhAKCUEAQCghCAUEoIAgFBKGAIBQQhAKCUEAQCghCAUEoIH4DumUzql+8KUwAAAAASUVORK5CYII=\" id=\"image8035a3a7f2\" transform=\"scale(1 -1) translate(0 -95.76)\" x=\"351.565714\" y=\"-29.108571\" width=\"95.76\" height=\"95.76\"/>\n   </g>\n  </g>\n  <g id=\"axes_5\">\n   <g clip-path=\"url(#p1483a90214)\">\n    <image xlink:href=\"data:image/png;base64,\niVBORw0KGgoAAAANSUhEUgAAAIUAAACFCAYAAAB12js8AAAFHUlEQVR4nO3dx0s0SxjF4TaN46B+5oCKGXElKO7d+LcbwAAqCEYEI+qYc7iLu+o6R9S5M9duv9+zq5diZpBD+VLd1V2WyWTeowTq7u6W2vT0dGw8NTUlc/78+SO1ra0tqc3NzcXG8/PzMmdvb09qr6+vUisrK5NampX/9A9A8hAKCEIBQSggKn/6B3ykvFzzmsvlYuOGhgaZMzY2JrXR0VGpZTKZ2Pjy8lLm3N3dSe309FRqb29vUkszVgoIQgFBKCAIBURiG83z83OpLS0txcbZbFbmuAa1oqJCai8vL7FxU1OTzKmurpbab9u9dFgpIAgFBKGASFVPMTMzExsfHR3JHHdls6amRmo3NzexcT6f/+5P/LVYKSAIBQShgCAUEIltNJ3Hx8fYeH19XeY8PDxIraOjQ2ptbW2ffl9VVZXUwqurUaRXU9O+wcVKAUEoIAgFBKGASGyj6a5sujMXod3dXanV1tZKbWhoKDauq6uTOe52v8pK/ZOF3xk2xFGUruaTlQKCUEAQCghCAfHrGk0nvEweRVF0e3sbGw8PD8ucnp4eqbmGMdzR3N/flznv74k8x22xUkAQCghCAZHYnsIJN47C2/Q/4ja0woebNDc3y5ze3l6p9ff3S+34+Dg2vrq6kjnurGpSN7RYKSAIBQShgCAUEKlqNMNzou6K5Vebz7W1tdjYnRt1m2WuIe3r64uNDw8PZU64WfbR5ycBKwUEoYAgFBCEAiJVjWbov+wIhg3pysqKzHEPQBkZGZFaeBakq6tL5pydnUnt4uJCaknY5WSlgCAUEIQCglBA/LpG0x0Kfn5+/vSz7u/vpeYugZ+cnEgtPMDsDi+7nVB3m2ASdjlZKSAIBQShgEh1T+G4PqPQ4wLuiqu7Mhty51LdO9HcEwDdhtb/jZUCglBAEAoIQgHx6xpNp9BG021euTOh4ee7RnNgYEBq7n1k4bnUn3gACisFBKGAIBQQhALir2g0nfBqqruS6t4nsrm5KbWwsXRP1XM1d1g53NF0v6HUL8dlpYAgFBCEAoJQQPy1jWahu4IbGxtSC5tI1wg2NjZKraWlRWrhS3PdrmepdzlZKSAIBQShgEhVTxH+33QPGnHnP90tdOHmlbv6eX19LTV3FCB8SIl7lYQ7euBeotvZ2RkbuyMFrlZMrBQQhAKCUEAQCoiiNpruRa5h05XNZmWOaxjdvHCTyJ2lcLfCuVr4u1wj6G7Zc1ctwwbYfZ87z/H09CS1sPkMHxf9nc8qFCsFBKGAIBQQhAKiqI1me3u71MbHx2Pj8CWxUeTfq9Ha2iq18GEg4cNCoiiKcrmc1Orr6780L+R2R/P5/Kc19w6x2dlZqS0sLEjNPUUv5M6xFBMrBQShgCAUEIQCoqiNptt9GxwcjI0nJydlzsTEhNTcrWrhgV93Cdm9RC48tOtq7tyHu63O1cJGc2dnR+YsLy9LbXFxUWrhpXm3s1vqF9+yUkAQCghCAVGWyWSK9g8qvJUsivQ1B26Dy70KwV2hPDg4iI1XV1dlzvb2ttTS9PL5Qrkr1IVipYAgFBCEAoJQQBS10SzmLWH4HhpNlBShgCAUEIQCIlUHjPEvd5tgUT+/pJ+OVCIUEIQCglBAFLXRdA1QqR8ZXKjw7ESpz1KkCSsFBKGAIBQQRe0pvvIiVyQfKwUEoYAgFBCEAoJQQBAKCEIBQSggCAUEoYAgFBCEAoJQQBAKCEIBQSggCAUEoYAgFBCEAoJQQBAKCEIB8Q9mT1PnykIr3wAAAABJRU5ErkJggg==\" id=\"image0725b764fe\" transform=\"scale(1 -1) translate(0 -95.76)\" x=\"466.354286\" y=\"-29.108571\" width=\"95.76\" height=\"95.76\"/>\n   </g>\n  </g>\n  <g id=\"axes_6\">\n   <g clip-path=\"url(#p57102db928)\">\n    <image xlink:href=\"data:image/png;base64,\niVBORw0KGgoAAAANSUhEUgAAAIUAAACFCAYAAAB12js8AAAFBklEQVR4nO3duy9sXRjH8TXut0FGIWIkFBQTl0gUSCiIBo2ORqJCg79BJ/wBatEQFVGhEJeEKETDBIlCIXEJgnF3mrfZ+7fe17xn5hx7+H669eThrOJ3lid779njM8Z8GA8qLCyUWigUcqzf39+lJxwOS+3s7Cx+G/sBkr56A/AeQgFBKCAIBUTKV2/g3/j9fqk1NTU51oFAQHrW19elNjc3F7+N/QCcFBCEAoJQQBAKCM8Omh8feqE1GAw61vX19dKTmpoqNQbN/4eTAoJQQBAKCM/OFJFIRGruu6KVlZXSk5WVJTX3LGKMMaenpzHs7nvjpIAgFBCEAoJQQHh20Ly8vJTa5uamY93Y2Cg9VVVVUuvp6ZHa+Ph4DLv73jgpIAgFBKGAIBQQnh00n56epLa9ve1YLy8vS09FRYXUWltbpTYxMeFY2+7K/lScFBCEAoJQQBAKCM8OmjbHx8eO9eLiovTU1NRIraysTGr9/f2O9eTkZIy7+z44KSAIBQShgPAZj760JBoFBQVS6+vrk1pvb6/Urq+vHeuhoSHp2d3d/e29JTJOCghCAUEoIAgFREIPmjbV1dVSGx4ellpDQ4Njvbq6Kj2Dg4Px21gC4aSAIBQQhAKCUEAk1F3SaBwdHUltYWFBau6roc3NzdJjuxI6NTUVw+4SAycFBKGAIBQQhALi2w2aDw8PUtvY2JBaUVGRY11aWio93d3dUpufn5ea+zZ8ouOkgCAUEIQC4tvNFDbn5+dSW1lZcazr6uqkp6WlRWrujwYYY8zY2FgMu/MeTgoIQgFBKCAIBcSPGDRtDg8PHeulpSXpcT+yZ4wxnZ2dUpuZmXGsT05OYtvcF+OkgCAUEIQCglBA/NhB0/02vJ2dHemx1dra2qTmfmxvdHQ0xt19LU4KCEIBQSggCAXEjx003WxfNGd7zXNtba3UOjo6HOvZ2VnpOTg4iGF3fxcnBQShgCAUEMwU/3h7e5Pa3t6e1La2tqTW1dXlWA8MDEjPyMjI72/uL+OkgCAUEIQCglBA/PFBMyXF+U+8vr5KT1pamtQyMzOllpOT859rY4x5fHz89OdsfD6f1DIyMqQWDoellpTk/L/V3t4uPdPT01Kz3YX1Ak4KCEIBQSggCAVEXAfNYDAotby8PMf65eVFemwDna2Wm5vrWGdnZ0vP3d3dp/s0Rr8MNzU1VXpsVzndnxcxxpi1tTXHuri4WHrKy8ulxqCJhEEoIAgFBKGAiOugGQgEpBYKhRxr9+ctjDHm5uZGarY3zrmHQffVUluPMdENn+/v71HVbI/tud+YZ/vC3Kurq0/34BWcFBCEAoJQQMR1prD9jS8pKXGsbRecbBeEbH+D3bXb21vpub+/l1o0d07ddzqNsc8Utjf67u/vf7ov21dOeBUnBQShgCAUEIQCIq6Dpm3Acj9+Z7vzaHsUzjbQuS9C2QZI23CYnp4uNfdgaXsk0MY2kLovvtkuxl1cXET1+72AkwKCUEAQCghCARHXQdN2Z9P9sg7bZzBsP/f8/Cw19xXNSCQS1b78fr/U3I8FJicnR/W7omEbdm2PIXoVJwUEoYAgFBCEAsJnjNHn4+IoPz/fsbZ9cNg2hNmuaNpqiD9OCghCAUEoIP74TIHEw0kBQSggCAUEoYAgFBCEAoJQQBAKCEIBQSggCAUEoYAgFBCEAoJQQBAKCEIBQSggCAUEoYAgFBCEAoJQQPwCulk4mScmXZYAAAAASUVORK5CYII=\" id=\"image875353cfcb\" transform=\"scale(1 -1) translate(0 -95.76)\" x=\"581.142857\" y=\"-29.108571\" width=\"95.76\" height=\"95.76\"/>\n   </g>\n  </g>\n  <g id=\"text_1\">\n   <!-- Activations after Conv1 -->\n   <g transform=\"translate(260.995313 16.318125) scale(0.12 -0.12)\">\n    <defs>\n     <path id=\"DejaVuSans-41\" d=\"M 2188 4044 \nL 1331 1722 \nL 3047 1722 \nL 2188 4044 \nz\nM 1831 4666 \nL 2547 4666 \nL 4325 0 \nL 3669 0 \nL 3244 1197 \nL 1141 1197 \nL 716 0 \nL 50 0 \nL 1831 4666 \nz\n\" transform=\"scale(0.015625)\"/>\n     <path id=\"DejaVuSans-63\" d=\"M 3122 3366 \nL 3122 2828 \nQ 2878 2963 2633 3030 \nQ 2388 3097 2138 3097 \nQ 1578 3097 1268 2742 \nQ 959 2388 959 1747 \nQ 959 1106 1268 751 \nQ 1578 397 2138 397 \nQ 2388 397 2633 464 \nQ 2878 531 3122 666 \nL 3122 134 \nQ 2881 22 2623 -34 \nQ 2366 -91 2075 -91 \nQ 1284 -91 818 406 \nQ 353 903 353 1747 \nQ 353 2603 823 3093 \nQ 1294 3584 2113 3584 \nQ 2378 3584 2631 3529 \nQ 2884 3475 3122 3366 \nz\n\" transform=\"scale(0.015625)\"/>\n     <path id=\"DejaVuSans-74\" d=\"M 1172 4494 \nL 1172 3500 \nL 2356 3500 \nL 2356 3053 \nL 1172 3053 \nL 1172 1153 \nQ 1172 725 1289 603 \nQ 1406 481 1766 481 \nL 2356 481 \nL 2356 0 \nL 1766 0 \nQ 1100 0 847 248 \nQ 594 497 594 1153 \nL 594 3053 \nL 172 3053 \nL 172 3500 \nL 594 3500 \nL 594 4494 \nL 1172 4494 \nz\n\" transform=\"scale(0.015625)\"/>\n     <path id=\"DejaVuSans-69\" d=\"M 603 3500 \nL 1178 3500 \nL 1178 0 \nL 603 0 \nL 603 3500 \nz\nM 603 4863 \nL 1178 4863 \nL 1178 4134 \nL 603 4134 \nL 603 4863 \nz\n\" transform=\"scale(0.015625)\"/>\n     <path id=\"DejaVuSans-76\" d=\"M 191 3500 \nL 800 3500 \nL 1894 563 \nL 2988 3500 \nL 3597 3500 \nL 2284 0 \nL 1503 0 \nL 191 3500 \nz\n\" transform=\"scale(0.015625)\"/>\n     <path id=\"DejaVuSans-61\" d=\"M 2194 1759 \nQ 1497 1759 1228 1600 \nQ 959 1441 959 1056 \nQ 959 750 1161 570 \nQ 1363 391 1709 391 \nQ 2188 391 2477 730 \nQ 2766 1069 2766 1631 \nL 2766 1759 \nL 2194 1759 \nz\nM 3341 1997 \nL 3341 0 \nL 2766 0 \nL 2766 531 \nQ 2569 213 2275 61 \nQ 1981 -91 1556 -91 \nQ 1019 -91 701 211 \nQ 384 513 384 1019 \nQ 384 1609 779 1909 \nQ 1175 2209 1959 2209 \nL 2766 2209 \nL 2766 2266 \nQ 2766 2663 2505 2880 \nQ 2244 3097 1772 3097 \nQ 1472 3097 1187 3025 \nQ 903 2953 641 2809 \nL 641 3341 \nQ 956 3463 1253 3523 \nQ 1550 3584 1831 3584 \nQ 2591 3584 2966 3190 \nQ 3341 2797 3341 1997 \nz\n\" transform=\"scale(0.015625)\"/>\n     <path id=\"DejaVuSans-6f\" d=\"M 1959 3097 \nQ 1497 3097 1228 2736 \nQ 959 2375 959 1747 \nQ 959 1119 1226 758 \nQ 1494 397 1959 397 \nQ 2419 397 2687 759 \nQ 2956 1122 2956 1747 \nQ 2956 2369 2687 2733 \nQ 2419 3097 1959 3097 \nz\nM 1959 3584 \nQ 2709 3584 3137 3096 \nQ 3566 2609 3566 1747 \nQ 3566 888 3137 398 \nQ 2709 -91 1959 -91 \nQ 1206 -91 779 398 \nQ 353 888 353 1747 \nQ 353 2609 779 3096 \nQ 1206 3584 1959 3584 \nz\n\" transform=\"scale(0.015625)\"/>\n     <path id=\"DejaVuSans-6e\" d=\"M 3513 2113 \nL 3513 0 \nL 2938 0 \nL 2938 2094 \nQ 2938 2591 2744 2837 \nQ 2550 3084 2163 3084 \nQ 1697 3084 1428 2787 \nQ 1159 2491 1159 1978 \nL 1159 0 \nL 581 0 \nL 581 3500 \nL 1159 3500 \nL 1159 2956 \nQ 1366 3272 1645 3428 \nQ 1925 3584 2291 3584 \nQ 2894 3584 3203 3211 \nQ 3513 2838 3513 2113 \nz\n\" transform=\"scale(0.015625)\"/>\n     <path id=\"DejaVuSans-73\" d=\"M 2834 3397 \nL 2834 2853 \nQ 2591 2978 2328 3040 \nQ 2066 3103 1784 3103 \nQ 1356 3103 1142 2972 \nQ 928 2841 928 2578 \nQ 928 2378 1081 2264 \nQ 1234 2150 1697 2047 \nL 1894 2003 \nQ 2506 1872 2764 1633 \nQ 3022 1394 3022 966 \nQ 3022 478 2636 193 \nQ 2250 -91 1575 -91 \nQ 1294 -91 989 -36 \nQ 684 19 347 128 \nL 347 722 \nQ 666 556 975 473 \nQ 1284 391 1588 391 \nQ 1994 391 2212 530 \nQ 2431 669 2431 922 \nQ 2431 1156 2273 1281 \nQ 2116 1406 1581 1522 \nL 1381 1569 \nQ 847 1681 609 1914 \nQ 372 2147 372 2553 \nQ 372 3047 722 3315 \nQ 1072 3584 1716 3584 \nQ 2034 3584 2315 3537 \nQ 2597 3491 2834 3397 \nz\n\" transform=\"scale(0.015625)\"/>\n     <path id=\"DejaVuSans-20\" transform=\"scale(0.015625)\"/>\n     <path id=\"DejaVuSans-66\" d=\"M 2375 4863 \nL 2375 4384 \nL 1825 4384 \nQ 1516 4384 1395 4259 \nQ 1275 4134 1275 3809 \nL 1275 3500 \nL 2222 3500 \nL 2222 3053 \nL 1275 3053 \nL 1275 0 \nL 697 0 \nL 697 3053 \nL 147 3053 \nL 147 3500 \nL 697 3500 \nL 697 3744 \nQ 697 4328 969 4595 \nQ 1241 4863 1831 4863 \nL 2375 4863 \nz\n\" transform=\"scale(0.015625)\"/>\n     <path id=\"DejaVuSans-65\" d=\"M 3597 1894 \nL 3597 1613 \nL 953 1613 \nQ 991 1019 1311 708 \nQ 1631 397 2203 397 \nQ 2534 397 2845 478 \nQ 3156 559 3463 722 \nL 3463 178 \nQ 3153 47 2828 -22 \nQ 2503 -91 2169 -91 \nQ 1331 -91 842 396 \nQ 353 884 353 1716 \nQ 353 2575 817 3079 \nQ 1281 3584 2069 3584 \nQ 2775 3584 3186 3129 \nQ 3597 2675 3597 1894 \nz\nM 3022 2063 \nQ 3016 2534 2758 2815 \nQ 2500 3097 2075 3097 \nQ 1594 3097 1305 2825 \nQ 1016 2553 972 2059 \nL 3022 2063 \nz\n\" transform=\"scale(0.015625)\"/>\n     <path id=\"DejaVuSans-72\" d=\"M 2631 2963 \nQ 2534 3019 2420 3045 \nQ 2306 3072 2169 3072 \nQ 1681 3072 1420 2755 \nQ 1159 2438 1159 1844 \nL 1159 0 \nL 581 0 \nL 581 3500 \nL 1159 3500 \nL 1159 2956 \nQ 1341 3275 1631 3429 \nQ 1922 3584 2338 3584 \nQ 2397 3584 2469 3576 \nQ 2541 3569 2628 3553 \nL 2631 2963 \nz\n\" transform=\"scale(0.015625)\"/>\n     <path id=\"DejaVuSans-43\" d=\"M 4122 4306 \nL 4122 3641 \nQ 3803 3938 3442 4084 \nQ 3081 4231 2675 4231 \nQ 1875 4231 1450 3742 \nQ 1025 3253 1025 2328 \nQ 1025 1406 1450 917 \nQ 1875 428 2675 428 \nQ 3081 428 3442 575 \nQ 3803 722 4122 1019 \nL 4122 359 \nQ 3791 134 3420 21 \nQ 3050 -91 2638 -91 \nQ 1578 -91 968 557 \nQ 359 1206 359 2328 \nQ 359 3453 968 4101 \nQ 1578 4750 2638 4750 \nQ 3056 4750 3426 4639 \nQ 3797 4528 4122 4306 \nz\n\" transform=\"scale(0.015625)\"/>\n     <path id=\"DejaVuSans-31\" d=\"M 794 531 \nL 1825 531 \nL 1825 4091 \nL 703 3866 \nL 703 4441 \nL 1819 4666 \nL 2450 4666 \nL 2450 531 \nL 3481 531 \nL 3481 0 \nL 794 0 \nL 794 531 \nz\n\" transform=\"scale(0.015625)\"/>\n    </defs>\n    <use xlink:href=\"#DejaVuSans-41\"/>\n    <use xlink:href=\"#DejaVuSans-63\" x=\"66.658203\"/>\n    <use xlink:href=\"#DejaVuSans-74\" x=\"121.638672\"/>\n    <use xlink:href=\"#DejaVuSans-69\" x=\"160.847656\"/>\n    <use xlink:href=\"#DejaVuSans-76\" x=\"188.630859\"/>\n    <use xlink:href=\"#DejaVuSans-61\" x=\"247.810547\"/>\n    <use xlink:href=\"#DejaVuSans-74\" x=\"309.089844\"/>\n    <use xlink:href=\"#DejaVuSans-69\" x=\"348.298828\"/>\n    <use xlink:href=\"#DejaVuSans-6f\" x=\"376.082031\"/>\n    <use xlink:href=\"#DejaVuSans-6e\" x=\"437.263672\"/>\n    <use xlink:href=\"#DejaVuSans-73\" x=\"500.642578\"/>\n    <use xlink:href=\"#DejaVuSans-20\" x=\"552.742188\"/>\n    <use xlink:href=\"#DejaVuSans-61\" x=\"584.529297\"/>\n    <use xlink:href=\"#DejaVuSans-66\" x=\"645.808594\"/>\n    <use xlink:href=\"#DejaVuSans-74\" x=\"679.263672\"/>\n    <use xlink:href=\"#DejaVuSans-65\" x=\"718.472656\"/>\n    <use xlink:href=\"#DejaVuSans-72\" x=\"779.996094\"/>\n    <use xlink:href=\"#DejaVuSans-20\" x=\"821.109375\"/>\n    <use xlink:href=\"#DejaVuSans-43\" x=\"852.896484\"/>\n    <use xlink:href=\"#DejaVuSans-6f\" x=\"922.720703\"/>\n    <use xlink:href=\"#DejaVuSans-6e\" x=\"983.902344\"/>\n    <use xlink:href=\"#DejaVuSans-76\" x=\"1047.28125\"/>\n    <use xlink:href=\"#DejaVuSans-31\" x=\"1106.460938\"/>\n   </g>\n  </g>\n </g>\n <defs>\n  <clipPath id=\"p7e9b8c2dc3\">\n   <rect x=\"7.2\" y=\"29.211429\" width=\"95.657143\" height=\"95.657143\"/>\n  </clipPath>\n  <clipPath id=\"p624d1e0543\">\n   <rect x=\"121.988571\" y=\"29.211429\" width=\"95.657143\" height=\"95.657143\"/>\n  </clipPath>\n  <clipPath id=\"pb5ba80812e\">\n   <rect x=\"236.777143\" y=\"29.211429\" width=\"95.657143\" height=\"95.657143\"/>\n  </clipPath>\n  <clipPath id=\"pfcf909cd99\">\n   <rect x=\"351.565714\" y=\"29.211429\" width=\"95.657143\" height=\"95.657143\"/>\n  </clipPath>\n  <clipPath id=\"p1483a90214\">\n   <rect x=\"466.354286\" y=\"29.211429\" width=\"95.657143\" height=\"95.657143\"/>\n  </clipPath>\n  <clipPath id=\"p57102db928\">\n   <rect x=\"581.142857\" y=\"29.211429\" width=\"95.657143\" height=\"95.657143\"/>\n  </clipPath>\n </defs>\n</svg>\n"
          },
          "metadata": {}
        },
        {
          "output_type": "display_data",
          "data": {
            "text/plain": [
              "<Figure size 1200x200 with 6 Axes>"
            ],
            "image/svg+xml": "<?xml version=\"1.0\" encoding=\"utf-8\" standalone=\"no\"?>\n<!DOCTYPE svg PUBLIC \"-//W3C//DTD SVG 1.1//EN\"\n  \"http://www.w3.org/Graphics/SVG/1.1/DTD/svg11.dtd\">\n<svg xmlns:xlink=\"http://www.w3.org/1999/xlink\" width=\"684pt\" height=\"132.068571pt\" viewBox=\"0 0 684 132.068571\" xmlns=\"http://www.w3.org/2000/svg\" version=\"1.1\">\n <metadata>\n  <rdf:RDF xmlns:dc=\"http://purl.org/dc/elements/1.1/\" xmlns:cc=\"http://creativecommons.org/ns#\" xmlns:rdf=\"http://www.w3.org/1999/02/22-rdf-syntax-ns#\">\n   <cc:Work>\n    <dc:type rdf:resource=\"http://purl.org/dc/dcmitype/StillImage\"/>\n    <dc:date>2025-08-01T08:13:39.221941</dc:date>\n    <dc:format>image/svg+xml</dc:format>\n    <dc:creator>\n     <cc:Agent>\n      <dc:title>Matplotlib v3.7.2, https://matplotlib.org/</dc:title>\n     </cc:Agent>\n    </dc:creator>\n   </cc:Work>\n  </rdf:RDF>\n </metadata>\n <defs>\n  <style type=\"text/css\">*{stroke-linejoin: round; stroke-linecap: butt}</style>\n </defs>\n <g id=\"figure_1\">\n  <g id=\"patch_1\">\n   <path d=\"M 0 132.068571 \nL 684 132.068571 \nL 684 0 \nL 0 0 \nz\n\" style=\"fill: #ffffff\"/>\n  </g>\n  <g id=\"axes_1\">\n   <g clip-path=\"url(#pb5a2c2c428)\">\n    <image xlink:href=\"data:image/png;base64,\niVBORw0KGgoAAAANSUhEUgAAAIUAAACFCAYAAAB12js8AAAB5klEQVR4nO3dIW4bQQCG0XHlA9gyDzUJtZRbWsoVcoUQSzbNMYJNLZmYpIUFH5oFTVu9x3/Ngk9DVtpdjTF+jkn7/X52MsYYY7fbTW+u1+v05vPzc3rDbz+++wH4+4iCEAUhCkIUhCgIURCiIERBiIIQBSEKYjUWvBDj/+amIERBiIIQBSEKQhSEKAhREKIgREGIghAFIQpCFIQoCFEQoiBEQYiCEAUhCkIUhCgIURCiIERBiIIQBSEKQhSEKAhREKIgREGIghAFIQpCFIQoiPXT09P06Ha7LTps6Y4/y01BiIIQBSEKQhSEKAhREKIgREGIghAFIQpCFIS/DRJuCkIUhCgIURCiIERBiIIQBSEKQhSEKAhREOvvfoB/3Wazmd48Pz9Pbz4+PqY3Y4zx9fU1vXFTEKIgREGIghAFIQpCFIQoCFEQoiBEQYiCWL+8vEyPXl9fFx12OBymN/f7fXpzOp2mN+fzeXozxhiPx2N68/7+Pr1Z8mJrKTcFIQpCFIQoCFEQoiBEQYiCEAUhCkIUhCiI1eVymf5k4na7XXTY8Xic3ry9vS06i+XcFIQoCFEQoiBEQYiCEAUhCkIUhCgIURCiIERB+LEc4aYgREGIghAFIQpCFIQoCFEQoiBEQYiCEAXxC/qdMEDuF0r2AAAAAElFTkSuQmCC\" id=\"image752e10d56d\" transform=\"scale(1 -1) translate(0 -95.76)\" x=\"7.2\" y=\"-29.108571\" width=\"95.76\" height=\"95.76\"/>\n   </g>\n  </g>\n  <g id=\"axes_2\">\n   <g clip-path=\"url(#p8e7af75aec)\">\n    <image xlink:href=\"data:image/png;base64,\niVBORw0KGgoAAAANSUhEUgAAAIUAAACFCAYAAAB12js8AAACNklEQVR4nO3dMUosSwCG0ep2UEwMxCW4AgOX6g7MBPdiIJi4AAMRo0HUuQv4opqHPu7cc/Kf6uCzkqbHZYyxG7/k/Px8evP6+voDT1IXFxe/cs4YY7y/v09vPj4+9jprWZbpzbrXSRw0URCiIERBiIIQBSEKQhSEKAhREKIgREEs4xdfiPF3cFMQoiBEQYiCEAUhCkIUhCgIURCiIERBiIIQBbFZ1/kuvr+/f+BR/h1nZ2fTm30/G9xut9MbNwUhCkIUhCgIURCiIERBiIIQBSEKQhSEKIhlXdfpzwa9EPtvjo6OfmUzxhi73fxXoW4KQhSEKAhREKIgREGIghAFIQpCFIQoCFEQfkfzwJ2cnExv3BSEKAhREKIgREGIghAFIQpCFIQoCFEQoiBEQWz+7wfgZ319fU1v3BSEKAhREKIgREGIghAFIQpCFIQoCFEQoiC8EDtwy7JMb9wUhCgIURCiIERBiIIQBSEKQhSEKAhREKIgNjc3N9Oj4+PjvQ67vLyc3lxfX09vTk9PpzcPDw/TmzHGuL+/n97c3d1Nb9Z1v7/fz8/P+bP2OomDJgpCFIQoCFEQoiBEQYiCEAUhCkIUhCiIzePj4/To6upqr8NeXl6mN7e3t9Obt7e36c3z8/P0Zowxttvt9Ga3m/9ffk9PT9Obfc9yUxCiIERBiIIQBSEKQhSEKAhREKIgREGIghAFsYwx5l+jcdDcFIQoCFEQoiBEQYiCEAUhCkIUhCgIURCiIP4AXSxGRvhZw2IAAAAASUVORK5CYII=\" id=\"imagef6f2794085\" transform=\"scale(1 -1) translate(0 -95.76)\" x=\"121.988571\" y=\"-29.108571\" width=\"95.76\" height=\"95.76\"/>\n   </g>\n  </g>\n  <g id=\"axes_3\">\n   <g clip-path=\"url(#p78ce6355f3)\">\n    <image xlink:href=\"data:image/png;base64,\niVBORw0KGgoAAAANSUhEUgAAAIUAAACFCAYAAAB12js8AAACVUlEQVR4nO3dMUpcUQCG0TcxDFoK2oyNW7C0s7MQwS0IbsU92bgDKxsbC0FsR+0sBLOAr7oPYxJzTv9zH/Jxm8vgYpqmj+kvtre3N7x5enr6DV/yeba3t4c3Gxsbs85ar9fDmx+zTuJbEwUhCkIUhCgIURCiIERBiIIQBSEKQhTEYvrLH8S+o8ViMbxZrVazznp9fR3euCkIURCiIERBiIIQBSEKQhSEKAhREKIgREGIgvj5pz/gf/Tx8XUP08vlcnjjpiBEQYiCEAUhCkIUhCgIURCiIERBiIIQBeFng/+Izc3NWbudnZ3hjZuCEAUhCkIUhCgIURCiIERBiIIQBSEKQhSEX4j9I46Pj2ft3t/fhzduCkIUhCgIURCiIERBiIIQBSEKQhSEKAhREKIgvJL+Aaenp8Obk5OTWWddX18Pb9wUhCgIURCiIERBiIIQBSEKQhSEKAhREKIgvuWD2NbW1vDm4OBg1lnn5+fDm4uLi+HN1dXV8Gaapunm5mZ446YgREGIghAFIQpCFIQoCFEQoiBEQYiCEAUx6x/LnZ2dzTrs6OhoePPy8jK8ubu7G97s7u4Ob6Zp3t/i8fFxeHN5eTm8maZpur+/H964KQhREKIgREGIghAFIQpCFIQoCFEQoiBEQSyWy+Xwg9jh4eGsw56fn4c3t7e3s876Kvv7+8Obh4eHT/+Oz+SmIERBiIIQBSEKQhSEKAhREKIgREGIghAFIQpisVqthl9J397eZh22Xq9n7fhabgpCFIQoCFEQoiBEQYiCEAUhCkIUhCgIURC/AI9nQOXu1SH4AAAAAElFTkSuQmCC\" id=\"image7580872683\" transform=\"scale(1 -1) translate(0 -95.76)\" x=\"236.777143\" y=\"-29.108571\" width=\"95.76\" height=\"95.76\"/>\n   </g>\n  </g>\n  <g id=\"axes_4\">\n   <g clip-path=\"url(#pea551edf7d)\">\n    <image xlink:href=\"data:image/png;base64,\niVBORw0KGgoAAAANSUhEUgAAAIUAAACFCAYAAAB12js8AAACHElEQVR4nO3dIU6jQQCG4f6bNWBx2N4Cwwk4AUkth+AChBNgOAGyopcBicEiSIpg5Yp3zcxmuw15Hv9lKt6MmfzpslqtvlZH7ObmZnjz8PAwvFmWZXjzXf343z+A4yMKQhSEKAhREKIgREGIghAFIQpCFIQoiGV15A9iMz4/P4c3t7e3U2fd399P7Y6Zm4IQBSEKQhSEKAhREKIgREGIghAFIQpCFIQoiG/5Snp9fT28eXx8nDprvV4Pb15fX6fOOhQ3BSEKQhSEKAhREKIgREGIghAFIQpCFIQoiG/5IDZjt9tN7U5PT4c3l5eXU2cdipuCEAUhCkIUhCgIURCiIERBiIIQBSEKQhSEB7G/9Pb2Nry5uLgY3jw/Pw9vZrkpCFEQoiBEQYiCEAUhCkIUhCgIURCiIERBiIJYzs7Ohl9J39/fpw7b7/dTu2N2d3c3vDk/Px/ebDab4c0sNwUhCkIUhCgIURCiIERBiIIQBSEKQhSEKIhlvV4PP4gtyzJ12CE/fTtm2+12eHN1dfUPfsmfuSkIURCiIERBiIIQBSEKQhSEKAhREKIgREH8fHl5GR7NfOHEb09PT8Obk5OTqbM+Pj6GN24KQhSEKAhREKIgREGIghAFIQpCFIQoCFEQ/liOcFMQoiBEQYiCEAUhCkIUhCgIURCiIERBiIIQBSEKQhSEKAhREKIgREGIghAFIQpCFIQoCFEQoiB+AfTMN+OkJxheAAAAAElFTkSuQmCC\" id=\"image9c6c37de63\" transform=\"scale(1 -1) translate(0 -95.76)\" x=\"351.565714\" y=\"-29.108571\" width=\"95.76\" height=\"95.76\"/>\n   </g>\n  </g>\n  <g id=\"axes_5\">\n   <g clip-path=\"url(#p5a9b7cd033)\">\n    <image xlink:href=\"data:image/png;base64,\niVBORw0KGgoAAAANSUhEUgAAAIUAAACFCAYAAAB12js8AAACNklEQVR4nO3dPUolQQBG0XoPxT9MxEg00Ehwf25MA1fiBsTAWEQD0YmHG1UNiAzn5B+VXCppunszxvge/HpHR0dLu7e3t+nNdukk/muiIERBiIIQBSEKQhSEKAhREKIgREGIgtiMhQdi2+1aS19fX0s71u3t7U1v3BSEKAhREKIgREGIghAFIQpCFIQoCFEQoiBEQWy22+30U9KVJ29jjPH+/r6042e5KQhREKIgREGIghAFIQpCFIQoCFEQoiBEQSy9Nri7u7t02P7+/vTm9fV16SzWuSkIURCiIERBiIIQBSEKQhSEKAhREKIgREEsvSH2k9/D3Gw205vvb//K+xduCkIUhCgIURCiIERBiIIQBSEKQhSEKAhREKIgdq6vr6dHBwcHS4ddXl5Oby4uLqY3Hx8f05unp6fpzRhj3N/fL+1+MzcFIQpCFIQoCFEQoiBEQYiCEAUhCkIUhCiIndvb2+nRzc3N0mFXV1fTm5OTk+nNy8vL9Obu7m56M8YYDw8P05vPz8+ls36Km4IQBSEKQhSEKAhREKIgREGIghAFIQpCFMSv/44mP89NQYiCEAUhCkIUhCgIURCiIERBiIIQBSEKYjPG8Bc2/uKmIERBiIIQBSEKQhSEKAhREKIgREGIghAFIQpi5/z8fHp0eHi4dNh2O9/g6enp9Obs7Gx6c3x8PL0ZY4zNZjO9eX5+nt48Pj5Ob8ZY+2Gem4IQBSEKQhSEKAhREKIgREGIghAFIQpCFMQfPfg7h6S/aWMAAAAASUVORK5CYII=\" id=\"imageedc50b8c37\" transform=\"scale(1 -1) translate(0 -95.76)\" x=\"466.354286\" y=\"-29.108571\" width=\"95.76\" height=\"95.76\"/>\n   </g>\n  </g>\n  <g id=\"axes_6\">\n   <g clip-path=\"url(#p1a64edd653)\">\n    <image xlink:href=\"data:image/png;base64,\niVBORw0KGgoAAAANSUhEUgAAAIUAAACFCAYAAAB12js8AAAB+UlEQVR4nO3ZoU1tQRhG0f/egAMBIZRAqABDF3REKZSCxdAEComDkMsrYBvmCHgha/kvc8Q+Y2Z3enr6NYsuLy9XJzMz8/7+vrx5eXnZdBbb7X/7A/j/iIIQBSEKQhSEKAhREKIgREGIghAFIQpiNzPLD2L7/baWDofDph0/y01BiIIQBSEKQhSEKAhREKIgREGIghAFIQpCFMSmV1L+NjcFIQpCFIQoCFEQoiBEQYiCEAUhCkIUhCgIURCiIERBiIIQBSEKQhSEKAhREKIgREGIghAFIQpCFIQoCFEQoiBEQYiCEAUhCkIUhCgIURCiIERBiIIQBSEKQhSEKAhREKIgREGIghAFIQpCFIQoiKPf/gC+5+zsbNPu6upqeeOmIERBiIIQBSEKQhSEKAhREKIgREGIghAFcXR9fb08ur293XTY3d3d8ubm5mZ5c3Fxsbz5+PhY3szMPD8/L28eHh5+5JyZmf1+/b93UxCiIERBiIIQBSEKQhSEKAhREKIgREGIgtjd399/rY7Oz883HXZycrK8ORwOy5u3t7flzevr6/JmZubp6Wl58/j4uLz5/Pxc3szMHB8fL2/cFIQoCFEQoiBEQYiCEAUhCkIUhCgIURCiIERB7GZm+ZWUv81NQYiCEAUhCkIUhCgIURCiIERBiIIQBSEK4h8kcS5nB3UZNgAAAABJRU5ErkJggg==\" id=\"imagea24bf663db\" transform=\"scale(1 -1) translate(0 -95.76)\" x=\"581.142857\" y=\"-29.108571\" width=\"95.76\" height=\"95.76\"/>\n   </g>\n  </g>\n  <g id=\"text_1\">\n   <!-- Activations after Conv2 -->\n   <g transform=\"translate(260.995313 16.318125) scale(0.12 -0.12)\">\n    <defs>\n     <path id=\"DejaVuSans-41\" d=\"M 2188 4044 \nL 1331 1722 \nL 3047 1722 \nL 2188 4044 \nz\nM 1831 4666 \nL 2547 4666 \nL 4325 0 \nL 3669 0 \nL 3244 1197 \nL 1141 1197 \nL 716 0 \nL 50 0 \nL 1831 4666 \nz\n\" transform=\"scale(0.015625)\"/>\n     <path id=\"DejaVuSans-63\" d=\"M 3122 3366 \nL 3122 2828 \nQ 2878 2963 2633 3030 \nQ 2388 3097 2138 3097 \nQ 1578 3097 1268 2742 \nQ 959 2388 959 1747 \nQ 959 1106 1268 751 \nQ 1578 397 2138 397 \nQ 2388 397 2633 464 \nQ 2878 531 3122 666 \nL 3122 134 \nQ 2881 22 2623 -34 \nQ 2366 -91 2075 -91 \nQ 1284 -91 818 406 \nQ 353 903 353 1747 \nQ 353 2603 823 3093 \nQ 1294 3584 2113 3584 \nQ 2378 3584 2631 3529 \nQ 2884 3475 3122 3366 \nz\n\" transform=\"scale(0.015625)\"/>\n     <path id=\"DejaVuSans-74\" d=\"M 1172 4494 \nL 1172 3500 \nL 2356 3500 \nL 2356 3053 \nL 1172 3053 \nL 1172 1153 \nQ 1172 725 1289 603 \nQ 1406 481 1766 481 \nL 2356 481 \nL 2356 0 \nL 1766 0 \nQ 1100 0 847 248 \nQ 594 497 594 1153 \nL 594 3053 \nL 172 3053 \nL 172 3500 \nL 594 3500 \nL 594 4494 \nL 1172 4494 \nz\n\" transform=\"scale(0.015625)\"/>\n     <path id=\"DejaVuSans-69\" d=\"M 603 3500 \nL 1178 3500 \nL 1178 0 \nL 603 0 \nL 603 3500 \nz\nM 603 4863 \nL 1178 4863 \nL 1178 4134 \nL 603 4134 \nL 603 4863 \nz\n\" transform=\"scale(0.015625)\"/>\n     <path id=\"DejaVuSans-76\" d=\"M 191 3500 \nL 800 3500 \nL 1894 563 \nL 2988 3500 \nL 3597 3500 \nL 2284 0 \nL 1503 0 \nL 191 3500 \nz\n\" transform=\"scale(0.015625)\"/>\n     <path id=\"DejaVuSans-61\" d=\"M 2194 1759 \nQ 1497 1759 1228 1600 \nQ 959 1441 959 1056 \nQ 959 750 1161 570 \nQ 1363 391 1709 391 \nQ 2188 391 2477 730 \nQ 2766 1069 2766 1631 \nL 2766 1759 \nL 2194 1759 \nz\nM 3341 1997 \nL 3341 0 \nL 2766 0 \nL 2766 531 \nQ 2569 213 2275 61 \nQ 1981 -91 1556 -91 \nQ 1019 -91 701 211 \nQ 384 513 384 1019 \nQ 384 1609 779 1909 \nQ 1175 2209 1959 2209 \nL 2766 2209 \nL 2766 2266 \nQ 2766 2663 2505 2880 \nQ 2244 3097 1772 3097 \nQ 1472 3097 1187 3025 \nQ 903 2953 641 2809 \nL 641 3341 \nQ 956 3463 1253 3523 \nQ 1550 3584 1831 3584 \nQ 2591 3584 2966 3190 \nQ 3341 2797 3341 1997 \nz\n\" transform=\"scale(0.015625)\"/>\n     <path id=\"DejaVuSans-6f\" d=\"M 1959 3097 \nQ 1497 3097 1228 2736 \nQ 959 2375 959 1747 \nQ 959 1119 1226 758 \nQ 1494 397 1959 397 \nQ 2419 397 2687 759 \nQ 2956 1122 2956 1747 \nQ 2956 2369 2687 2733 \nQ 2419 3097 1959 3097 \nz\nM 1959 3584 \nQ 2709 3584 3137 3096 \nQ 3566 2609 3566 1747 \nQ 3566 888 3137 398 \nQ 2709 -91 1959 -91 \nQ 1206 -91 779 398 \nQ 353 888 353 1747 \nQ 353 2609 779 3096 \nQ 1206 3584 1959 3584 \nz\n\" transform=\"scale(0.015625)\"/>\n     <path id=\"DejaVuSans-6e\" d=\"M 3513 2113 \nL 3513 0 \nL 2938 0 \nL 2938 2094 \nQ 2938 2591 2744 2837 \nQ 2550 3084 2163 3084 \nQ 1697 3084 1428 2787 \nQ 1159 2491 1159 1978 \nL 1159 0 \nL 581 0 \nL 581 3500 \nL 1159 3500 \nL 1159 2956 \nQ 1366 3272 1645 3428 \nQ 1925 3584 2291 3584 \nQ 2894 3584 3203 3211 \nQ 3513 2838 3513 2113 \nz\n\" transform=\"scale(0.015625)\"/>\n     <path id=\"DejaVuSans-73\" d=\"M 2834 3397 \nL 2834 2853 \nQ 2591 2978 2328 3040 \nQ 2066 3103 1784 3103 \nQ 1356 3103 1142 2972 \nQ 928 2841 928 2578 \nQ 928 2378 1081 2264 \nQ 1234 2150 1697 2047 \nL 1894 2003 \nQ 2506 1872 2764 1633 \nQ 3022 1394 3022 966 \nQ 3022 478 2636 193 \nQ 2250 -91 1575 -91 \nQ 1294 -91 989 -36 \nQ 684 19 347 128 \nL 347 722 \nQ 666 556 975 473 \nQ 1284 391 1588 391 \nQ 1994 391 2212 530 \nQ 2431 669 2431 922 \nQ 2431 1156 2273 1281 \nQ 2116 1406 1581 1522 \nL 1381 1569 \nQ 847 1681 609 1914 \nQ 372 2147 372 2553 \nQ 372 3047 722 3315 \nQ 1072 3584 1716 3584 \nQ 2034 3584 2315 3537 \nQ 2597 3491 2834 3397 \nz\n\" transform=\"scale(0.015625)\"/>\n     <path id=\"DejaVuSans-20\" transform=\"scale(0.015625)\"/>\n     <path id=\"DejaVuSans-66\" d=\"M 2375 4863 \nL 2375 4384 \nL 1825 4384 \nQ 1516 4384 1395 4259 \nQ 1275 4134 1275 3809 \nL 1275 3500 \nL 2222 3500 \nL 2222 3053 \nL 1275 3053 \nL 1275 0 \nL 697 0 \nL 697 3053 \nL 147 3053 \nL 147 3500 \nL 697 3500 \nL 697 3744 \nQ 697 4328 969 4595 \nQ 1241 4863 1831 4863 \nL 2375 4863 \nz\n\" transform=\"scale(0.015625)\"/>\n     <path id=\"DejaVuSans-65\" d=\"M 3597 1894 \nL 3597 1613 \nL 953 1613 \nQ 991 1019 1311 708 \nQ 1631 397 2203 397 \nQ 2534 397 2845 478 \nQ 3156 559 3463 722 \nL 3463 178 \nQ 3153 47 2828 -22 \nQ 2503 -91 2169 -91 \nQ 1331 -91 842 396 \nQ 353 884 353 1716 \nQ 353 2575 817 3079 \nQ 1281 3584 2069 3584 \nQ 2775 3584 3186 3129 \nQ 3597 2675 3597 1894 \nz\nM 3022 2063 \nQ 3016 2534 2758 2815 \nQ 2500 3097 2075 3097 \nQ 1594 3097 1305 2825 \nQ 1016 2553 972 2059 \nL 3022 2063 \nz\n\" transform=\"scale(0.015625)\"/>\n     <path id=\"DejaVuSans-72\" d=\"M 2631 2963 \nQ 2534 3019 2420 3045 \nQ 2306 3072 2169 3072 \nQ 1681 3072 1420 2755 \nQ 1159 2438 1159 1844 \nL 1159 0 \nL 581 0 \nL 581 3500 \nL 1159 3500 \nL 1159 2956 \nQ 1341 3275 1631 3429 \nQ 1922 3584 2338 3584 \nQ 2397 3584 2469 3576 \nQ 2541 3569 2628 3553 \nL 2631 2963 \nz\n\" transform=\"scale(0.015625)\"/>\n     <path id=\"DejaVuSans-43\" d=\"M 4122 4306 \nL 4122 3641 \nQ 3803 3938 3442 4084 \nQ 3081 4231 2675 4231 \nQ 1875 4231 1450 3742 \nQ 1025 3253 1025 2328 \nQ 1025 1406 1450 917 \nQ 1875 428 2675 428 \nQ 3081 428 3442 575 \nQ 3803 722 4122 1019 \nL 4122 359 \nQ 3791 134 3420 21 \nQ 3050 -91 2638 -91 \nQ 1578 -91 968 557 \nQ 359 1206 359 2328 \nQ 359 3453 968 4101 \nQ 1578 4750 2638 4750 \nQ 3056 4750 3426 4639 \nQ 3797 4528 4122 4306 \nz\n\" transform=\"scale(0.015625)\"/>\n     <path id=\"DejaVuSans-32\" d=\"M 1228 531 \nL 3431 531 \nL 3431 0 \nL 469 0 \nL 469 531 \nQ 828 903 1448 1529 \nQ 2069 2156 2228 2338 \nQ 2531 2678 2651 2914 \nQ 2772 3150 2772 3378 \nQ 2772 3750 2511 3984 \nQ 2250 4219 1831 4219 \nQ 1534 4219 1204 4116 \nQ 875 4013 500 3803 \nL 500 4441 \nQ 881 4594 1212 4672 \nQ 1544 4750 1819 4750 \nQ 2544 4750 2975 4387 \nQ 3406 4025 3406 3419 \nQ 3406 3131 3298 2873 \nQ 3191 2616 2906 2266 \nQ 2828 2175 2409 1742 \nQ 1991 1309 1228 531 \nz\n\" transform=\"scale(0.015625)\"/>\n    </defs>\n    <use xlink:href=\"#DejaVuSans-41\"/>\n    <use xlink:href=\"#DejaVuSans-63\" x=\"66.658203\"/>\n    <use xlink:href=\"#DejaVuSans-74\" x=\"121.638672\"/>\n    <use xlink:href=\"#DejaVuSans-69\" x=\"160.847656\"/>\n    <use xlink:href=\"#DejaVuSans-76\" x=\"188.630859\"/>\n    <use xlink:href=\"#DejaVuSans-61\" x=\"247.810547\"/>\n    <use xlink:href=\"#DejaVuSans-74\" x=\"309.089844\"/>\n    <use xlink:href=\"#DejaVuSans-69\" x=\"348.298828\"/>\n    <use xlink:href=\"#DejaVuSans-6f\" x=\"376.082031\"/>\n    <use xlink:href=\"#DejaVuSans-6e\" x=\"437.263672\"/>\n    <use xlink:href=\"#DejaVuSans-73\" x=\"500.642578\"/>\n    <use xlink:href=\"#DejaVuSans-20\" x=\"552.742188\"/>\n    <use xlink:href=\"#DejaVuSans-61\" x=\"584.529297\"/>\n    <use xlink:href=\"#DejaVuSans-66\" x=\"645.808594\"/>\n    <use xlink:href=\"#DejaVuSans-74\" x=\"679.263672\"/>\n    <use xlink:href=\"#DejaVuSans-65\" x=\"718.472656\"/>\n    <use xlink:href=\"#DejaVuSans-72\" x=\"779.996094\"/>\n    <use xlink:href=\"#DejaVuSans-20\" x=\"821.109375\"/>\n    <use xlink:href=\"#DejaVuSans-43\" x=\"852.896484\"/>\n    <use xlink:href=\"#DejaVuSans-6f\" x=\"922.720703\"/>\n    <use xlink:href=\"#DejaVuSans-6e\" x=\"983.902344\"/>\n    <use xlink:href=\"#DejaVuSans-76\" x=\"1047.28125\"/>\n    <use xlink:href=\"#DejaVuSans-32\" x=\"1106.460938\"/>\n   </g>\n  </g>\n </g>\n <defs>\n  <clipPath id=\"pb5a2c2c428\">\n   <rect x=\"7.2\" y=\"29.211429\" width=\"95.657143\" height=\"95.657143\"/>\n  </clipPath>\n  <clipPath id=\"p8e7af75aec\">\n   <rect x=\"121.988571\" y=\"29.211429\" width=\"95.657143\" height=\"95.657143\"/>\n  </clipPath>\n  <clipPath id=\"p78ce6355f3\">\n   <rect x=\"236.777143\" y=\"29.211429\" width=\"95.657143\" height=\"95.657143\"/>\n  </clipPath>\n  <clipPath id=\"pea551edf7d\">\n   <rect x=\"351.565714\" y=\"29.211429\" width=\"95.657143\" height=\"95.657143\"/>\n  </clipPath>\n  <clipPath id=\"p5a9b7cd033\">\n   <rect x=\"466.354286\" y=\"29.211429\" width=\"95.657143\" height=\"95.657143\"/>\n  </clipPath>\n  <clipPath id=\"p1a64edd653\">\n   <rect x=\"581.142857\" y=\"29.211429\" width=\"95.657143\" height=\"95.657143\"/>\n  </clipPath>\n </defs>\n</svg>\n"
          },
          "metadata": {}
        }
      ]
    },
    {
      "cell_type": "markdown",
      "id": "4f396baf",
      "metadata": {
        "origin_pos": 20,
        "id": "4f396baf"
      },
      "source": [
        "## Summary\n",
        "\n",
        "We have made significant progress in this chapter. We moved from the MLPs of the 1980s to the CNNs of the 1990s and early 2000s. The architectures proposed, e.g., in the form of LeNet-5 remain meaningful, even to this day. It is worth comparing the error rates on Fashion-MNIST achievable with LeNet-5 both to the very best possible with MLPs (:numref:`sec_mlp-implementation`) and those with significantly more advanced architectures such as ResNet (:numref:`sec_resnet`). LeNet is much more similar to the latter than to the former. One of the primary differences, as we shall see, is that greater amounts of computation enabled significantly more complex architectures.\n",
        "\n",
        "A second difference is the relative ease with which we were able to implement LeNet. What used to be an engineering challenge worth months of C++ and assembly code, engineering to improve SN, an early Lisp-based deep learning tool :cite:`Bottou.Le-Cun.1988`, and finally experimentation with models can now be accomplished in minutes. It is this incredible productivity boost that has democratized deep learning model development tremendously. In the next chapter we will journey down this rabbit to hole to see where it takes us.\n",
        "\n",
        "## Exercises\n",
        "\n",
        "1. Let's modernize LeNet. Implement and test the following changes:\n",
        "    1. Replace average pooling with max-pooling.\n",
        "    1. Replace the softmax layer with ReLU.\n",
        "1. Try to change the size of the LeNet style network to improve its accuracy in addition to max-pooling and ReLU.\n",
        "    1. Adjust the convolution window size.\n",
        "    1. Adjust the number of output channels.\n",
        "    1. Adjust the number of convolution layers.\n",
        "    1. Adjust the number of fully connected layers.\n",
        "    1. Adjust the learning rates and other training details (e.g., initialization and number of epochs).\n",
        "1. Try out the improved network on the original MNIST dataset.\n",
        "1. Display the activations of the first and second layer of LeNet for different inputs (e.g., sweaters and coats).\n",
        "1. What happens to the activations when you feed significantly different images into the network (e.g., cats, cars, or even random noise)?\n"
      ]
    },
    {
      "cell_type": "markdown",
      "id": "44e195cb",
      "metadata": {
        "origin_pos": 22,
        "tab": [
          "pytorch"
        ],
        "id": "44e195cb"
      },
      "source": [
        "[Discussions](https://discuss.d2l.ai/t/74)\n"
      ]
    }
  ],
  "metadata": {
    "accelerator": "GPU",
    "kernelspec": {
      "display_name": "Python 3",
      "name": "python3"
    },
    "language_info": {
      "name": "python"
    },
    "required_libs": [],
    "colab": {
      "provenance": []
    }
  },
  "nbformat": 4,
  "nbformat_minor": 5
}
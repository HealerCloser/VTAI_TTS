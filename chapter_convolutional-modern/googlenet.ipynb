{
  "cells": [
    {
      "cell_type": "markdown",
      "id": "2835de1c",
      "metadata": {
        "id": "2835de1c"
      },
      "source": [
        "The following additional libraries are needed to run this\n",
        "notebook. Note that running on Colab is experimental, please report a Github\n",
        "issue if you have any problem."
      ]
    },
    {
      "cell_type": "code",
      "execution_count": null,
      "id": "4a4e9609",
      "metadata": {
        "id": "4a4e9609"
      },
      "outputs": [],
      "source": [
        "!pip install d2l==1.0.3\n"
      ]
    },
    {
      "cell_type": "markdown",
      "id": "8979a666",
      "metadata": {
        "origin_pos": 1,
        "id": "8979a666"
      },
      "source": [
        "# Multi-Branch Networks  (GoogLeNet)\n",
        ":label:`sec_googlenet`\n",
        "\n",
        "In 2014, *GoogLeNet*\n",
        "won the ImageNet Challenge :cite:`Szegedy.Liu.Jia.ea.2015`, using a structure\n",
        "that combined the strengths of NiN :cite:`Lin.Chen.Yan.2013`, repeated blocks :cite:`Simonyan.Zisserman.2014`,\n",
        "and a cocktail of convolution kernels. It was arguably also the first network that exhibited a clear distinction among the stem (data ingest), body (data processing), and head (prediction) in a CNN. This design pattern has persisted ever since in the design of deep networks: the *stem* is given by the first two or three convolutions that operate on the image. They extract low-level features from the underlying images. This is followed by a *body* of convolutional blocks. Finally, the *head* maps the features obtained so far to the required classification, segmentation, detection, or tracking problem at hand.\n",
        "\n",
        "The key contribution in GoogLeNet was the design of the network body. It solved the problem of selecting\n",
        "convolution kernels in an ingenious way. While other works tried to identify which convolution, ranging from $1 \\times 1$ to $11 \\times 11$ would be best, it simply *concatenated* multi-branch convolutions.\n",
        "In what follows we introduce a slightly simplified version of GoogLeNet: the original design included a number of tricks for stabilizing training through intermediate loss functions, applied to multiple layers of the network.\n",
        "They are no longer necessary due to the availability of improved training algorithms.\n"
      ]
    },
    {
      "cell_type": "code",
      "execution_count": null,
      "id": "066f8e89",
      "metadata": {
        "execution": {
          "iopub.execute_input": "2023-08-18T20:12:43.017176Z",
          "iopub.status.busy": "2023-08-18T20:12:43.016624Z",
          "iopub.status.idle": "2023-08-18T20:12:46.230431Z",
          "shell.execute_reply": "2023-08-18T20:12:46.228850Z"
        },
        "origin_pos": 3,
        "tab": [
          "pytorch"
        ],
        "id": "066f8e89"
      },
      "outputs": [],
      "source": [
        "import torch\n",
        "from torch import nn\n",
        "from torch.nn import functional as F\n",
        "from d2l import torch as d2l"
      ]
    },
    {
      "cell_type": "markdown",
      "id": "fd207136",
      "metadata": {
        "origin_pos": 6,
        "id": "fd207136"
      },
      "source": [
        "## (**Inception Blocks**)\n",
        "\n",
        "The basic convolutional block in GoogLeNet is called an *Inception block*,\n",
        "stemming from the meme \"we need to go deeper\" from the movie *Inception*.\n",
        "\n",
        "![Structure of the Inception block.](http://d2l.ai/_images/inception.svg)\n",
        ":label:`fig_inception`\n",
        "\n",
        "As depicted in :numref:`fig_inception`,\n",
        "the inception block consists of four parallel branches.\n",
        "The first three branches use convolutional layers\n",
        "with window sizes of $1\\times 1$, $3\\times 3$, and $5\\times 5$\n",
        "to extract information from different spatial sizes.\n",
        "The middle two branches also add a $1\\times 1$ convolution of the input\n",
        "to reduce the number of channels, reducing the model's complexity.\n",
        "The fourth branch uses a $3\\times 3$ max-pooling layer,\n",
        "followed by a $1\\times 1$ convolutional layer\n",
        "to change the number of channels.\n",
        "The four branches all use appropriate padding to give the input and output the same height and width.\n",
        "Finally, the outputs along each branch are concatenated\n",
        "along the channel dimension and comprise the block's output.\n",
        "The commonly-tuned hyperparameters of the Inception block\n",
        "are the number of output channels per layer, i.e., how to allocate capacity among convolutions of different size.\n"
      ]
    },
    {
      "cell_type": "code",
      "execution_count": null,
      "id": "7deda9e0",
      "metadata": {
        "execution": {
          "iopub.execute_input": "2023-08-18T20:12:46.235999Z",
          "iopub.status.busy": "2023-08-18T20:12:46.235477Z",
          "iopub.status.idle": "2023-08-18T20:12:46.245899Z",
          "shell.execute_reply": "2023-08-18T20:12:46.244271Z"
        },
        "origin_pos": 8,
        "tab": [
          "pytorch"
        ],
        "id": "7deda9e0"
      },
      "outputs": [],
      "source": [
        "class Inception(nn.Module):\n",
        "    # c1--c4 are the number of output channels for each branch\n",
        "    def __init__(self, c1, c2, c3, c4, **kwargs):\n",
        "        super(Inception, self).__init__(**kwargs)\n",
        "        # Branch 1\n",
        "        self.b1_1 = nn.LazyConv2d(c1, kernel_size=1)\n",
        "        # Branch 2\n",
        "        self.b2_1 = nn.LazyConv2d(c2[0], kernel_size=1)\n",
        "        self.b2_2 = nn.LazyConv2d(c2[1], kernel_size=3, padding=1)\n",
        "        # Branch 3\n",
        "        self.b3_1 = nn.LazyConv2d(c3[0], kernel_size=1)\n",
        "        self.b3_2 = nn.LazyConv2d(c3[1], kernel_size=5, padding=2)\n",
        "        # Branch 4\n",
        "        self.b4_1 = nn.MaxPool2d(kernel_size=3, stride=1, padding=1)\n",
        "        self.b4_2 = nn.LazyConv2d(c4, kernel_size=1)\n",
        "\n",
        "    def forward(self, x):\n",
        "        b1 = F.relu(self.b1_1(x))\n",
        "        b2 = F.relu(self.b2_2(F.relu(self.b2_1(x))))\n",
        "        b3 = F.relu(self.b3_2(F.relu(self.b3_1(x))))\n",
        "        b4 = F.relu(self.b4_2(self.b4_1(x)))\n",
        "        return torch.cat((b1, b2, b3, b4), dim=1)"
      ]
    },
    {
      "cell_type": "markdown",
      "id": "2a943308",
      "metadata": {
        "origin_pos": 11,
        "id": "2a943308"
      },
      "source": [
        "To gain some intuition for why this network works so well,\n",
        "consider the combination of the filters.\n",
        "They explore the image in a variety of filter sizes.\n",
        "This means that details at different extents\n",
        "can be recognized efficiently by filters of different sizes.\n",
        "At the same time, we can allocate different amounts of parameters\n",
        "for different filters.\n",
        "\n",
        "\n",
        "## [**GoogLeNet Model**]\n",
        "\n",
        "As shown in :numref:`fig_inception_full`, GoogLeNet uses a stack of a total of 9 inception blocks, arranged into three groups with max-pooling in between,\n",
        "and global average pooling in its head to generate its estimates.\n",
        "Max-pooling between inception blocks reduces the dimensionality.\n",
        "At its stem, the first module is similar to AlexNet and LeNet.\n",
        "\n",
        "![The GoogLeNet architecture.](https://github.com/d2l-ai/d2l-pytorch-colab/blob/master/img/inception-full-90.svg?raw=1)\n",
        ":label:`fig_inception_full`\n",
        "\n",
        "We can now implement GoogLeNet piece by piece. Let's begin with the stem.\n",
        "The first module uses a 64-channel $7\\times 7$ convolutional layer.\n"
      ]
    },
    {
      "cell_type": "code",
      "execution_count": null,
      "id": "95b8f516",
      "metadata": {
        "execution": {
          "iopub.execute_input": "2023-08-18T20:12:46.250221Z",
          "iopub.status.busy": "2023-08-18T20:12:46.249461Z",
          "iopub.status.idle": "2023-08-18T20:12:46.255915Z",
          "shell.execute_reply": "2023-08-18T20:12:46.254721Z"
        },
        "origin_pos": 12,
        "tab": [
          "pytorch"
        ],
        "id": "95b8f516"
      },
      "outputs": [],
      "source": [
        "class GoogleNet(d2l.Classifier):\n",
        "    def b1(self):\n",
        "        return nn.Sequential(\n",
        "            nn.LazyConv2d(64, kernel_size=7, stride=2, padding=3),\n",
        "            nn.ReLU(), nn.MaxPool2d(kernel_size=3, stride=2, padding=1))"
      ]
    },
    {
      "cell_type": "markdown",
      "id": "762e20f9",
      "metadata": {
        "origin_pos": 14,
        "id": "762e20f9"
      },
      "source": [
        "The second module uses two convolutional layers:\n",
        "first, a 64-channel $1\\times 1$ convolutional layer,\n",
        "followed by a $3\\times 3$ convolutional layer that triples the number of channels. This corresponds to the second branch in the Inception block and concludes the design of the body. At this point we have 192 channels.\n"
      ]
    },
    {
      "cell_type": "code",
      "execution_count": null,
      "id": "f2f1ae36",
      "metadata": {
        "execution": {
          "iopub.execute_input": "2023-08-18T20:12:46.260637Z",
          "iopub.status.busy": "2023-08-18T20:12:46.259867Z",
          "iopub.status.idle": "2023-08-18T20:12:46.265450Z",
          "shell.execute_reply": "2023-08-18T20:12:46.264324Z"
        },
        "origin_pos": 15,
        "tab": [
          "pytorch"
        ],
        "id": "f2f1ae36"
      },
      "outputs": [],
      "source": [
        "@d2l.add_to_class(GoogleNet)\n",
        "def b2(self):\n",
        "    return nn.Sequential(\n",
        "        nn.LazyConv2d(64, kernel_size=1), nn.ReLU(),\n",
        "        nn.LazyConv2d(192, kernel_size=3, padding=1), nn.ReLU(),\n",
        "        nn.MaxPool2d(kernel_size=3, stride=2, padding=1))"
      ]
    },
    {
      "cell_type": "markdown",
      "id": "dcc6272e",
      "metadata": {
        "origin_pos": 16,
        "id": "dcc6272e"
      },
      "source": [
        "The third module connects two complete Inception blocks in series.\n",
        "The number of output channels of the first Inception block is\n",
        "$64+128+32+32=256$. This amounts to\n",
        "a ratio of the number of output channels\n",
        "among the four branches of $2:4:1:1$. To achieve this, we first reduce the input\n",
        "dimensions by $\\frac{1}{2}$ and by $\\frac{1}{12}$ in the second and third branch respectively\n",
        "to arrive at $96 = 192/2$ and $16 = 192/12$ channels respectively.\n",
        "\n",
        "The number of output channels of the second Inception block\n",
        "is increased to $128+192+96+64=480$, yielding a ratio of $128:192:96:64 = 4:6:3:2$. As before,\n",
        "we need to reduce the number of intermediate dimensions in the second and third channel. A\n",
        "scale of $\\frac{1}{2}$ and $\\frac{1}{8}$ respectively suffices, yielding $128$ and $32$ channels\n",
        "respectively. This is captured by the arguments of the following `Inception` block constructors.\n"
      ]
    },
    {
      "cell_type": "code",
      "execution_count": null,
      "id": "33a37805",
      "metadata": {
        "execution": {
          "iopub.execute_input": "2023-08-18T20:12:46.269744Z",
          "iopub.status.busy": "2023-08-18T20:12:46.269267Z",
          "iopub.status.idle": "2023-08-18T20:12:46.276795Z",
          "shell.execute_reply": "2023-08-18T20:12:46.275528Z"
        },
        "origin_pos": 17,
        "tab": [
          "pytorch"
        ],
        "id": "33a37805"
      },
      "outputs": [],
      "source": [
        "@d2l.add_to_class(GoogleNet)\n",
        "def b3(self):\n",
        "    return nn.Sequential(Inception(64, (96, 128), (16, 32), 32),\n",
        "                         Inception(128, (128, 192), (32, 96), 64),\n",
        "                         nn.MaxPool2d(kernel_size=3, stride=2, padding=1))"
      ]
    },
    {
      "cell_type": "markdown",
      "id": "112f5cd2",
      "metadata": {
        "origin_pos": 18,
        "id": "112f5cd2"
      },
      "source": [
        "The fourth module is more complicated.\n",
        "It connects five Inception blocks in series,\n",
        "and they have $192+208+48+64=512$, $160+224+64+64=512$,\n",
        "$128+256+64+64=512$, $112+288+64+64=528$,\n",
        "and $256+320+128+128=832$ output channels, respectively.\n",
        "The number of channels assigned to these branches is similar\n",
        "to that in the third module:\n",
        "the second branch with the $3\\times 3$ convolutional layer\n",
        "outputs the largest number of channels,\n",
        "followed by the first branch with only the $1\\times 1$ convolutional layer,\n",
        "the third branch with the $5\\times 5$ convolutional layer,\n",
        "and the fourth branch with the $3\\times 3$ max-pooling layer.\n",
        "The second and third branches will first reduce\n",
        "the number of channels according to the ratio.\n",
        "These ratios are slightly different in different Inception blocks.\n"
      ]
    },
    {
      "cell_type": "code",
      "execution_count": null,
      "id": "2beb4b7a",
      "metadata": {
        "execution": {
          "iopub.execute_input": "2023-08-18T20:12:46.280409Z",
          "iopub.status.busy": "2023-08-18T20:12:46.280085Z",
          "iopub.status.idle": "2023-08-18T20:12:46.288926Z",
          "shell.execute_reply": "2023-08-18T20:12:46.287339Z"
        },
        "origin_pos": 19,
        "tab": [
          "pytorch"
        ],
        "id": "2beb4b7a"
      },
      "outputs": [],
      "source": [
        "@d2l.add_to_class(GoogleNet)\n",
        "def b4(self):\n",
        "    return nn.Sequential(Inception(192, (96, 208), (16, 48), 64),\n",
        "                         Inception(160, (112, 224), (24, 64), 64),\n",
        "                         Inception(128, (128, 256), (24, 64), 64),\n",
        "                         Inception(112, (144, 288), (32, 64), 64),\n",
        "                         Inception(256, (160, 320), (32, 128), 128),\n",
        "                         nn.MaxPool2d(kernel_size=3, stride=2, padding=1))"
      ]
    },
    {
      "cell_type": "markdown",
      "id": "703d40c6",
      "metadata": {
        "origin_pos": 20,
        "id": "703d40c6"
      },
      "source": [
        "The fifth module has two Inception blocks with $256+320+128+128=832$\n",
        "and $384+384+128+128=1024$ output channels.\n",
        "The number of channels assigned to each branch\n",
        "is the same as that in the third and fourth modules,\n",
        "but differs in specific values.\n",
        "It should be noted that the fifth block is followed by the output layer.\n",
        "This block uses the global average pooling layer\n",
        "to change the height and width of each channel to 1, just as in NiN.\n",
        "Finally, we turn the output into a two-dimensional array\n",
        "followed by a fully connected layer\n",
        "whose number of outputs is the number of label classes.\n"
      ]
    },
    {
      "cell_type": "code",
      "execution_count": null,
      "id": "8b836927",
      "metadata": {
        "execution": {
          "iopub.execute_input": "2023-08-18T20:12:46.294877Z",
          "iopub.status.busy": "2023-08-18T20:12:46.293900Z",
          "iopub.status.idle": "2023-08-18T20:12:46.301477Z",
          "shell.execute_reply": "2023-08-18T20:12:46.300150Z"
        },
        "origin_pos": 21,
        "tab": [
          "pytorch"
        ],
        "id": "8b836927"
      },
      "outputs": [],
      "source": [
        "@d2l.add_to_class(GoogleNet)\n",
        "def b5(self):\n",
        "    return nn.Sequential(Inception(256, (160, 320), (32, 128), 128),\n",
        "                         Inception(384, (192, 384), (48, 128), 128),\n",
        "                         nn.AdaptiveAvgPool2d((1,1)), nn.Flatten())"
      ]
    },
    {
      "cell_type": "markdown",
      "id": "62f89c54",
      "metadata": {
        "origin_pos": 22,
        "id": "62f89c54"
      },
      "source": [
        "Now that we defined all blocks `b1` through `b5`, it is just a matter of assembling them all into a full network.\n"
      ]
    },
    {
      "cell_type": "code",
      "execution_count": null,
      "id": "fe47c47d",
      "metadata": {
        "execution": {
          "iopub.execute_input": "2023-08-18T20:12:46.306521Z",
          "iopub.status.busy": "2023-08-18T20:12:46.305540Z",
          "iopub.status.idle": "2023-08-18T20:12:46.313597Z",
          "shell.execute_reply": "2023-08-18T20:12:46.312191Z"
        },
        "origin_pos": 23,
        "tab": [
          "pytorch"
        ],
        "id": "fe47c47d"
      },
      "outputs": [],
      "source": [
        "@d2l.add_to_class(GoogleNet)\n",
        "def __init__(self, lr=0.1, num_classes=10):\n",
        "    super(GoogleNet, self).__init__()\n",
        "    self.save_hyperparameters()\n",
        "    self.net = nn.Sequential(self.b1(), self.b2(), self.b3(), self.b4(),\n",
        "                             self.b5(), nn.LazyLinear(num_classes))\n",
        "    self.net.apply(d2l.init_cnn)"
      ]
    },
    {
      "cell_type": "markdown",
      "id": "b94378d8",
      "metadata": {
        "origin_pos": 24,
        "id": "b94378d8"
      },
      "source": [
        "The GoogLeNet model is computationally complex. Note the large number of\n",
        "relatively arbitrary hyperparameters in terms of the number of channels chosen, the number of blocks prior to dimensionality reduction, the relative partitioning of capacity across channels, etc. Much of it is due to the\n",
        "fact that at the time when GoogLeNet was introduced, automatic tools for network definition or design exploration\n",
        "were not yet available. For instance, by now we take it for granted that a competent deep learning framework is capable of inferring dimensionalities of input tensors automatically. At the time, many such configurations had to be specified explicitly by the experimenter, thus often slowing down active experimentation. Moreover, the tools needed for automatic exploration were still in flux and initial experiments largely amounted to costly brute-force exploration, genetic algorithms, and similar strategies.\n",
        "\n",
        "For now the only modification we will carry out is to\n",
        "[**reduce the input height and width from 224 to 96\n",
        "to have a reasonable training time on Fashion-MNIST.**]\n",
        "This simplifies the computation. Let's have a look at the\n",
        "changes in the shape of the output between the various modules.\n"
      ]
    },
    {
      "cell_type": "code",
      "execution_count": null,
      "id": "83b695b7",
      "metadata": {
        "execution": {
          "iopub.execute_input": "2023-08-18T20:12:46.317969Z",
          "iopub.status.busy": "2023-08-18T20:12:46.316995Z",
          "iopub.status.idle": "2023-08-18T20:12:46.501717Z",
          "shell.execute_reply": "2023-08-18T20:12:46.500827Z"
        },
        "origin_pos": 25,
        "tab": [
          "pytorch"
        ],
        "id": "83b695b7",
        "outputId": "7cdf902e-c0a0-4265-d4aa-8fdb9c3965d2"
      },
      "outputs": [
        {
          "name": "stdout",
          "output_type": "stream",
          "text": [
            "Sequential output shape:\t torch.Size([1, 64, 24, 24])\n",
            "Sequential output shape:\t torch.Size([1, 192, 12, 12])\n",
            "Sequential output shape:\t torch.Size([1, 480, 6, 6])\n",
            "Sequential output shape:\t torch.Size([1, 832, 3, 3])\n",
            "Sequential output shape:\t torch.Size([1, 1024])\n",
            "Linear output shape:\t torch.Size([1, 10])\n"
          ]
        }
      ],
      "source": [
        "model = GoogleNet().layer_summary((1, 1, 96, 96))"
      ]
    },
    {
      "cell_type": "markdown",
      "id": "2f3be870",
      "metadata": {
        "origin_pos": 27,
        "id": "2f3be870"
      },
      "source": [
        "## [**Training**]\n",
        "\n",
        "As before, we train our model using the Fashion-MNIST dataset.\n",
        " We transform it to $96 \\times 96$ pixel resolution\n",
        " before invoking the training procedure.\n"
      ]
    },
    {
      "cell_type": "code",
      "execution_count": null,
      "id": "d52cffee",
      "metadata": {
        "execution": {
          "iopub.execute_input": "2023-08-18T20:12:46.505565Z",
          "iopub.status.busy": "2023-08-18T20:12:46.504978Z",
          "iopub.status.idle": "2023-08-18T20:16:06.908422Z",
          "shell.execute_reply": "2023-08-18T20:16:06.907202Z"
        },
        "origin_pos": 28,
        "tab": [
          "pytorch"
        ],
        "id": "d52cffee",
        "outputId": "50f37059-a3a6-454a-beca-8919b714d905",
        "colab": {
          "base_uri": "https://localhost:8080/"
        }
      },
      "outputs": [
        {
          "metadata": {
            "tags": null
          },
          "name": "stderr",
          "output_type": "stream",
          "text": [
            "100%|██████████| 26.4M/26.4M [00:02<00:00, 12.4MB/s]\n",
            "100%|██████████| 29.5k/29.5k [00:00<00:00, 210kB/s]\n",
            "100%|██████████| 4.42M/4.42M [00:01<00:00, 3.11MB/s]\n",
            "100%|██████████| 5.15k/5.15k [00:00<00:00, 7.12MB/s]\n",
            "/usr/local/lib/python3.11/dist-packages/torch/utils/data/dataloader.py:624: UserWarning: This DataLoader will create 4 worker processes in total. Our suggested max number of worker in current system is 2, which is smaller than what this DataLoader is going to create. Please be aware that excessive worker creation might get DataLoader running slow or even freeze, lower the worker number to avoid potential slowness/freeze if necessary.\n",
            "  warnings.warn(\n"
          ]
        }
      ],
      "source": [
        "model = GoogleNet(lr=0.01)\n",
        "trainer = d2l.Trainer(max_epochs=10, num_gpus=1)\n",
        "data = d2l.FashionMNIST(batch_size=128, resize=(96, 96))\n",
        "model.apply_init([next(iter(data.get_dataloader(True)))[0]], d2l.init_cnn)\n",
        "trainer.fit(model, data)"
      ]
    },
    {
      "cell_type": "markdown",
      "id": "14eaa685",
      "metadata": {
        "origin_pos": 30,
        "id": "14eaa685"
      },
      "source": [
        "## Discussion\n",
        "\n",
        "A key feature of GoogLeNet is that it is actually *cheaper* to compute than its predecessors\n",
        "while simultaneously providing improved accuracy. This marks the beginning of a much more deliberate\n",
        "network design that trades off the cost of evaluating a network with a reduction in errors. It also marks the beginning of experimentation at a block level with network design hyperparameters, even though it was entirely manual at the time. We will revisit this topic in :numref:`sec_cnn-design` when discussing strategies for network structure exploration.\n",
        "\n",
        "Over the following sections we will encounter a number of design choices (e.g., batch normalization, residual connections, and channel grouping) that allow us to improve networks significantly. For now, you can be proud to have implemented what is arguably the first truly modern CNN.\n",
        "\n",
        "## Exercises\n",
        "\n",
        "1. GoogLeNet was so successful that it went through a number of iterations, progressively improving speed and accuracy. Try to implement and run some of them. They include the following:\n",
        "    1. Add a batch normalization layer :cite:`Ioffe.Szegedy.2015`, as described later in :numref:`sec_batch_norm`.\n",
        "    1. Make adjustments to the Inception block (width, choice and order of convolutions), as described in :citet:`Szegedy.Vanhoucke.Ioffe.ea.2016`.\n",
        "    1. Use label smoothing for model regularization, as described in :citet:`Szegedy.Vanhoucke.Ioffe.ea.2016`.\n",
        "    1. Make further adjustments to the Inception block by adding residual connection :cite:`Szegedy.Ioffe.Vanhoucke.ea.2017`, as described later in :numref:`sec_resnet`.\n",
        "1. What is the minimum image size needed for GoogLeNet to work?\n",
        "1. Can you design a variant of GoogLeNet that works on Fashion-MNIST's native resolution of $28 \\times 28$ pixels? How would you need to change the stem, the body, and the head of the network, if anything at all?\n",
        "1. Compare the model parameter sizes of AlexNet, VGG, NiN, and GoogLeNet. How do the latter two network\n",
        "   architectures significantly reduce the model parameter size?\n",
        "1. Compare the amount of computation needed in GoogLeNet and AlexNet. How does this affect the design of an accelerator chip, e.g., in terms of memory size, memory bandwidth, cache size, the amount of computation, and the benefit of specialized operations?\n"
      ]
    },
    {
      "cell_type": "markdown",
      "id": "1f196dce",
      "metadata": {
        "origin_pos": 32,
        "tab": [
          "pytorch"
        ],
        "id": "1f196dce"
      },
      "source": [
        "[Discussions](https://discuss.d2l.ai/t/82)\n"
      ]
    }
  ],
  "metadata": {
    "accelerator": "GPU",
    "kernelspec": {
      "display_name": "Python 3",
      "name": "python3"
    },
    "language_info": {
      "name": "python"
    },
    "required_libs": [],
    "colab": {
      "provenance": []
    }
  },
  "nbformat": 4,
  "nbformat_minor": 5
}